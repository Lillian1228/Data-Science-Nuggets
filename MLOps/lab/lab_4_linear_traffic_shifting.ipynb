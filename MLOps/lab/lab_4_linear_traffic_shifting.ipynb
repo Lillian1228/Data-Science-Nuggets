{
 "cells": [
  {
   "attachments": {},
   "cell_type": "markdown",
   "metadata": {},
   "source": [
    "# Task 2: Linear traffic shifting\n",
    "\n",
    "Linear traffic shifting follows the blue/green deployment option where the original model is hosted in a blue fleet of instances and the new model is hosted in a green fleet of instances. When you shift traffic, you can choose either the number of instances or the percentage of the green fleet's capacity to activate during each step. \n",
    "\n",
    "As soon as SageMaker provisions the new fleet, the first portion of the green fleet turns on and receives traffic. SageMaker deactivates the same size portion of the blue fleet, and the baking period begins. If any alarms trip, all of the endpoint traffic is automatically rolled back to the blue fleet. If the baking period finishes, then the next step begins. Another portion of the green fleet activates and receives traffic, part of the blue fleet deactivates, and another baking period begins. The process repeats until the blue fleet is fully deactivated and the green fleet is fully activated and receiving all traffic. If an alarm goes off at any point, SageMaker terminates the shifting process and automatically rolls back 100 percent of the traffic to a reactivated blue fleet."
   ]
  },
  {
   "attachments": {},
   "cell_type": "markdown",
   "metadata": {},
   "source": [
    "## Task 2.1: Environment setup\n",
    "\n",
    "In this task, you will set up your environment, import any missing libraries, and create session variables."
   ]
  },
  {
   "cell_type": "code",
   "execution_count": 1,
   "metadata": {
    "execution": {
     "iopub.execute_input": "2025-06-18T20:30:03.184707Z",
     "iopub.status.busy": "2025-06-18T20:30:03.184087Z",
     "iopub.status.idle": "2025-06-18T20:30:07.689312Z",
     "shell.execute_reply": "2025-06-18T20:30:07.687787Z",
     "shell.execute_reply.started": "2025-06-18T20:30:03.184665Z"
    },
    "tags": []
   },
   "outputs": [],
   "source": [
    "%%capture\n",
    "%matplotlib inline\n",
    "from datetime import datetime, timedelta\n",
    "import re\n",
    "import json\n",
    "from sagemaker import get_execution_role, session\n",
    "from sagemaker.s3 import S3Downloader, S3Uploader\n",
    "from sagemaker.image_uris import retrieve\n",
    "from sagemaker.session import production_variant\n",
    "import matplotlib.pyplot as plt\n",
    "from sklearn import metrics\n",
    "from sklearn.metrics import r2_score\n",
    "from sklearn.metrics import mean_absolute_error\n",
    "from sklearn.metrics import mean_squared_error\n",
    "\n",
    "import boto3\n",
    "import time\n",
    "import os\n",
    "import numpy as np\n",
    "import pandas as pd"
   ]
  },
  {
   "attachments": {},
   "cell_type": "markdown",
   "metadata": {},
   "source": [
    "With the boto3 library imported, you can now create the session variables that you use throughout the lab."
   ]
  },
  {
   "cell_type": "code",
   "execution_count": 2,
   "metadata": {
    "execution": {
     "iopub.execute_input": "2025-06-18T20:30:07.691388Z",
     "iopub.status.busy": "2025-06-18T20:30:07.690581Z",
     "iopub.status.idle": "2025-06-18T20:30:09.319846Z",
     "shell.execute_reply": "2025-06-18T20:30:09.318973Z",
     "shell.execute_reply.started": "2025-06-18T20:30:07.691348Z"
    },
    "tags": []
   },
   "outputs": [],
   "source": [
    "#create-session-variables\n",
    "region = boto3.Session().region_name\n",
    "role = get_execution_role()\n",
    "sm_session = session.Session(boto3.Session())\n",
    "sm = boto3.Session().client(\"sagemaker\")\n",
    "sm_runtime = boto3.Session().client(\"sagemaker-runtime\")\n",
    "cw = boto3.Session().client(\"cloudwatch\")\n",
    "\n",
    "bucket = sm_session.default_bucket()\n",
    "prefix = 'sagemaker/abalone'"
   ]
  },
  {
   "attachments": {},
   "cell_type": "markdown",
   "metadata": {},
   "source": [
    "## Task 2.2: Create an endpoint\n",
    "\n",
    "Create an endpoint with the production model you tested with the A/B and Shadow testing strategies. This endpoint is configured with the model that is currently in production. Later in the notebook, you update the endpoint configuration and use a deployment configuration to shift traffic to the new model.\n",
    "\n",
    "To simulate the blue/green deployment, three endpoint configurations are created. The first endpoint configuration uses the production model. The second endpoint configuration uses the new model, which includes the wrong version of XGBoost, to simulate an issue in production. You use this model to explore how a blue/green deployment can roll back if it has an issue. The third endpoint configuration uses the new model with the correct configuration. The deployment configuration shifts traffic between fleets of instances, so five instances are configured for each model in the endpoint configurations.\n",
    "\n",
    "<i class=\"fas fa-sticky-note\" style=\"color:#ff6633\"></i> **Note:** The endpoint creation takes approximately 4–6 minutes to complete."
   ]
  },
  {
   "cell_type": "code",
   "execution_count": 3,
   "metadata": {
    "execution": {
     "iopub.execute_input": "2025-06-18T20:30:11.621437Z",
     "iopub.status.busy": "2025-06-18T20:30:11.621135Z",
     "iopub.status.idle": "2025-06-18T20:34:34.502844Z",
     "shell.execute_reply": "2025-06-18T20:34:34.501915Z",
     "shell.execute_reply.started": "2025-06-18T20:30:11.621415Z"
    },
    "tags": []
   },
   "outputs": [
    {
     "name": "stdout",
     "output_type": "stream",
     "text": [
      "Created the Production Model Endpoint Config: Abalone-Endpoint-1-2025-06-18-20-30-15\n",
      "Created the New Erroring Model Endpoint Config: Abalone-Endpoint-2-2025-06-18-20-30-15\n",
      "Created the New Working Model Endpoint Config: Abalone-Endpoint-3-2025-06-18-20-30-16\n",
      "Waiting for Endpoint Creation\n",
      "Waiting for Endpoint Creation\n",
      "Waiting for Endpoint Creation\n",
      "Waiting for Endpoint Creation\n",
      "Waiting for Endpoint Creation\n",
      "Waiting for Endpoint Creation\n",
      "Waiting for Endpoint Creation\n",
      "Waiting for Endpoint Creation\n",
      "Waiting for Endpoint Creation\n",
      "Waiting for Endpoint Creation\n",
      "Waiting for Endpoint Creation\n",
      "Waiting for Endpoint Creation\n",
      "Waiting for Endpoint Creation\n",
      "Waiting for Endpoint Creation\n",
      "Waiting for Endpoint Creation\n",
      "Waiting for Endpoint Creation\n",
      "Waiting for Endpoint Creation\n",
      "Endpoint arn:aws:sagemaker:us-west-2:486956700583:endpoint/Abalone-2025-06-18-20-30-17 successfully created.\n"
     ]
    }
   ],
   "source": [
    "#create-an-endpoint\n",
    "\n",
    "# Upload models\n",
    "model_url = S3Uploader.upload(\n",
    "    local_path=\"models/model_A.tar.gz\", desired_s3_uri=f\"s3://{bucket}/{prefix}\"\n",
    ")\n",
    "model_error_url = S3Uploader.upload(\n",
    "    local_path=\"models/model_E.tar.gz\", desired_s3_uri=f\"s3://{bucket}/{prefix}\"\n",
    ")\n",
    "model_new_url = S3Uploader.upload(\n",
    "    local_path=\"models/model_B.tar.gz\", desired_s3_uri=f\"s3://{bucket}/{prefix}\"\n",
    ")\n",
    "\n",
    "# Create the model definitions\n",
    "model_1_name = f\"abalone-A-{datetime.now():%Y-%m-%d-%H-%M-%S}\"\n",
    "model_2_name = f\"abalone-Error-{datetime.now():%Y-%m-%d-%H-%M-%S}\"\n",
    "model_3_name = f\"abalone-B-{datetime.now():%Y-%m-%d-%H-%M-%S}\"\n",
    "\n",
    "image_1_uri = retrieve(\"xgboost\", boto3.Session().region_name, \"1.5-1\")\n",
    "image_2_uri = retrieve(\"xgboost\", boto3.Session().region_name, \"1.2-1\")\n",
    "image_3_uri = retrieve(\"xgboost\", boto3.Session().region_name, \"1.5-1\")\n",
    "\n",
    "# The production model\n",
    "sm_session.create_model(\n",
    "    name=model_1_name, role=role, container_defs={\"Image\": image_1_uri, \"ModelDataUrl\": model_url}\n",
    ")\n",
    "\n",
    "# The new model with an incorrect xgboost version\n",
    "sm_session.create_model(\n",
    "    name=model_2_name, role=role, container_defs={\"Image\": image_2_uri, \"ModelDataUrl\": model_error_url}\n",
    ")\n",
    "\n",
    "# The new model with a correct xgboost version\n",
    "sm_session.create_model(\n",
    "    name=model_3_name, role=role, container_defs={\"Image\": image_3_uri, \"ModelDataUrl\": model_new_url}\n",
    ")\n",
    "\n",
    "# Create the endpoint configurations\n",
    "variant_name = 'AllTraffic'\n",
    "\n",
    "endpoint_config_1_name = f'Abalone-Endpoint-1-{datetime.now():%Y-%m-%d-%H-%M-%S}'\n",
    "endpoint_config_1_response = sm.create_endpoint_config(\n",
    "    EndpointConfigName = endpoint_config_1_name,\n",
    "    ProductionVariants=[\n",
    "        {\n",
    "            'ModelName':model_1_name,\n",
    "            'InstanceType':'ml.m4.xlarge',\n",
    "            'InitialInstanceCount':4,\n",
    "            'VariantName':variant_name\n",
    "        }\n",
    "    ]\n",
    ")\n",
    "print(f\"Created the Production Model Endpoint Config: {endpoint_config_1_name}\")\n",
    "\n",
    "endpoint_config_2_name = f'Abalone-Endpoint-2-{datetime.now():%Y-%m-%d-%H-%M-%S}'\n",
    "endpoint_config_2_response = sm.create_endpoint_config(\n",
    "    EndpointConfigName = endpoint_config_2_name,\n",
    "    ProductionVariants=[\n",
    "        {\n",
    "            'ModelName':model_2_name,\n",
    "            'InstanceType':'ml.m4.xlarge',\n",
    "            'InitialInstanceCount':4,\n",
    "            'VariantName':variant_name\n",
    "        }\n",
    "    ]\n",
    ")\n",
    "print(f\"Created the New Erroring Model Endpoint Config: {endpoint_config_2_name}\")\n",
    "\n",
    "endpoint_config_3_name = f'Abalone-Endpoint-3-{datetime.now():%Y-%m-%d-%H-%M-%S}'\n",
    "endpoint_config_3_response = sm.create_endpoint_config(\n",
    "    EndpointConfigName = endpoint_config_3_name,\n",
    "    ProductionVariants=[\n",
    "        {\n",
    "            'ModelName':model_3_name,\n",
    "            'InstanceType':'ml.m4.xlarge',\n",
    "            'InitialInstanceCount':4,\n",
    "            'VariantName':variant_name\n",
    "        }\n",
    "    ]\n",
    ")\n",
    "print(f\"Created the New Working Model Endpoint Config: {endpoint_config_3_name}\")\n",
    "\n",
    "# Create the endpoint with the production model\n",
    "endpoint_name = f\"Abalone-{datetime.now():%Y-%m-%d-%H-%M-%S}\"\n",
    "endpoint_response = sm.create_endpoint(EndpointName=endpoint_name, EndpointConfigName=endpoint_config_1_name)\n",
    "\n",
    "def wait_for_endpoint_creation_complete(endpoint):\n",
    "    \"\"\"Helper function to wait for the completion of creating an endpoint\"\"\"\n",
    "    response = sm.describe_endpoint(EndpointName=endpoint_name)\n",
    "    status = response.get(\"EndpointStatus\")\n",
    "    while status == \"Creating\":\n",
    "        print(\"Waiting for Endpoint Creation\")\n",
    "        time.sleep(15)\n",
    "        response = sm.describe_endpoint(EndpointName=endpoint_name)\n",
    "        status = response.get(\"EndpointStatus\")\n",
    "\n",
    "    if status != \"InService\":\n",
    "        print(f\"Failed to create endpoint, response: {response}\")\n",
    "        failureReason = response.get(\"FailureReason\", \"\")\n",
    "        raise SystemExit(\n",
    "            f\"Failed to create endpoint {endpoint_response['EndpointArn']}, status: {status}, reason: {failureReason}\"\n",
    "        )\n",
    "    print(f\"Endpoint {endpoint_response['EndpointArn']} successfully created.\")\n",
    "\n",
    "wait_for_endpoint_creation_complete(endpoint=endpoint_response)"
   ]
  },
  {
   "attachments": {},
   "cell_type": "markdown",
   "metadata": {
    "tags": []
   },
   "source": [
    "When the cell completes, an endpoint Amazon Resource Name (ARN) is returned that looks like *'arn:aws:sagemaker:us-west-2:012345678910:endpoint/abalone-shadow-2025-01-01-01-01-00'*.\n",
    "\n",
    "Your endpoint is currently configured with one variant, the production model. You can view the endpoint configuration by using *describe_endpoint*."
   ]
  },
  {
   "cell_type": "code",
   "execution_count": 4,
   "metadata": {
    "execution": {
     "iopub.execute_input": "2025-06-18T20:34:34.504972Z",
     "iopub.status.busy": "2025-06-18T20:34:34.504388Z",
     "iopub.status.idle": "2025-06-18T20:34:34.592158Z",
     "shell.execute_reply": "2025-06-18T20:34:34.591216Z",
     "shell.execute_reply.started": "2025-06-18T20:34:34.504938Z"
    },
    "tags": []
   },
   "outputs": [
    {
     "data": {
      "text/plain": [
       "{'EndpointName': 'Abalone-2025-06-18-20-30-17',\n",
       " 'EndpointArn': 'arn:aws:sagemaker:us-west-2:486956700583:endpoint/Abalone-2025-06-18-20-30-17',\n",
       " 'EndpointConfigName': 'Abalone-Endpoint-1-2025-06-18-20-30-15',\n",
       " 'ProductionVariants': [{'VariantName': 'AllTraffic',\n",
       "   'DeployedImages': [{'SpecifiedImage': '246618743249.dkr.ecr.us-west-2.amazonaws.com/sagemaker-xgboost:1.5-1',\n",
       "     'ResolvedImage': '246618743249.dkr.ecr.us-west-2.amazonaws.com/sagemaker-xgboost@sha256:cd128bd02824075bf2e02ee7923aaa8ab50f6c47a2d86d5747b78ca1c5199813',\n",
       "     'ResolutionTime': datetime.datetime(2025, 6, 18, 20, 30, 18, 764000, tzinfo=tzlocal())}],\n",
       "   'CurrentWeight': 1.0,\n",
       "   'DesiredWeight': 1.0,\n",
       "   'CurrentInstanceCount': 4,\n",
       "   'DesiredInstanceCount': 4}],\n",
       " 'EndpointStatus': 'InService',\n",
       " 'CreationTime': datetime.datetime(2025, 6, 18, 20, 30, 18, 18000, tzinfo=tzlocal()),\n",
       " 'LastModifiedTime': datetime.datetime(2025, 6, 18, 20, 34, 30, 944000, tzinfo=tzlocal()),\n",
       " 'ResponseMetadata': {'RequestId': 'be293bf1-5904-4c61-b734-c05cf35d41fa',\n",
       "  'HTTPStatusCode': 200,\n",
       "  'HTTPHeaders': {'x-amzn-requestid': 'be293bf1-5904-4c61-b734-c05cf35d41fa',\n",
       "   'content-type': 'application/x-amz-json-1.1',\n",
       "   'content-length': '737',\n",
       "   'date': 'Wed, 18 Jun 2025 20:34:34 GMT'},\n",
       "  'RetryAttempts': 0}}"
      ]
     },
     "execution_count": 4,
     "metadata": {},
     "output_type": "execute_result"
    }
   ],
   "source": [
    "sm.describe_endpoint(EndpointName=endpoint_name)"
   ]
  },
  {
   "attachments": {},
   "cell_type": "markdown",
   "metadata": {},
   "source": [
    "*ProductionVariants* is configured with a variant name of *AllTraffic*. In this endpoint, all of the traffic is configured to go to the production model."
   ]
  },
  {
   "attachments": {},
   "cell_type": "markdown",
   "metadata": {},
   "source": [
    "## Task 2.3: Evaluate invocation metrics\n",
    "\n",
    "To test the endpoint, invoke the deployed production model and evaluate the invocation metrics. You can send data to the endpoint that you created in the prior task to get inferences in real time. \n",
    "\n",
    "First, get a subset of the test data for a sample of the invocation."
   ]
  },
  {
   "cell_type": "code",
   "execution_count": 5,
   "metadata": {
    "execution": {
     "iopub.execute_input": "2025-06-18T20:34:34.593534Z",
     "iopub.status.busy": "2025-06-18T20:34:34.593218Z",
     "iopub.status.idle": "2025-06-18T20:34:34.640528Z",
     "shell.execute_reply": "2025-06-18T20:34:34.639826Z",
     "shell.execute_reply.started": "2025-06-18T20:34:34.593504Z"
    },
    "tags": []
   },
   "outputs": [
    {
     "data": {
      "text/html": [
       "<div>\n",
       "<style scoped>\n",
       "    .dataframe tbody tr th:only-of-type {\n",
       "        vertical-align: middle;\n",
       "    }\n",
       "\n",
       "    .dataframe tbody tr th {\n",
       "        vertical-align: top;\n",
       "    }\n",
       "\n",
       "    .dataframe thead th {\n",
       "        text-align: right;\n",
       "    }\n",
       "</style>\n",
       "<table border=\"1\" class=\"dataframe\">\n",
       "  <thead>\n",
       "    <tr style=\"text-align: right;\">\n",
       "      <th></th>\n",
       "      <th>0.384</th>\n",
       "      <th>0.301</th>\n",
       "      <th>0.11</th>\n",
       "      <th>0.35</th>\n",
       "      <th>0.098</th>\n",
       "      <th>0.058</th>\n",
       "      <th>0.137</th>\n",
       "      <th>1</th>\n",
       "      <th>0</th>\n",
       "      <th>0.1</th>\n",
       "    </tr>\n",
       "  </thead>\n",
       "  <tbody>\n",
       "    <tr>\n",
       "      <th>1566</th>\n",
       "      <td>0.615</td>\n",
       "      <td>0.492</td>\n",
       "      <td>0.166</td>\n",
       "      <td>1.534</td>\n",
       "      <td>0.679</td>\n",
       "      <td>0.306</td>\n",
       "      <td>0.438</td>\n",
       "      <td>0</td>\n",
       "      <td>0</td>\n",
       "      <td>1</td>\n",
       "    </tr>\n",
       "    <tr>\n",
       "      <th>1334</th>\n",
       "      <td>0.815</td>\n",
       "      <td>0.650</td>\n",
       "      <td>0.223</td>\n",
       "      <td>1.993</td>\n",
       "      <td>0.840</td>\n",
       "      <td>0.404</td>\n",
       "      <td>0.609</td>\n",
       "      <td>0</td>\n",
       "      <td>0</td>\n",
       "      <td>1</td>\n",
       "    </tr>\n",
       "    <tr>\n",
       "      <th>823</th>\n",
       "      <td>0.815</td>\n",
       "      <td>0.633</td>\n",
       "      <td>0.275</td>\n",
       "      <td>1.986</td>\n",
       "      <td>0.816</td>\n",
       "      <td>0.466</td>\n",
       "      <td>0.558</td>\n",
       "      <td>1</td>\n",
       "      <td>0</td>\n",
       "      <td>0</td>\n",
       "    </tr>\n",
       "    <tr>\n",
       "      <th>240</th>\n",
       "      <td>0.449</td>\n",
       "      <td>0.319</td>\n",
       "      <td>0.129</td>\n",
       "      <td>0.419</td>\n",
       "      <td>0.210</td>\n",
       "      <td>0.089</td>\n",
       "      <td>0.150</td>\n",
       "      <td>0</td>\n",
       "      <td>0</td>\n",
       "      <td>1</td>\n",
       "    </tr>\n",
       "    <tr>\n",
       "      <th>228</th>\n",
       "      <td>0.643</td>\n",
       "      <td>0.527</td>\n",
       "      <td>0.205</td>\n",
       "      <td>1.565</td>\n",
       "      <td>0.637</td>\n",
       "      <td>0.340</td>\n",
       "      <td>0.458</td>\n",
       "      <td>0</td>\n",
       "      <td>0</td>\n",
       "      <td>1</td>\n",
       "    </tr>\n",
       "  </tbody>\n",
       "</table>\n",
       "</div>"
      ],
      "text/plain": [
       "      0.384  0.301   0.11   0.35  0.098  0.058  0.137  1  0  0.1\n",
       "1566  0.615  0.492  0.166  1.534  0.679  0.306  0.438  0  0    1\n",
       "1334  0.815  0.650  0.223  1.993  0.840  0.404  0.609  0  0    1\n",
       "823   0.815  0.633  0.275  1.986  0.816  0.466  0.558  1  0    0\n",
       "240   0.449  0.319  0.129  0.419  0.210  0.089  0.150  0  0    1\n",
       "228   0.643  0.527  0.205  1.565  0.637  0.340  0.458  0  0    1"
      ]
     },
     "execution_count": 5,
     "metadata": {},
     "output_type": "execute_result"
    }
   ],
   "source": [
    "#import-data\n",
    "shape=pd.read_csv(\"data/abalone_data_test.csv\", header=0)\n",
    "shape.sample(5)"
   ]
  },
  {
   "attachments": {},
   "cell_type": "markdown",
   "metadata": {},
   "source": [
    "Then, send traffic to the endpoint by using **invoke_endpoint**.\n",
    "\n",
    "<i class=\"fas fa-sticky-note\" style=\"color:#ff6633\"></i> **Note:** The endpoint invocation takes approximately 1–2 minutes to complete."
   ]
  },
  {
   "cell_type": "code",
   "execution_count": 6,
   "metadata": {
    "execution": {
     "iopub.execute_input": "2025-06-18T20:34:34.642380Z",
     "iopub.status.busy": "2025-06-18T20:34:34.642092Z",
     "iopub.status.idle": "2025-06-18T20:39:34.713384Z",
     "shell.execute_reply": "2025-06-18T20:39:34.712460Z",
     "shell.execute_reply.started": "2025-06-18T20:34:34.642359Z"
    },
    "tags": []
   },
   "outputs": [
    {
     "name": "stdout",
     "output_type": "stream",
     "text": [
      "Sending test traffic to the endpoint Abalone-2025-06-18-20-30-17. \n",
      "Please wait...\n",
      "Done!\n"
     ]
    }
   ],
   "source": [
    "#send-test-data\n",
    "print(f\"Sending test traffic to the endpoint {endpoint_name}. \\nPlease wait...\")\n",
    "\n",
    "with open(\"data/abalone_data_test.csv\", \"r\") as f:\n",
    "    for row in f:\n",
    "        payload = row.rstrip(\"\\n\")\n",
    "        sm_runtime.invoke_endpoint(EndpointName=endpoint_name, ContentType=\"text/csv\", Body=payload)\n",
    "        time.sleep(0.1)\n",
    "f.close()\n",
    "print(\"Done!\")"
   ]
  },
  {
   "attachments": {},
   "cell_type": "markdown",
   "metadata": {},
   "source": [
    "Amazon SageMaker emits metrics such as latency and invocations in Amazon CloudWatch. Query the number of invocations for the production model from CloudWatch."
   ]
  },
  {
   "cell_type": "code",
   "execution_count": 7,
   "metadata": {
    "execution": {
     "iopub.execute_input": "2025-06-18T20:39:34.714451Z",
     "iopub.status.busy": "2025-06-18T20:39:34.714217Z",
     "iopub.status.idle": "2025-06-18T20:40:35.089961Z",
     "shell.execute_reply": "2025-06-18T20:40:35.089139Z",
     "shell.execute_reply.started": "2025-06-18T20:39:34.714430Z"
    },
    "tags": []
   },
   "outputs": [
    {
     "name": "stdout",
     "output_type": "stream",
     "text": [
      "Waiting a minute for initial metric creation...\n"
     ]
    },
    {
     "data": {
      "image/png": "[encoded data removed]",
      "text/plain": [
       "<Figure size 640x480 with 1 Axes>"
      ]
     },
     "metadata": {},
     "output_type": "display_data"
    }
   ],
   "source": [
    "#get-cloudwatch-metrics\n",
    "def get_invocation_metrics_for_endpoint_variant(endpoint_name, variant_name, start_time, end_time, namespace, metric_name, statistics):\n",
    "    metrics = cw.get_metric_statistics(\n",
    "        Namespace=namespace,\n",
    "        MetricName=metric_name,\n",
    "        StartTime=start_time,\n",
    "        EndTime=end_time,\n",
    "        Period=60,\n",
    "        Statistics=[statistics],\n",
    "        Dimensions=[\n",
    "            {\"Name\": \"EndpointName\", \"Value\": endpoint_name},\n",
    "            {\"Name\": \"VariantName\", \"Value\": variant_name},\n",
    "        ],\n",
    "    )\n",
    "    return (\n",
    "        pd.DataFrame(metrics[\"Datapoints\"])\n",
    "        .sort_values(\"Timestamp\")\n",
    "        .set_index(\"Timestamp\")\n",
    "        .drop(\"Unit\", axis=1)\n",
    "        .rename(columns={statistics: variant_name})\n",
    "    )\n",
    "\n",
    "def plot_endpoint_metrics(namespace, metric_name, statistic, start_time=None):\n",
    "    start_time = start_time or datetime.now() - timedelta(minutes=60)\n",
    "    end_time = datetime.now()\n",
    "    metrics = get_invocation_metrics_for_endpoint_variant(\n",
    "        endpoint_name, variant_name, start_time, end_time, namespace, metric_name, statistic\n",
    "    )\n",
    "    metrics.plot()\n",
    "    return metrics\n",
    "\n",
    "print(\"Waiting a minute for initial metric creation...\")\n",
    "time.sleep(60)\n",
    "invocations = plot_endpoint_metrics(\"AWS/SageMaker\", \"Invocations\", \"Sum\")"
   ]
  },
  {
   "attachments": {},
   "cell_type": "markdown",
   "metadata": {},
   "source": [
    "To track CPU utilization levels of the instances during the inference requests, query the CPU utilization from CloudWatch."
   ]
  },
  {
   "cell_type": "code",
   "execution_count": 8,
   "metadata": {
    "execution": {
     "iopub.execute_input": "2025-06-18T20:40:35.091599Z",
     "iopub.status.busy": "2025-06-18T20:40:35.091042Z",
     "iopub.status.idle": "2025-06-18T20:40:35.282949Z",
     "shell.execute_reply": "2025-06-18T20:40:35.282121Z",
     "shell.execute_reply.started": "2025-06-18T20:40:35.091565Z"
    },
    "tags": []
   },
   "outputs": [
    {
     "data": {
      "image/png": "[encoded data removed]",
      "text/plain": [
       "<Figure size 640x480 with 1 Axes>"
      ]
     },
     "metadata": {},
     "output_type": "display_data"
    }
   ],
   "source": [
    "#graph-cpu-utilization\n",
    "cpu_utilization = plot_endpoint_metrics(\"/aws/sagemaker/Endpoints\", \"CPUUtilization\", \"Average\")"
   ]
  },
  {
   "attachments": {},
   "cell_type": "markdown",
   "metadata": {},
   "source": [
    "Plot graphs to show the Invocation4XXErrors, Invocation5XXErrors, ModelLatency, and OverheadLatency for the endpoint that you created.\n",
    "\n",
    "Invocation4XXErrors and Invocation5XXErrors should have a flat line because you are using the correct model version and configuration. Invocation errors occur when your inference jobs have any issues."
   ]
  },
  {
   "cell_type": "code",
   "execution_count": 9,
   "metadata": {
    "execution": {
     "iopub.execute_input": "2025-06-18T20:40:35.284383Z",
     "iopub.status.busy": "2025-06-18T20:40:35.283959Z",
     "iopub.status.idle": "2025-06-18T20:40:35.437134Z",
     "shell.execute_reply": "2025-06-18T20:40:35.436392Z",
     "shell.execute_reply.started": "2025-06-18T20:40:35.284353Z"
    },
    "tags": []
   },
   "outputs": [
    {
     "data": {
      "image/png": "[encoded data removed]",
      "text/plain": [
       "<Figure size 640x480 with 1 Axes>"
      ]
     },
     "metadata": {},
     "output_type": "display_data"
    }
   ],
   "source": [
    "#graph-invocation4xxerrors\n",
    "invocation_4xx_metrics = plot_endpoint_metrics(\"AWS/SageMaker\", \"Invocation4XXErrors\", \"Sum\")"
   ]
  },
  {
   "cell_type": "code",
   "execution_count": 10,
   "metadata": {
    "execution": {
     "iopub.execute_input": "2025-06-18T20:40:35.438442Z",
     "iopub.status.busy": "2025-06-18T20:40:35.438016Z",
     "iopub.status.idle": "2025-06-18T20:40:35.580626Z",
     "shell.execute_reply": "2025-06-18T20:40:35.579939Z",
     "shell.execute_reply.started": "2025-06-18T20:40:35.438412Z"
    },
    "tags": []
   },
   "outputs": [
    {
     "data": {
      "image/png": "[encoded data removed]",
      "text/plain": [
       "<Figure size 640x480 with 1 Axes>"
      ]
     },
     "metadata": {},
     "output_type": "display_data"
    }
   ],
   "source": [
    "#graph-invocation5xxerrors\n",
    "invocation_5xx_metrics = plot_endpoint_metrics( \"AWS/SageMaker\", \"Invocation5XXErrors\", \"Sum\")"
   ]
  },
  {
   "attachments": {},
   "cell_type": "markdown",
   "metadata": {},
   "source": [
    "Additionally, ModelLatency and OverheadLatency start decreasing over time. Model latency is the time that it takes your model to process a unit of data. This duration includes the local communication time for the model to send the request and fetch the response. It also includes the completion time of the inference inside the model container. Overhead latency is the amount of time that SageMaker takes to respond to an invocation request with overheads. This measurement lasts from when SageMaker receives a request until it returns a response, minus model latency. \n",
    "\n",
    "Multiple factors might contribute to latency. These factors include the payload size for request and responses, request frequency, and the authentication or authorization of the request. The first invocation for an endpoint might have an increase in latency because of a cold start. This result is expected with the first invocation requests. Over time, your average model latency and overhead latency should slowly drop until they even out."
   ]
  },
  {
   "cell_type": "code",
   "execution_count": 11,
   "metadata": {
    "execution": {
     "iopub.execute_input": "2025-06-18T20:40:35.582041Z",
     "iopub.status.busy": "2025-06-18T20:40:35.581542Z",
     "iopub.status.idle": "2025-06-18T20:40:36.197834Z",
     "shell.execute_reply": "2025-06-18T20:40:36.196878Z",
     "shell.execute_reply.started": "2025-06-18T20:40:35.582009Z"
    },
    "tags": []
   },
   "outputs": [
    {
     "data": {
      "image/png": "[encoded data removed]",
      "text/plain": [
       "<Figure size 640x480 with 1 Axes>"
      ]
     },
     "metadata": {},
     "output_type": "display_data"
    }
   ],
   "source": [
    "#graph-model-latency\n",
    "model_latency_metrics = plot_endpoint_metrics(\"AWS/SageMaker\", \"ModelLatency\", \"Average\")"
   ]
  },
  {
   "cell_type": "code",
   "execution_count": 12,
   "metadata": {
    "execution": {
     "iopub.execute_input": "2025-06-18T20:40:36.200937Z",
     "iopub.status.busy": "2025-06-18T20:40:36.200393Z",
     "iopub.status.idle": "2025-06-18T20:40:36.378509Z",
     "shell.execute_reply": "2025-06-18T20:40:36.377714Z",
     "shell.execute_reply.started": "2025-06-18T20:40:36.200912Z"
    },
    "tags": []
   },
   "outputs": [
    {
     "data": {
      "image/png": "[encoded data removed]",
      "text/plain": [
       "<Figure size 640x480 with 1 Axes>"
      ]
     },
     "metadata": {},
     "output_type": "display_data"
    }
   ],
   "source": [
    "#graph-overhead-latency\n",
    "overhead_latency_metrics = plot_endpoint_metrics(\"AWS/SageMaker\", \"OverheadLatency\", \"Average\")"
   ]
  },
  {
   "attachments": {},
   "cell_type": "markdown",
   "metadata": {},
   "source": [
    "## Task 2.4: Create a CloudWatch alarm\n",
    "\n",
    "When you create a traffic routing configuration, the traffic routing job needs to monitor how the routing is going. To monitor the job, you must create a CloudWatch alarm and configure the traffic routing job to include the CloudWatch alarm. A CloudWatch alarm monitors a specific metric and evaluates it based on the configurations that you set. If the alarm changes state, it can invoke an action. Define a function to create a CloudWatch alarm based on a given *alarm_name*, *endpoint_name*, *variant_name*, *metric_name*, *statistic*, and *threshold*."
   ]
  },
  {
   "cell_type": "code",
   "execution_count": 13,
   "metadata": {
    "execution": {
     "iopub.execute_input": "2025-06-18T20:40:36.380096Z",
     "iopub.status.busy": "2025-06-18T20:40:36.379533Z",
     "iopub.status.idle": "2025-06-18T20:40:36.385676Z",
     "shell.execute_reply": "2025-06-18T20:40:36.384597Z",
     "shell.execute_reply.started": "2025-06-18T20:40:36.380065Z"
    },
    "tags": []
   },
   "outputs": [],
   "source": [
    "#define-alarm-function\n",
    "def create_auto_rollback_alarm(alarm_name, endpoint_name, variant_name, metric_name, statistic, threshold):\n",
    "    cw.put_metric_alarm(\n",
    "        AlarmName=alarm_name,\n",
    "        AlarmDescription=\"Test SageMaker endpoint deployment auto-rollback alarm\",\n",
    "        ActionsEnabled=False,\n",
    "        Namespace=\"AWS/SageMaker\",\n",
    "        MetricName=metric_name,\n",
    "        Statistic=statistic,\n",
    "        Dimensions=[\n",
    "            {\"Name\": \"EndpointName\", \"Value\": endpoint_name},\n",
    "            {\"Name\": \"VariantName\", \"Value\": variant_name},\n",
    "        ],\n",
    "        Period=60,\n",
    "        EvaluationPeriods=1,\n",
    "        Threshold=threshold,\n",
    "        ComparisonOperator=\"GreaterThanOrEqualToThreshold\",\n",
    "        TreatMissingData=\"notBreaching\",\n",
    "    )"
   ]
  },
  {
   "attachments": {},
   "cell_type": "markdown",
   "metadata": {},
   "source": [
    "For this lab, if invocation errors or high model latency occurs, you want the deployment to roll back. Create alarms that monitor **Invocation5XXErrors** and **ModelLatency**."
   ]
  },
  {
   "cell_type": "code",
   "execution_count": 14,
   "metadata": {
    "execution": {
     "iopub.execute_input": "2025-06-18T20:40:36.387171Z",
     "iopub.status.busy": "2025-06-18T20:40:36.386611Z",
     "iopub.status.idle": "2025-06-18T20:40:36.611539Z",
     "shell.execute_reply": "2025-06-18T20:40:36.610477Z",
     "shell.execute_reply.started": "2025-06-18T20:40:36.387136Z"
    },
    "tags": []
   },
   "outputs": [],
   "source": [
    "#create-alarms\n",
    "error_alarm = f\"TestAlarm-5XXErrors-{endpoint_name}\"\n",
    "latency_alarm = f\"TestAlarm-ModelLatency-{endpoint_name}\"\n",
    "\n",
    "# alarm on 1% 5xx error rate for 1 minute\n",
    "create_auto_rollback_alarm(error_alarm, endpoint_name, \"AllTraffic\", \"Invocation5XXErrors\", \"Average\", 0.2)\n",
    "\n",
    "# alarm on model latency >= 10 ms for 1 minute\n",
    "create_auto_rollback_alarm(latency_alarm, endpoint_name, \"AllTraffic\", \"ModelLatency\", \"Average\", 10000)"
   ]
  },
  {
   "attachments": {},
   "cell_type": "markdown",
   "metadata": {
    "tags": []
   },
   "source": [
    "View the alarms that you just created."
   ]
  },
  {
   "cell_type": "code",
   "execution_count": 15,
   "metadata": {
    "execution": {
     "iopub.execute_input": "2025-06-18T20:40:36.613112Z",
     "iopub.status.busy": "2025-06-18T20:40:36.612793Z",
     "iopub.status.idle": "2025-06-18T20:40:36.683726Z",
     "shell.execute_reply": "2025-06-18T20:40:36.682885Z",
     "shell.execute_reply.started": "2025-06-18T20:40:36.613083Z"
    },
    "tags": []
   },
   "outputs": [
    {
     "data": {
      "text/plain": [
       "{'CompositeAlarms': [],\n",
       " 'MetricAlarms': [{'AlarmName': 'TestAlarm-5XXErrors-Abalone-2025-06-18-20-30-17',\n",
       "   'AlarmArn': 'arn:aws:cloudwatch:us-west-2:486956700583:alarm:TestAlarm-5XXErrors-Abalone-2025-06-18-20-30-17',\n",
       "   'AlarmDescription': 'Test SageMaker endpoint deployment auto-rollback alarm',\n",
       "   'AlarmConfigurationUpdatedTimestamp': datetime.datetime(2025, 6, 18, 20, 40, 36, 484000, tzinfo=tzlocal()),\n",
       "   'ActionsEnabled': False,\n",
       "   'OKActions': [],\n",
       "   'AlarmActions': [],\n",
       "   'InsufficientDataActions': [],\n",
       "   'StateValue': 'INSUFFICIENT_DATA',\n",
       "   'StateReason': 'Unchecked: Initial alarm creation',\n",
       "   'StateUpdatedTimestamp': datetime.datetime(2025, 6, 18, 20, 40, 36, 484000, tzinfo=tzlocal()),\n",
       "   'MetricName': 'Invocation5XXErrors',\n",
       "   'Namespace': 'AWS/SageMaker',\n",
       "   'Statistic': 'Average',\n",
       "   'Dimensions': [{'Name': 'EndpointName',\n",
       "     'Value': 'Abalone-2025-06-18-20-30-17'},\n",
       "    {'Name': 'VariantName', 'Value': 'AllTraffic'}],\n",
       "   'Period': 60,\n",
       "   'EvaluationPeriods': 1,\n",
       "   'Threshold': 0.2,\n",
       "   'ComparisonOperator': 'GreaterThanOrEqualToThreshold',\n",
       "   'TreatMissingData': 'notBreaching',\n",
       "   'StateTransitionedTimestamp': datetime.datetime(2025, 6, 18, 20, 40, 36, 484000, tzinfo=tzlocal())},\n",
       "  {'AlarmName': 'TestAlarm-ModelLatency-Abalone-2025-06-18-20-30-17',\n",
       "   'AlarmArn': 'arn:aws:cloudwatch:us-west-2:486956700583:alarm:TestAlarm-ModelLatency-Abalone-2025-06-18-20-30-17',\n",
       "   'AlarmDescription': 'Test SageMaker endpoint deployment auto-rollback alarm',\n",
       "   'AlarmConfigurationUpdatedTimestamp': datetime.datetime(2025, 6, 18, 20, 40, 36, 584000, tzinfo=tzlocal()),\n",
       "   'ActionsEnabled': False,\n",
       "   'OKActions': [],\n",
       "   'AlarmActions': [],\n",
       "   'InsufficientDataActions': [],\n",
       "   'StateValue': 'INSUFFICIENT_DATA',\n",
       "   'StateReason': 'Unchecked: Initial alarm creation',\n",
       "   'StateUpdatedTimestamp': datetime.datetime(2025, 6, 18, 20, 40, 36, 584000, tzinfo=tzlocal()),\n",
       "   'MetricName': 'ModelLatency',\n",
       "   'Namespace': 'AWS/SageMaker',\n",
       "   'Statistic': 'Average',\n",
       "   'Dimensions': [{'Name': 'EndpointName',\n",
       "     'Value': 'Abalone-2025-06-18-20-30-17'},\n",
       "    {'Name': 'VariantName', 'Value': 'AllTraffic'}],\n",
       "   'Period': 60,\n",
       "   'EvaluationPeriods': 1,\n",
       "   'Threshold': 10000.0,\n",
       "   'ComparisonOperator': 'GreaterThanOrEqualToThreshold',\n",
       "   'TreatMissingData': 'notBreaching',\n",
       "   'StateTransitionedTimestamp': datetime.datetime(2025, 6, 18, 20, 40, 36, 584000, tzinfo=tzlocal())}],\n",
       " 'ResponseMetadata': {'RequestId': '11989b4e-8242-4f64-b0cb-4d5a30f50cdc',\n",
       "  'HTTPStatusCode': 200,\n",
       "  'HTTPHeaders': {'x-amzn-requestid': '11989b4e-8242-4f64-b0cb-4d5a30f50cdc',\n",
       "   'content-type': 'text/xml',\n",
       "   'content-length': '3564',\n",
       "   'date': 'Wed, 18 Jun 2025 20:40:36 GMT'},\n",
       "  'RetryAttempts': 0}}"
      ]
     },
     "execution_count": 15,
     "metadata": {},
     "output_type": "execute_result"
    }
   ],
   "source": [
    "cw.describe_alarms(AlarmNames=[error_alarm, latency_alarm])"
   ]
  },
  {
   "attachments": {},
   "cell_type": "markdown",
   "metadata": {
    "tags": []
   },
   "source": [
    "## Task 2.5: Update the endpoint with the traffic routing configuration\n",
    "\n",
    "Your endpoint is active and you tested the endpoint with a new set of data. To start shifting traffic from one model to another, create a linear policy for the endpoint and update the endpoint. \n",
    "\n",
    "In this task, you update the endpoint by using the *update_endpoint* command. The most important component of the *update_endpoint* command is the *EndpointConfigName*. Earlier in the notebook, you set up three endpoint configurations. The first configuration is for the model that is currently in production. The second configuration is for a model that contains a small error in it. Deploying this model shows how the deployment configuration automatically rolls back models with errors during blue/green deployment. The third configuration is for the new model that the data scientist team just trained.\n",
    "\n",
    "When you configure linear traffic shifting, you have several options to configure. You configure a *DeploymentConfig* that includes a *BlueGreenUpdatePolicy* with a *TrafficRoutingConfiguration*, a *TerminationWaitInSeconds*, and a *MaximumExecutionTimeoutInSections*. The *DeploymentConfig* also includes an *AutoRollbackConfiguration* that monitors your CloudWatch alarm. \n",
    "\n",
    "**Learn more:** Refer to [DeploymentConfig](https://docs.aws.amazon.com/sagemaker/latest/APIReference/API_DeploymentConfig.html) for more information about creating a linear traffic shifting configuration for an endpoint.\n",
    "\n",
    "In the next code cell, you update the endpoint to use the model that contains a small error in it. This update simulates the automatic rollback feature of linear traffic shifting.\n",
    "\n",
    "<i class=\"fas fa-sticky-note\" style=\"color:#ff6633\"></i> **Note:** The endpoint update takes approximately 1-2 minutes to make it to 80/20 deployment between the production model and the model with an error."
   ]
  },
  {
   "cell_type": "code",
   "execution_count": 16,
   "metadata": {
    "execution": {
     "iopub.execute_input": "2025-06-18T20:40:36.685808Z",
     "iopub.status.busy": "2025-06-18T20:40:36.684736Z",
     "iopub.status.idle": "2025-06-18T20:41:37.252123Z",
     "shell.execute_reply": "2025-06-18T20:41:37.251173Z",
     "shell.execute_reply.started": "2025-06-18T20:40:36.685774Z"
    },
    "tags": []
   },
   "outputs": [
    {
     "name": "stdout",
     "output_type": "stream",
     "text": [
      "EndpointArn = arn:aws:sagemaker:us-west-2:486956700583:endpoint/Abalone-2025-06-18-20-30-17\n"
     ]
    }
   ],
   "source": [
    "#add-linear-traffic-shifting-to-endpoint\n",
    "response = sm.update_endpoint(\n",
    "    EndpointName=endpoint_name,\n",
    "    EndpointConfigName=endpoint_config_2_name,\n",
    "    DeploymentConfig={\n",
    "        \"BlueGreenUpdatePolicy\": {\n",
    "            \"TrafficRoutingConfiguration\": {\n",
    "                \"Type\": \"LINEAR\",\n",
    "                \"LinearStepSize\": {\n",
    "                    \"Type\": \"CAPACITY_PERCENT\",\n",
    "                    \"Value\": 20\n",
    "                },\n",
    "                \"WaitIntervalInSeconds\": 60\n",
    "            },\n",
    "            \"TerminationWaitInSeconds\": 120,\n",
    "            \"MaximumExecutionTimeoutInSeconds\": 1200\n",
    "        },\n",
    "        \"AutoRollbackConfiguration\": {\n",
    "            \"Alarms\": [\n",
    "                {\n",
    "                    \"AlarmName\": error_alarm\n",
    "                },\n",
    "                {\n",
    "                    \"AlarmName\": latency_alarm\n",
    "                }\n",
    "            ]\n",
    "        }\n",
    "    }\n",
    ")\n",
    "\n",
    "time.sleep(60)\n",
    "print('EndpointArn = {}'.format(endpoint_response['EndpointArn']))"
   ]
  },
  {
   "attachments": {},
   "cell_type": "markdown",
   "metadata": {},
   "source": [
    "Describe the endpoint. While the traffic shifts from one model to another, the *EndpointStatus* is *Updating*. If the linear traffic shifting job is successful, the *EndpointStatus* eventually changes to *InService*. You do not need to wait for the traffic shifting to complete before moving on to the next task."
   ]
  },
  {
   "cell_type": "code",
   "execution_count": 17,
   "metadata": {
    "execution": {
     "iopub.execute_input": "2025-06-18T20:41:37.253353Z",
     "iopub.status.busy": "2025-06-18T20:41:37.253048Z",
     "iopub.status.idle": "2025-06-18T20:41:37.445832Z",
     "shell.execute_reply": "2025-06-18T20:41:37.444851Z",
     "shell.execute_reply.started": "2025-06-18T20:41:37.253325Z"
    },
    "tags": []
   },
   "outputs": [
    {
     "data": {
      "text/plain": [
       "{'EndpointName': 'Abalone-2025-06-18-20-30-17',\n",
       " 'EndpointArn': 'arn:aws:sagemaker:us-west-2:486956700583:endpoint/Abalone-2025-06-18-20-30-17',\n",
       " 'EndpointConfigName': 'Abalone-Endpoint-1-2025-06-18-20-30-15',\n",
       " 'ProductionVariants': [{'VariantName': 'AllTraffic',\n",
       "   'DeployedImages': [{'SpecifiedImage': '246618743249.dkr.ecr.us-west-2.amazonaws.com/sagemaker-xgboost:1.5-1',\n",
       "     'ResolvedImage': '246618743249.dkr.ecr.us-west-2.amazonaws.com/sagemaker-xgboost@sha256:cd128bd02824075bf2e02ee7923aaa8ab50f6c47a2d86d5747b78ca1c5199813',\n",
       "     'ResolutionTime': datetime.datetime(2025, 6, 18, 20, 30, 18, 764000, tzinfo=tzlocal())}],\n",
       "   'CurrentWeight': 1.0,\n",
       "   'DesiredWeight': 1.0,\n",
       "   'CurrentInstanceCount': 4,\n",
       "   'DesiredInstanceCount': 4}],\n",
       " 'EndpointStatus': 'Updating',\n",
       " 'CreationTime': datetime.datetime(2025, 6, 18, 20, 30, 18, 18000, tzinfo=tzlocal()),\n",
       " 'LastModifiedTime': datetime.datetime(2025, 6, 18, 20, 40, 37, 612000, tzinfo=tzlocal()),\n",
       " 'LastDeploymentConfig': {'BlueGreenUpdatePolicy': {'TrafficRoutingConfiguration': {'Type': 'LINEAR',\n",
       "    'WaitIntervalInSeconds': 60,\n",
       "    'LinearStepSize': {'Type': 'CAPACITY_PERCENT', 'Value': 20}},\n",
       "   'TerminationWaitInSeconds': 120,\n",
       "   'MaximumExecutionTimeoutInSeconds': 1200},\n",
       "  'AutoRollbackConfiguration': {'Alarms': [{'AlarmName': 'TestAlarm-5XXErrors-Abalone-2025-06-18-20-30-17'},\n",
       "    {'AlarmName': 'TestAlarm-ModelLatency-Abalone-2025-06-18-20-30-17'}]}},\n",
       " 'PendingDeploymentSummary': {'EndpointConfigName': 'Abalone-Endpoint-2-2025-06-18-20-30-15',\n",
       "  'ProductionVariants': [{'VariantName': 'AllTraffic',\n",
       "    'DeployedImages': [{'SpecifiedImage': '246618743249.dkr.ecr.us-west-2.amazonaws.com/sagemaker-xgboost:1.2-1',\n",
       "      'ResolvedImage': '246618743249.dkr.ecr.us-west-2.amazonaws.com/sagemaker-xgboost@sha256:705112b74c8c0b2c49eb5ab88716d4f51f48b39a7e722fd8c540bce063d8736a',\n",
       "      'ResolutionTime': datetime.datetime(2025, 6, 18, 20, 40, 37, 829000, tzinfo=tzlocal())}],\n",
       "    'CurrentWeight': 0.0,\n",
       "    'DesiredWeight': 1.0,\n",
       "    'CurrentInstanceCount': 0,\n",
       "    'DesiredInstanceCount': 4,\n",
       "    'InstanceType': 'm4.xlarge',\n",
       "    'VariantStatus': [{'Status': 'Creating',\n",
       "      'StatusMessage': 'Launching 4 instance(s).',\n",
       "      'StartTime': datetime.datetime(2025, 6, 18, 20, 40, 50, tzinfo=tzlocal())}]}],\n",
       "  'StartTime': datetime.datetime(2025, 6, 18, 20, 40, 47, tzinfo=tzlocal())},\n",
       " 'ResponseMetadata': {'RequestId': 'e33b1543-3392-4e21-8c40-50c9bbba1375',\n",
       "  'HTTPStatusCode': 200,\n",
       "  'HTTPHeaders': {'x-amzn-requestid': 'e33b1543-3392-4e21-8c40-50c9bbba1375',\n",
       "   'content-type': 'application/x-amz-json-1.1',\n",
       "   'content-length': '1851',\n",
       "   'date': 'Wed, 18 Jun 2025 20:41:37 GMT'},\n",
       "  'RetryAttempts': 0}}"
      ]
     },
     "execution_count": 17,
     "metadata": {},
     "output_type": "execute_result"
    }
   ],
   "source": [
    "sm.describe_endpoint(EndpointName=endpoint_name)"
   ]
  },
  {
   "attachments": {},
   "cell_type": "markdown",
   "metadata": {},
   "source": [
    "The production model *ProductionVariants* is configured with a variant name of *AllTraffic* and a *SpecifiedImage* that contains *sagemaker-xgboost:1.5-1*. The new model variant information is contained in the *PendingDeploymentSummary*. In the *PendingDeploymentSummary*, notice that *SpecifiedImage* is using *sagemaker-xgboost:1.2-1*. This version causes an error with your model. In this endpoint, all of the traffic is configured to shift from the production model to the model with a small error in it."
   ]
  },
  {
   "attachments": {},
   "cell_type": "markdown",
   "metadata": {},
   "source": [
    "## Task 2.6: View the fleet deployment and monitor for failures\n",
    "\n",
    "Send test data to the endpoint. If any errors appear, this function prints an **E** instead of a period."
   ]
  },
  {
   "cell_type": "code",
   "execution_count": 18,
   "metadata": {
    "execution": {
     "iopub.execute_input": "2025-06-18T20:41:37.447978Z",
     "iopub.status.busy": "2025-06-18T20:41:37.447731Z",
     "iopub.status.idle": "2025-06-18T20:45:44.391084Z",
     "shell.execute_reply": "2025-06-18T20:45:44.390332Z",
     "shell.execute_reply.started": "2025-06-18T20:41:37.447958Z"
    },
    "tags": []
   },
   "outputs": [
    {
     "name": "stdout",
     "output_type": "stream",
     "text": [
      "Sending test traffic to the endpoint Abalone-2025-06-18-20-30-17. \n",
      "Please wait...\n",
      "...................................................................................................................................................................................................................................................................................................................................................................................................................................................................................................................................................................................................................................................................................................................................................E.E.....................E...E.........E...............E.............EDone!\n"
     ]
    }
   ],
   "source": [
    "#send-test-data\n",
    "print(f\"Sending test traffic to the endpoint {endpoint_name}. \\nPlease wait...\")\n",
    "\n",
    "error_count = 0\n",
    "for i in range(0,3):\n",
    "    with open(\"data/abalone_data_test.csv\", \"r\") as f:\n",
    "        for row in f:\n",
    "            print(\".\", end=\"\", flush=True)\n",
    "            payload = row.rstrip(\"\\n\")\n",
    "            try:\n",
    "                response = sm_runtime.invoke_endpoint(\n",
    "                    EndpointName=endpoint_name, ContentType=\"text/csv\", Body=payload\n",
    "                )\n",
    "                response[\"Body\"].read()\n",
    "                print(\".\", end=\"\", flush=True)\n",
    "            except Exception as e:\n",
    "                print(\"E\", end=\"\", flush=True)\n",
    "                error_count += 1\n",
    "                if error_count >= 5:\n",
    "                    break\n",
    "            time.sleep(0.5)\n",
    "f.close()\n",
    "print(\"Done!\")"
   ]
  },
  {
   "attachments": {},
   "cell_type": "markdown",
   "metadata": {},
   "source": [
    "If no errors printed as E in the prior cell, wait one minute and run the cell again. Continue running the cell until you see the errors appear."
   ]
  },
  {
   "attachments": {},
   "cell_type": "markdown",
   "metadata": {},
   "source": [
    "Several errors were thrown during invocation. Wait for the update operation to complete and verify the automatic rollback.\n",
    "\n",
    "<i class=\"fas fa-sticky-note\" style=\"color:#ff6633\"></i> **Note:** The endpoint update takes approximately 1–4 minutes to complete."
   ]
  },
  {
   "cell_type": "code",
   "execution_count": 19,
   "metadata": {
    "execution": {
     "iopub.execute_input": "2025-06-18T20:45:44.392427Z",
     "iopub.status.busy": "2025-06-18T20:45:44.392118Z",
     "iopub.status.idle": "2025-06-18T20:48:16.485918Z",
     "shell.execute_reply": "2025-06-18T20:48:16.485128Z",
     "shell.execute_reply.started": "2025-06-18T20:45:44.392406Z"
    },
    "tags": []
   },
   "outputs": [
    {
     "name": "stdout",
     "output_type": "stream",
     "text": [
      "Waiting for Endpoint to Update\n",
      "Waiting for Endpoint to Update\n",
      "Waiting for Endpoint to Update\n",
      "Waiting for Endpoint to Update\n",
      "Waiting for Endpoint to Update\n",
      "Waiting for Endpoint to Update\n",
      "Waiting for Endpoint to Update\n",
      "Waiting for Endpoint to Update\n",
      "Waiting for Endpoint to Update\n",
      "Waiting for Endpoint to Update\n",
      "Endpoint arn:aws:sagemaker:us-west-2:486956700583:endpoint/Abalone-2025-06-18-20-30-17 successfully updated.\n"
     ]
    },
    {
     "data": {
      "text/plain": [
       "{'EndpointName': 'Abalone-2025-06-18-20-30-17',\n",
       " 'EndpointArn': 'arn:aws:sagemaker:us-west-2:486956700583:endpoint/Abalone-2025-06-18-20-30-17',\n",
       " 'EndpointConfigName': 'Abalone-Endpoint-1-2025-06-18-20-30-15',\n",
       " 'ProductionVariants': [{'VariantName': 'AllTraffic',\n",
       "   'DeployedImages': [{'SpecifiedImage': '246618743249.dkr.ecr.us-west-2.amazonaws.com/sagemaker-xgboost:1.5-1',\n",
       "     'ResolvedImage': '246618743249.dkr.ecr.us-west-2.amazonaws.com/sagemaker-xgboost@sha256:cd128bd02824075bf2e02ee7923aaa8ab50f6c47a2d86d5747b78ca1c5199813',\n",
       "     'ResolutionTime': datetime.datetime(2025, 6, 18, 20, 30, 18, 764000, tzinfo=tzlocal())}],\n",
       "   'CurrentWeight': 1.0,\n",
       "   'DesiredWeight': 1.0,\n",
       "   'CurrentInstanceCount': 4,\n",
       "   'DesiredInstanceCount': 4}],\n",
       " 'EndpointStatus': 'InService',\n",
       " 'FailureReason': 'One or more configured alarm for automatic rollback deployment is in ALARM state: [TestAlarm-ModelLatency-Abalone-2025-06-18-20-30-17].',\n",
       " 'CreationTime': datetime.datetime(2025, 6, 18, 20, 30, 18, 18000, tzinfo=tzlocal()),\n",
       " 'LastModifiedTime': datetime.datetime(2025, 6, 18, 20, 48, 13, 614000, tzinfo=tzlocal()),\n",
       " 'LastDeploymentConfig': {'BlueGreenUpdatePolicy': {'TrafficRoutingConfiguration': {'Type': 'LINEAR',\n",
       "    'WaitIntervalInSeconds': 60,\n",
       "    'LinearStepSize': {'Type': 'CAPACITY_PERCENT', 'Value': 20}},\n",
       "   'TerminationWaitInSeconds': 120,\n",
       "   'MaximumExecutionTimeoutInSeconds': 1200},\n",
       "  'AutoRollbackConfiguration': {'Alarms': [{'AlarmName': 'TestAlarm-5XXErrors-Abalone-2025-06-18-20-30-17'},\n",
       "    {'AlarmName': 'TestAlarm-ModelLatency-Abalone-2025-06-18-20-30-17'}]}},\n",
       " 'ResponseMetadata': {'RequestId': '1cd406de-ce94-4d1e-9bae-c6398cbddf08',\n",
       "  'HTTPStatusCode': 200,\n",
       "  'HTTPHeaders': {'x-amzn-requestid': '1cd406de-ce94-4d1e-9bae-c6398cbddf08',\n",
       "   'content-type': 'application/x-amz-json-1.1',\n",
       "   'content-length': '1316',\n",
       "   'date': 'Wed, 18 Jun 2025 20:48:16 GMT'},\n",
       "  'RetryAttempts': 0}}"
      ]
     },
     "execution_count": 19,
     "metadata": {},
     "output_type": "execute_result"
    }
   ],
   "source": [
    "#wait-for-the-endpoint-to-update\n",
    "def wait_for_endpoint_update_complete(endpoint):\n",
    "    \"\"\"Helper function to wait for the completion of updating an endpoint\"\"\"\n",
    "    response = sm.describe_endpoint(EndpointName=endpoint_name)\n",
    "    status = response.get(\"EndpointStatus\")\n",
    "    while status == \"Updating\":\n",
    "        print(\"Waiting for Endpoint to Update\")\n",
    "        time.sleep(15)\n",
    "        response = sm.describe_endpoint(EndpointName=endpoint_name)\n",
    "        status = response.get(\"EndpointStatus\")\n",
    "        # print(response)\n",
    "\n",
    "    if status != \"InService\":\n",
    "        print(f\"Failed to update endpoint, response: {response}\")\n",
    "        failureReason = response.get(\"FailureReason\", \"\")\n",
    "        raise SystemExit(\n",
    "            f\"Failed to update endpoint {endpoint_response['EndpointArn']}, status: {status}, reason: {failureReason}\"\n",
    "        )\n",
    "    print(f\"Endpoint {endpoint_response['EndpointArn']} successfully updated.\")\n",
    "\n",
    "wait_for_endpoint_update_complete(endpoint=endpoint_response)\n",
    "\n",
    "sm.describe_endpoint(EndpointName=endpoint_name)"
   ]
  },
  {
   "attachments": {},
   "cell_type": "markdown",
   "metadata": {},
   "source": [
    "The production model *ProductionVariants* is configured with a variant name of *AllTraffic* and a *SpecifiedImage* that contains *sagemaker-xgboost:1.5-1*. The *PendingDeploymentSummary* that included the model with an error is gone now.\n",
    "\n",
    "Plot graphs to show the Invocations, Invocation5XXErrors, and ModelLatency for the endpoint that you created.\n",
    "\n",
    "As the new model started deploying, it encountered errors and rolled back. The errors can be seen in the graphs as the Invocation5XXErrors and ModelLatency metrics increase."
   ]
  },
  {
   "cell_type": "code",
   "execution_count": 20,
   "metadata": {
    "execution": {
     "iopub.execute_input": "2025-06-18T20:48:16.487216Z",
     "iopub.status.busy": "2025-06-18T20:48:16.486908Z",
     "iopub.status.idle": "2025-06-18T20:48:16.677749Z",
     "shell.execute_reply": "2025-06-18T20:48:16.676911Z",
     "shell.execute_reply.started": "2025-06-18T20:48:16.487186Z"
    },
    "tags": []
   },
   "outputs": [
    {
     "data": {
      "image/png": "[encoded data removed]",
      "text/plain": [
       "<Figure size 640x480 with 1 Axes>"
      ]
     },
     "metadata": {},
     "output_type": "display_data"
    }
   ],
   "source": [
    "#graph-invocations\n",
    "invocations = plot_endpoint_metrics(\"AWS/SageMaker\", \"Invocations\", \"Sum\")"
   ]
  },
  {
   "cell_type": "code",
   "execution_count": 21,
   "metadata": {
    "execution": {
     "iopub.execute_input": "2025-06-18T20:48:16.679162Z",
     "iopub.status.busy": "2025-06-18T20:48:16.678660Z",
     "iopub.status.idle": "2025-06-18T20:48:16.842085Z",
     "shell.execute_reply": "2025-06-18T20:48:16.841193Z",
     "shell.execute_reply.started": "2025-06-18T20:48:16.679130Z"
    },
    "tags": []
   },
   "outputs": [
    {
     "data": {
      "image/png": "[encoded data removed]",
      "text/plain": [
       "<Figure size 640x480 with 1 Axes>"
      ]
     },
     "metadata": {},
     "output_type": "display_data"
    }
   ],
   "source": [
    "#graph-invocation5xxerrors\n",
    "invocation_5xx_metrics = plot_endpoint_metrics( \"AWS/SageMaker\", \"Invocation5XXErrors\", \"Sum\")"
   ]
  },
  {
   "cell_type": "code",
   "execution_count": 22,
   "metadata": {
    "execution": {
     "iopub.execute_input": "2025-06-18T20:48:16.843842Z",
     "iopub.status.busy": "2025-06-18T20:48:16.843085Z",
     "iopub.status.idle": "2025-06-18T20:48:17.008824Z",
     "shell.execute_reply": "2025-06-18T20:48:17.007696Z",
     "shell.execute_reply.started": "2025-06-18T20:48:16.843816Z"
    },
    "tags": []
   },
   "outputs": [
    {
     "data": {
      "image/png": "[encoded data removed]",
      "text/plain": [
       "<Figure size 640x480 with 1 Axes>"
      ]
     },
     "metadata": {},
     "output_type": "display_data"
    }
   ],
   "source": [
    "#graph-model-latency\n",
    "model_latency_metrics = plot_endpoint_metrics(\"AWS/SageMaker\", \"ModelLatency\", \"Average\")"
   ]
  },
  {
   "attachments": {},
   "cell_type": "markdown",
   "metadata": {},
   "source": [
    "The model failed and rolled back. In the next task, you update the endpoint to use the new model that you tested in the prior lab.\n",
    "\n",
    "## Task 2.7: Update the endpoint with a new traffic routing configuration\n",
    "\n",
    "When a linear traffic shifting job rolls back, you can update the traffic configuration to restart the linear traffic shifting with a new configuration. "
   ]
  },
  {
   "cell_type": "code",
   "execution_count": 23,
   "metadata": {
    "execution": {
     "iopub.execute_input": "2025-06-18T20:48:17.010448Z",
     "iopub.status.busy": "2025-06-18T20:48:17.009836Z",
     "iopub.status.idle": "2025-06-18T20:48:17.497793Z",
     "shell.execute_reply": "2025-06-18T20:48:17.497108Z",
     "shell.execute_reply.started": "2025-06-18T20:48:17.010415Z"
    }
   },
   "outputs": [
    {
     "data": {
      "text/plain": [
       "{'EndpointArn': 'arn:aws:sagemaker:us-west-2:486956700583:endpoint/Abalone-2025-06-18-20-30-17',\n",
       " 'ResponseMetadata': {'RequestId': '2ff57480-a711-4559-bfde-cdcdaa0994ea',\n",
       "  'HTTPStatusCode': 200,\n",
       "  'HTTPHeaders': {'x-amzn-requestid': '2ff57480-a711-4559-bfde-cdcdaa0994ea',\n",
       "   'content-type': 'application/x-amz-json-1.1',\n",
       "   'content-length': '95',\n",
       "   'date': 'Wed, 18 Jun 2025 20:48:17 GMT'},\n",
       "  'RetryAttempts': 0}}"
      ]
     },
     "execution_count": 23,
     "metadata": {},
     "output_type": "execute_result"
    }
   ],
   "source": [
    "#update-endpoint-retain-deployment-config\n",
    "sm.update_endpoint(\n",
    "    EndpointName=endpoint_name,\n",
    "    EndpointConfigName=endpoint_config_3_name,\n",
    "    RetainDeploymentConfig=True,\n",
    ")"
   ]
  },
  {
   "attachments": {},
   "cell_type": "markdown",
   "metadata": {},
   "source": [
    "Describe the endpoint. While the traffic shifts from one model to another, the *EndpointStatus* is *Updating*. "
   ]
  },
  {
   "cell_type": "code",
   "execution_count": 24,
   "metadata": {
    "execution": {
     "iopub.execute_input": "2025-06-18T20:48:17.499163Z",
     "iopub.status.busy": "2025-06-18T20:48:17.498739Z",
     "iopub.status.idle": "2025-06-18T20:48:17.645772Z",
     "shell.execute_reply": "2025-06-18T20:48:17.644865Z",
     "shell.execute_reply.started": "2025-06-18T20:48:17.499133Z"
    },
    "tags": []
   },
   "outputs": [
    {
     "data": {
      "text/plain": [
       "{'EndpointName': 'Abalone-2025-06-18-20-30-17',\n",
       " 'EndpointArn': 'arn:aws:sagemaker:us-west-2:486956700583:endpoint/Abalone-2025-06-18-20-30-17',\n",
       " 'EndpointConfigName': 'Abalone-Endpoint-1-2025-06-18-20-30-15',\n",
       " 'ProductionVariants': [{'VariantName': 'AllTraffic',\n",
       "   'DeployedImages': [{'SpecifiedImage': '246618743249.dkr.ecr.us-west-2.amazonaws.com/sagemaker-xgboost:1.5-1',\n",
       "     'ResolvedImage': '246618743249.dkr.ecr.us-west-2.amazonaws.com/sagemaker-xgboost@sha256:cd128bd02824075bf2e02ee7923aaa8ab50f6c47a2d86d5747b78ca1c5199813',\n",
       "     'ResolutionTime': datetime.datetime(2025, 6, 18, 20, 30, 18, 764000, tzinfo=tzlocal())}],\n",
       "   'CurrentWeight': 1.0,\n",
       "   'DesiredWeight': 1.0,\n",
       "   'CurrentInstanceCount': 4,\n",
       "   'DesiredInstanceCount': 4}],\n",
       " 'EndpointStatus': 'Updating',\n",
       " 'FailureReason': 'One or more configured alarm for automatic rollback deployment is in ALARM state: [TestAlarm-ModelLatency-Abalone-2025-06-18-20-30-17].',\n",
       " 'CreationTime': datetime.datetime(2025, 6, 18, 20, 30, 18, 18000, tzinfo=tzlocal()),\n",
       " 'LastModifiedTime': datetime.datetime(2025, 6, 18, 20, 48, 17, 478000, tzinfo=tzlocal()),\n",
       " 'LastDeploymentConfig': {'BlueGreenUpdatePolicy': {'TrafficRoutingConfiguration': {'Type': 'LINEAR',\n",
       "    'WaitIntervalInSeconds': 60,\n",
       "    'LinearStepSize': {'Type': 'CAPACITY_PERCENT', 'Value': 20}},\n",
       "   'TerminationWaitInSeconds': 120,\n",
       "   'MaximumExecutionTimeoutInSeconds': 1200},\n",
       "  'AutoRollbackConfiguration': {'Alarms': [{'AlarmName': 'TestAlarm-5XXErrors-Abalone-2025-06-18-20-30-17'},\n",
       "    {'AlarmName': 'TestAlarm-ModelLatency-Abalone-2025-06-18-20-30-17'}]}},\n",
       " 'PendingDeploymentSummary': {'EndpointConfigName': 'Abalone-Endpoint-3-2025-06-18-20-30-16',\n",
       "  'ProductionVariants': [{'VariantName': 'AllTraffic',\n",
       "    'DeployedImages': [{'SpecifiedImage': '246618743249.dkr.ecr.us-west-2.amazonaws.com/sagemaker-xgboost:1.5-1',\n",
       "      'ResolvedImage': '246618743249.dkr.ecr.us-west-2.amazonaws.com/sagemaker-xgboost@sha256:cd128bd02824075bf2e02ee7923aaa8ab50f6c47a2d86d5747b78ca1c5199813',\n",
       "      'ResolutionTime': datetime.datetime(2025, 6, 18, 20, 30, 18, 764000, tzinfo=tzlocal())}],\n",
       "    'CurrentWeight': 0.0,\n",
       "    'DesiredWeight': 1.0,\n",
       "    'CurrentInstanceCount': 0,\n",
       "    'DesiredInstanceCount': 4,\n",
       "    'InstanceType': 'm4.xlarge',\n",
       "    'VariantStatus': [{'Status': 'ActivatingTraffic',\n",
       "      'StatusMessage': 'Activating traffic on 4 instance(s).',\n",
       "      'StartTime': datetime.datetime(2025, 6, 18, 20, 48, 9, tzinfo=tzlocal())}]}],\n",
       "  'StartTime': datetime.datetime(2025, 6, 18, 20, 48, 8, tzinfo=tzlocal())},\n",
       " 'ResponseMetadata': {'RequestId': '78fada8d-d037-4c66-9835-ac78779c20da',\n",
       "  'HTTPStatusCode': 200,\n",
       "  'HTTPHeaders': {'x-amzn-requestid': '78fada8d-d037-4c66-9835-ac78779c20da',\n",
       "   'content-type': 'application/x-amz-json-1.1',\n",
       "   'content-length': '2027',\n",
       "   'date': 'Wed, 18 Jun 2025 20:48:17 GMT'},\n",
       "  'RetryAttempts': 0}}"
      ]
     },
     "execution_count": 24,
     "metadata": {},
     "output_type": "execute_result"
    }
   ],
   "source": [
    "sm.describe_endpoint(EndpointName=endpoint_name)"
   ]
  },
  {
   "attachments": {},
   "cell_type": "markdown",
   "metadata": {},
   "source": [
    "The production model *ProductionVariants* is configured with a variant name of *AllTraffic* and a *SpecifiedImage* that contains *sagemaker-xgboost:1.5-1*. The new model variant information is contained in the *PendingDeploymentSummary*. In the *PendingDeploymentSummary*, notice that *SpecifiedImage* is also using *sagemaker-xgboost:1.5-1*. In this endpoint, all traffic is configured to shift from the production model to the new model.\n",
    "\n",
    "Invoke the endpoint while the model updates. Because the endpoint deployment rolled back to the production model and you already tested the new model, you should see no errors. "
   ]
  },
  {
   "cell_type": "code",
   "execution_count": 25,
   "metadata": {
    "execution": {
     "iopub.execute_input": "2025-06-18T20:48:17.647103Z",
     "iopub.status.busy": "2025-06-18T20:48:17.646853Z",
     "iopub.status.idle": "2025-06-18T20:52:06.044594Z",
     "shell.execute_reply": "2025-06-18T20:52:06.043584Z",
     "shell.execute_reply.started": "2025-06-18T20:48:17.647081Z"
    },
    "tags": []
   },
   "outputs": [
    {
     "name": "stdout",
     "output_type": "stream",
     "text": [
      "Sending test traffic to the endpoint Abalone-2025-06-18-20-30-17. \n",
      "Please wait...\n",
      "................................................................................................................................................................................................................................................................................................................................................................................................................................................................................................................................................................................................................................................................................................................................................................................................................................................................................................................................................................................................................................................................................................................................................................................................................................................................................................................................................................................................................................................................................................................................................................................................................................................................................................................................................................................................................................................................................................................................................................................................................................................................................Done!\n"
     ]
    }
   ],
   "source": [
    "#send-test-data\n",
    "print(f\"Sending test traffic to the endpoint {endpoint_name}. \\nPlease wait...\")\n",
    "\n",
    "error_count = 0\n",
    "with open(\"data/abalone_data_test.csv\", \"r\") as f:\n",
    "    for row in f:\n",
    "        payload = row.rstrip(\"\\n\")\n",
    "        try:\n",
    "            response = sm_runtime.invoke_endpoint(\n",
    "                EndpointName=endpoint_name, ContentType=\"text/csv\", Body=payload\n",
    "            )\n",
    "            response[\"Body\"].read()\n",
    "            print(\".\", end=\"\", flush=True)\n",
    "        except Exception as e:\n",
    "            print(\"E\", end=\"\", flush=True)\n",
    "            error_count += 1\n",
    "            if error_count == 5:\n",
    "                break\n",
    "        time.sleep(0.1)\n",
    "f.close()\n",
    "print(\"Done!\")"
   ]
  },
  {
   "attachments": {},
   "cell_type": "markdown",
   "metadata": {},
   "source": [
    "Collect the endpoint metrics during the deployment.\n",
    "\n",
    "The traffic is actively shifting from the production model to the new model. As the linear traffic shifting job runs, the Invocation5XXErrors show no issues and the average ModelLatency decreases."
   ]
  },
  {
   "cell_type": "code",
   "execution_count": 26,
   "metadata": {
    "execution": {
     "iopub.execute_input": "2025-06-18T20:52:06.045910Z",
     "iopub.status.busy": "2025-06-18T20:52:06.045461Z",
     "iopub.status.idle": "2025-06-18T20:53:06.262597Z",
     "shell.execute_reply": "2025-06-18T20:53:06.261752Z",
     "shell.execute_reply.started": "2025-06-18T20:52:06.045875Z"
    },
    "tags": []
   },
   "outputs": [
    {
     "name": "stdout",
     "output_type": "stream",
     "text": [
      "Waiting a minute for metric creation...\n"
     ]
    },
    {
     "data": {
      "image/png": "[encoded data removed]",
      "text/plain": [
       "<Figure size 640x480 with 1 Axes>"
      ]
     },
     "metadata": {},
     "output_type": "display_data"
    }
   ],
   "source": [
    "#graph-invocations\n",
    "print(\"Waiting a minute for metric creation...\")\n",
    "time.sleep(60)\n",
    "invocations = plot_endpoint_metrics(\"AWS/SageMaker\", \"Invocations\", \"Sum\")"
   ]
  },
  {
   "cell_type": "code",
   "execution_count": 27,
   "metadata": {
    "execution": {
     "iopub.execute_input": "2025-06-18T20:53:06.264164Z",
     "iopub.status.busy": "2025-06-18T20:53:06.263832Z",
     "iopub.status.idle": "2025-06-18T20:53:06.436908Z",
     "shell.execute_reply": "2025-06-18T20:53:06.436215Z",
     "shell.execute_reply.started": "2025-06-18T20:53:06.264131Z"
    },
    "tags": []
   },
   "outputs": [
    {
     "data": {
      "image/png": "[encoded data removed]",
      "text/plain": [
       "<Figure size 640x480 with 1 Axes>"
      ]
     },
     "metadata": {},
     "output_type": "display_data"
    }
   ],
   "source": [
    "#graph-invocation5xxerrors\n",
    "invocation_5xx_metrics = plot_endpoint_metrics( \"AWS/SageMaker\", \"Invocation5XXErrors\", \"Sum\")"
   ]
  },
  {
   "cell_type": "code",
   "execution_count": 28,
   "metadata": {
    "execution": {
     "iopub.execute_input": "2025-06-18T20:53:06.438303Z",
     "iopub.status.busy": "2025-06-18T20:53:06.437853Z",
     "iopub.status.idle": "2025-06-18T20:53:06.623408Z",
     "shell.execute_reply": "2025-06-18T20:53:06.622518Z",
     "shell.execute_reply.started": "2025-06-18T20:53:06.438273Z"
    },
    "tags": []
   },
   "outputs": [
    {
     "data": {
      "image/png": "[encoded data removed]",
      "text/plain": [
       "<Figure size 640x480 with 1 Axes>"
      ]
     },
     "metadata": {},
     "output_type": "display_data"
    }
   ],
   "source": [
    "#graph-model-latency\n",
    "model_latency_metrics = plot_endpoint_metrics(\"AWS/SageMaker\", \"ModelLatency\", \"Average\")"
   ]
  },
  {
   "attachments": {},
   "cell_type": "markdown",
   "metadata": {},
   "source": [
    "You have conducted linear traffic shifting to gradually shift traffic from your old model to a model with an error, which automatically rolled back. Then, you successfully shifted traffic from your old model to your new model.\n",
    "\n",
    "### Cleanup\n",
    "\n",
    "You have completed this notebook. To move to the next part of the lab, do the following:\n",
    "\n",
    "- Close this notebook file.\n",
    "- Return to the lab session and continue with the **Conclusion**."
   ]
  }
 ],
 "metadata": {
  "availableInstances": [
   {
    "_defaultOrder": 0,
    "_isFastLaunch": true,
    "category": "General purpose",
    "gpuNum": 0,
    "hideHardwareSpecs": false,
    "memoryGiB": 4,
    "name": "ml.t3.medium",
    "vcpuNum": 2
   },
   {
    "_defaultOrder": 1,
    "_isFastLaunch": false,
    "category": "General purpose",
    "gpuNum": 0,
    "hideHardwareSpecs": false,
    "memoryGiB": 8,
    "name": "ml.t3.large",
    "vcpuNum": 2
   },
   {
    "_defaultOrder": 2,
    "_isFastLaunch": false,
    "category": "General purpose",
    "gpuNum": 0,
    "hideHardwareSpecs": false,
    "memoryGiB": 16,
    "name": "ml.t3.xlarge",
    "vcpuNum": 4
   },
   {
    "_defaultOrder": 3,
    "_isFastLaunch": false,
    "category": "General purpose",
    "gpuNum": 0,
    "hideHardwareSpecs": false,
    "memoryGiB": 32,
    "name": "ml.t3.2xlarge",
    "vcpuNum": 8
   },
   {
    "_defaultOrder": 4,
    "_isFastLaunch": true,
    "category": "General purpose",
    "gpuNum": 0,
    "hideHardwareSpecs": false,
    "memoryGiB": 8,
    "name": "ml.m5.large",
    "vcpuNum": 2
   },
   {
    "_defaultOrder": 5,
    "_isFastLaunch": false,
    "category": "General purpose",
    "gpuNum": 0,
    "hideHardwareSpecs": false,
    "memoryGiB": 16,
    "name": "ml.m5.xlarge",
    "vcpuNum": 4
   },
   {
    "_defaultOrder": 6,
    "_isFastLaunch": false,
    "category": "General purpose",
    "gpuNum": 0,
    "hideHardwareSpecs": false,
    "memoryGiB": 32,
    "name": "ml.m5.2xlarge",
    "vcpuNum": 8
   },
   {
    "_defaultOrder": 7,
    "_isFastLaunch": false,
    "category": "General purpose",
    "gpuNum": 0,
    "hideHardwareSpecs": false,
    "memoryGiB": 64,
    "name": "ml.m5.4xlarge",
    "vcpuNum": 16
   },
   {
    "_defaultOrder": 8,
    "_isFastLaunch": false,
    "category": "General purpose",
    "gpuNum": 0,
    "hideHardwareSpecs": false,
    "memoryGiB": 128,
    "name": "ml.m5.8xlarge",
    "vcpuNum": 32
   },
   {
    "_defaultOrder": 9,
    "_isFastLaunch": false,
    "category": "General purpose",
    "gpuNum": 0,
    "hideHardwareSpecs": false,
    "memoryGiB": 192,
    "name": "ml.m5.12xlarge",
    "vcpuNum": 48
   },
   {
    "_defaultOrder": 10,
    "_isFastLaunch": false,
    "category": "General purpose",
    "gpuNum": 0,
    "hideHardwareSpecs": false,
    "memoryGiB": 256,
    "name": "ml.m5.16xlarge",
    "vcpuNum": 64
   },
   {
    "_defaultOrder": 11,
    "_isFastLaunch": false,
    "category": "General purpose",
    "gpuNum": 0,
    "hideHardwareSpecs": false,
    "memoryGiB": 384,
    "name": "ml.m5.24xlarge",
    "vcpuNum": 96
   },
   {
    "_defaultOrder": 12,
    "_isFastLaunch": false,
    "category": "General purpose",
    "gpuNum": 0,
    "hideHardwareSpecs": false,
    "memoryGiB": 8,
    "name": "ml.m5d.large",
    "vcpuNum": 2
   },
   {
    "_defaultOrder": 13,
    "_isFastLaunch": false,
    "category": "General purpose",
    "gpuNum": 0,
    "hideHardwareSpecs": false,
    "memoryGiB": 16,
    "name": "ml.m5d.xlarge",
    "vcpuNum": 4
   },
   {
    "_defaultOrder": 14,
    "_isFastLaunch": false,
    "category": "General purpose",
    "gpuNum": 0,
    "hideHardwareSpecs": false,
    "memoryGiB": 32,
    "name": "ml.m5d.2xlarge",
    "vcpuNum": 8
   },
   {
    "_defaultOrder": 15,
    "_isFastLaunch": false,
    "category": "General purpose",
    "gpuNum": 0,
    "hideHardwareSpecs": false,
    "memoryGiB": 64,
    "name": "ml.m5d.4xlarge",
    "vcpuNum": 16
   },
   {
    "_defaultOrder": 16,
    "_isFastLaunch": false,
    "category": "General purpose",
    "gpuNum": 0,
    "hideHardwareSpecs": false,
    "memoryGiB": 128,
    "name": "ml.m5d.8xlarge",
    "vcpuNum": 32
   },
   {
    "_defaultOrder": 17,
    "_isFastLaunch": false,
    "category": "General purpose",
    "gpuNum": 0,
    "hideHardwareSpecs": false,
    "memoryGiB": 192,
    "name": "ml.m5d.12xlarge",
    "vcpuNum": 48
   },
   {
    "_defaultOrder": 18,
    "_isFastLaunch": false,
    "category": "General purpose",
    "gpuNum": 0,
    "hideHardwareSpecs": false,
    "memoryGiB": 256,
    "name": "ml.m5d.16xlarge",
    "vcpuNum": 64
   },
   {
    "_defaultOrder": 19,
    "_isFastLaunch": false,
    "category": "General purpose",
    "gpuNum": 0,
    "hideHardwareSpecs": false,
    "memoryGiB": 384,
    "name": "ml.m5d.24xlarge",
    "vcpuNum": 96
   },
   {
    "_defaultOrder": 20,
    "_isFastLaunch": false,
    "category": "General purpose",
    "gpuNum": 0,
    "hideHardwareSpecs": true,
    "memoryGiB": 0,
    "name": "ml.geospatial.interactive",
    "supportedImageNames": [
     "sagemaker-geospatial-v1-0"
    ],
    "vcpuNum": 0
   },
   {
    "_defaultOrder": 21,
    "_isFastLaunch": true,
    "category": "Compute optimized",
    "gpuNum": 0,
    "hideHardwareSpecs": false,
    "memoryGiB": 4,
    "name": "ml.c5.large",
    "vcpuNum": 2
   },
   {
    "_defaultOrder": 22,
    "_isFastLaunch": false,
    "category": "Compute optimized",
    "gpuNum": 0,
    "hideHardwareSpecs": false,
    "memoryGiB": 8,
    "name": "ml.c5.xlarge",
    "vcpuNum": 4
   },
   {
    "_defaultOrder": 23,
    "_isFastLaunch": false,
    "category": "Compute optimized",
    "gpuNum": 0,
    "hideHardwareSpecs": false,
    "memoryGiB": 16,
    "name": "ml.c5.2xlarge",
    "vcpuNum": 8
   },
   {
    "_defaultOrder": 24,
    "_isFastLaunch": false,
    "category": "Compute optimized",
    "gpuNum": 0,
    "hideHardwareSpecs": false,
    "memoryGiB": 32,
    "name": "ml.c5.4xlarge",
    "vcpuNum": 16
   },
   {
    "_defaultOrder": 25,
    "_isFastLaunch": false,
    "category": "Compute optimized",
    "gpuNum": 0,
    "hideHardwareSpecs": false,
    "memoryGiB": 72,
    "name": "ml.c5.9xlarge",
    "vcpuNum": 36
   },
   {
    "_defaultOrder": 26,
    "_isFastLaunch": false,
    "category": "Compute optimized",
    "gpuNum": 0,
    "hideHardwareSpecs": false,
    "memoryGiB": 96,
    "name": "ml.c5.12xlarge",
    "vcpuNum": 48
   },
   {
    "_defaultOrder": 27,
    "_isFastLaunch": false,
    "category": "Compute optimized",
    "gpuNum": 0,
    "hideHardwareSpecs": false,
    "memoryGiB": 144,
    "name": "ml.c5.18xlarge",
    "vcpuNum": 72
   },
   {
    "_defaultOrder": 28,
    "_isFastLaunch": false,
    "category": "Compute optimized",
    "gpuNum": 0,
    "hideHardwareSpecs": false,
    "memoryGiB": 192,
    "name": "ml.c5.24xlarge",
    "vcpuNum": 96
   },
   {
    "_defaultOrder": 29,
    "_isFastLaunch": true,
    "category": "Accelerated computing",
    "gpuNum": 1,
    "hideHardwareSpecs": false,
    "memoryGiB": 16,
    "name": "ml.g4dn.xlarge",
    "vcpuNum": 4
   },
   {
    "_defaultOrder": 30,
    "_isFastLaunch": false,
    "category": "Accelerated computing",
    "gpuNum": 1,
    "hideHardwareSpecs": false,
    "memoryGiB": 32,
    "name": "ml.g4dn.2xlarge",
    "vcpuNum": 8
   },
   {
    "_defaultOrder": 31,
    "_isFastLaunch": false,
    "category": "Accelerated computing",
    "gpuNum": 1,
    "hideHardwareSpecs": false,
    "memoryGiB": 64,
    "name": "ml.g4dn.4xlarge",
    "vcpuNum": 16
   },
   {
    "_defaultOrder": 32,
    "_isFastLaunch": false,
    "category": "Accelerated computing",
    "gpuNum": 1,
    "hideHardwareSpecs": false,
    "memoryGiB": 128,
    "name": "ml.g4dn.8xlarge",
    "vcpuNum": 32
   },
   {
    "_defaultOrder": 33,
    "_isFastLaunch": false,
    "category": "Accelerated computing",
    "gpuNum": 4,
    "hideHardwareSpecs": false,
    "memoryGiB": 192,
    "name": "ml.g4dn.12xlarge",
    "vcpuNum": 48
   },
   {
    "_defaultOrder": 34,
    "_isFastLaunch": false,
    "category": "Accelerated computing",
    "gpuNum": 1,
    "hideHardwareSpecs": false,
    "memoryGiB": 256,
    "name": "ml.g4dn.16xlarge",
    "vcpuNum": 64
   },
   {
    "_defaultOrder": 35,
    "_isFastLaunch": false,
    "category": "Accelerated computing",
    "gpuNum": 1,
    "hideHardwareSpecs": false,
    "memoryGiB": 61,
    "name": "ml.p3.2xlarge",
    "vcpuNum": 8
   },
   {
    "_defaultOrder": 36,
    "_isFastLaunch": false,
    "category": "Accelerated computing",
    "gpuNum": 4,
    "hideHardwareSpecs": false,
    "memoryGiB": 244,
    "name": "ml.p3.8xlarge",
    "vcpuNum": 32
   },
   {
    "_defaultOrder": 37,
    "_isFastLaunch": false,
    "category": "Accelerated computing",
    "gpuNum": 8,
    "hideHardwareSpecs": false,
    "memoryGiB": 488,
    "name": "ml.p3.16xlarge",
    "vcpuNum": 64
   },
   {
    "_defaultOrder": 38,
    "_isFastLaunch": false,
    "category": "Accelerated computing",
    "gpuNum": 8,
    "hideHardwareSpecs": false,
    "memoryGiB": 768,
    "name": "ml.p3dn.24xlarge",
    "vcpuNum": 96
   },
   {
    "_defaultOrder": 39,
    "_isFastLaunch": false,
    "category": "Memory Optimized",
    "gpuNum": 0,
    "hideHardwareSpecs": false,
    "memoryGiB": 16,
    "name": "ml.r5.large",
    "vcpuNum": 2
   },
   {
    "_defaultOrder": 40,
    "_isFastLaunch": false,
    "category": "Memory Optimized",
    "gpuNum": 0,
    "hideHardwareSpecs": false,
    "memoryGiB": 32,
    "name": "ml.r5.xlarge",
    "vcpuNum": 4
   },
   {
    "_defaultOrder": 41,
    "_isFastLaunch": false,
    "category": "Memory Optimized",
    "gpuNum": 0,
    "hideHardwareSpecs": false,
    "memoryGiB": 64,
    "name": "ml.r5.2xlarge",
    "vcpuNum": 8
   },
   {
    "_defaultOrder": 42,
    "_isFastLaunch": false,
    "category": "Memory Optimized",
    "gpuNum": 0,
    "hideHardwareSpecs": false,
    "memoryGiB": 128,
    "name": "ml.r5.4xlarge",
    "vcpuNum": 16
   },
   {
    "_defaultOrder": 43,
    "_isFastLaunch": false,
    "category": "Memory Optimized",
    "gpuNum": 0,
    "hideHardwareSpecs": false,
    "memoryGiB": 256,
    "name": "ml.r5.8xlarge",
    "vcpuNum": 32
   },
   {
    "_defaultOrder": 44,
    "_isFastLaunch": false,
    "category": "Memory Optimized",
    "gpuNum": 0,
    "hideHardwareSpecs": false,
    "memoryGiB": 384,
    "name": "ml.r5.12xlarge",
    "vcpuNum": 48
   },
   {
    "_defaultOrder": 45,
    "_isFastLaunch": false,
    "category": "Memory Optimized",
    "gpuNum": 0,
    "hideHardwareSpecs": false,
    "memoryGiB": 512,
    "name": "ml.r5.16xlarge",
    "vcpuNum": 64
   },
   {
    "_defaultOrder": 46,
    "_isFastLaunch": false,
    "category": "Memory Optimized",
    "gpuNum": 0,
    "hideHardwareSpecs": false,
    "memoryGiB": 768,
    "name": "ml.r5.24xlarge",
    "vcpuNum": 96
   },
   {
    "_defaultOrder": 47,
    "_isFastLaunch": false,
    "category": "Accelerated computing",
    "gpuNum": 1,
    "hideHardwareSpecs": false,
    "memoryGiB": 16,
    "name": "ml.g5.xlarge",
    "vcpuNum": 4
   },
   {
    "_defaultOrder": 48,
    "_isFastLaunch": false,
    "category": "Accelerated computing",
    "gpuNum": 1,
    "hideHardwareSpecs": false,
    "memoryGiB": 32,
    "name": "ml.g5.2xlarge",
    "vcpuNum": 8
   },
   {
    "_defaultOrder": 49,
    "_isFastLaunch": false,
    "category": "Accelerated computing",
    "gpuNum": 1,
    "hideHardwareSpecs": false,
    "memoryGiB": 64,
    "name": "ml.g5.4xlarge",
    "vcpuNum": 16
   },
   {
    "_defaultOrder": 50,
    "_isFastLaunch": false,
    "category": "Accelerated computing",
    "gpuNum": 1,
    "hideHardwareSpecs": false,
    "memoryGiB": 128,
    "name": "ml.g5.8xlarge",
    "vcpuNum": 32
   },
   {
    "_defaultOrder": 51,
    "_isFastLaunch": false,
    "category": "Accelerated computing",
    "gpuNum": 1,
    "hideHardwareSpecs": false,
    "memoryGiB": 256,
    "name": "ml.g5.16xlarge",
    "vcpuNum": 64
   },
   {
    "_defaultOrder": 52,
    "_isFastLaunch": false,
    "category": "Accelerated computing",
    "gpuNum": 4,
    "hideHardwareSpecs": false,
    "memoryGiB": 192,
    "name": "ml.g5.12xlarge",
    "vcpuNum": 48
   },
   {
    "_defaultOrder": 53,
    "_isFastLaunch": false,
    "category": "Accelerated computing",
    "gpuNum": 4,
    "hideHardwareSpecs": false,
    "memoryGiB": 384,
    "name": "ml.g5.24xlarge",
    "vcpuNum": 96
   },
   {
    "_defaultOrder": 54,
    "_isFastLaunch": false,
    "category": "Accelerated computing",
    "gpuNum": 8,
    "hideHardwareSpecs": false,
    "memoryGiB": 768,
    "name": "ml.g5.48xlarge",
    "vcpuNum": 192
   },
   {
    "_defaultOrder": 55,
    "_isFastLaunch": false,
    "category": "Accelerated computing",
    "gpuNum": 8,
    "hideHardwareSpecs": false,
    "memoryGiB": 1152,
    "name": "ml.p4d.24xlarge",
    "vcpuNum": 96
   },
   {
    "_defaultOrder": 56,
    "_isFastLaunch": false,
    "category": "Accelerated computing",
    "gpuNum": 8,
    "hideHardwareSpecs": false,
    "memoryGiB": 1152,
    "name": "ml.p4de.24xlarge",
    "vcpuNum": 96
   }
  ],
  "instance_type": "ml.t3.medium",
  "kernelspec": {
   "display_name": "Python 3 (ipykernel)",
   "language": "python",
   "name": "python3"
  },
  "language_info": {
   "codemirror_mode": {
    "name": "ipython",
    "version": 3
   },
   "file_extension": ".py",
   "mimetype": "text/x-python",
   "name": "python",
   "nbconvert_exporter": "python",
   "pygments_lexer": "ipython3",
   "version": "3.12.9"
  },
  "vscode": {
   "interpreter": {
    "hash": "741de909edea0d5644898c592544ed98bede62b404d20772e5c4abc3c2f12566"
   }
  }
 },
 "nbformat": 4,
 "nbformat_minor": 4
}

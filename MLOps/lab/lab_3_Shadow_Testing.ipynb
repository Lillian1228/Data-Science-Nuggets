{
 "cells": [
  {
   "attachments": {},
   "cell_type": "markdown",
   "metadata": {},
   "source": [
    "# Task 3: Shadow testing\n",
    "\n",
    "In this notebook, you implement a shadow testing strategy by configuring and testing production and shadow model variants. You review results from the production and shadow model variants, and identify the model with the best performance."
   ]
  },
  {
   "attachments": {},
   "cell_type": "markdown",
   "metadata": {},
   "source": [
    "## Task 3.1: Environment setup\n",
    "\n",
    "Install the required libraries and dependencies."
   ]
  },
  {
   "cell_type": "code",
   "execution_count": 20,
   "metadata": {
    "execution": {
     "iopub.execute_input": "2025-06-18T17:24:29.395515Z",
     "iopub.status.busy": "2025-06-18T17:24:29.394742Z",
     "iopub.status.idle": "2025-06-18T17:24:30.399749Z",
     "shell.execute_reply": "2025-06-18T17:24:30.398988Z",
     "shell.execute_reply.started": "2025-06-18T17:24:29.395358Z"
    },
    "tags": []
   },
   "outputs": [],
   "source": [
    "%%capture\n",
    "%matplotlib inline\n",
    "from datetime import datetime, timedelta\n",
    "import time\n",
    "import os\n",
    "import boto3\n",
    "import re\n",
    "import json\n",
    "import pandas as pd\n",
    "import numpy as np\n",
    "import seaborn as sb\n",
    "import matplotlib.pyplot as plt\n",
    "from sagemaker import get_execution_role, session\n",
    "from sagemaker.s3 import S3Downloader, S3Uploader\n",
    "from sagemaker.image_uris import retrieve\n",
    "from sagemaker.session import production_variant\n",
    "from sklearn import metrics\n",
    "from sklearn.metrics import r2_score\n",
    "from sklearn.metrics import mean_absolute_error\n",
    "from sklearn.metrics import mean_squared_error, root_mean_squared_error\n",
    "\n",
    "region = boto3.Session().region_name\n",
    "role = get_execution_role()\n",
    "sm_session = session.Session(boto3.Session())\n",
    "sm = boto3.Session().client(\"sagemaker\")\n",
    "sm_runtime = boto3.Session().client(\"sagemaker-runtime\")\n",
    "cw = boto3.Session().client(\"cloudwatch\")\n",
    "s3 = boto3.Session().client(\"s3\")\n",
    "\n",
    "bucket = sm_session.default_bucket()\n",
    "prefix = 'sagemaker/abalone'\n",
    "data_capture_prefix = 'sagemaker/abalone/models'"
   ]
  },
  {
   "attachments": {},
   "cell_type": "markdown",
   "metadata": {},
   "source": [
    "## Task 3.2: Create an endpoint\n",
    "\n",
    "You already used A/B testing to send traffic to the new model. AnyCompany is interested in using either A/B testing or Shadow testing, depending on which one works the best with their business requirements. Before committing to a deployment strategy, try another model testing and deployment strategy.\n",
    "\n",
    "You use shadow testing to send traffic to the new model without disrupting the traffic that is sent to the production endpoint. Shadow testing helps minimize the risk of deploying a low-performing model into production. It also gives a more realistic comparison between the two models by using the same data for inference and minimizes downtime. \n",
    "\n",
    "To start, upload the new model to an Amazon Simple Storage Service (Amazon S3) bucket with the current model that is in production. Next, create the production endpoint. Finally, update the endpoint to add the new model as a shadow variant.\n",
    "\n",
    "First, upload the models to the S3 bucket. The current model in production is *model_A.tar.gz* and the new model is *model_B.tar.gz*."
   ]
  },
  {
   "cell_type": "code",
   "execution_count": 2,
   "metadata": {
    "execution": {
     "iopub.execute_input": "2025-06-18T16:51:27.766694Z",
     "iopub.status.busy": "2025-06-18T16:51:27.765987Z",
     "iopub.status.idle": "2025-06-18T16:51:28.216236Z",
     "shell.execute_reply": "2025-06-18T16:51:28.215580Z",
     "shell.execute_reply.started": "2025-06-18T16:51:27.766667Z"
    },
    "tags": []
   },
   "outputs": [
    {
     "data": {
      "text/plain": [
       "('s3://sagemaker-us-west-2-916235518742/sagemaker/abalone/model_A.tar.gz',\n",
       " 's3://sagemaker-us-west-2-916235518742/sagemaker/abalone/model_B.tar.gz')"
      ]
     },
     "execution_count": 2,
     "metadata": {},
     "output_type": "execute_result"
    }
   ],
   "source": [
    "#upload-models\n",
    "model_url = S3Uploader.upload(\n",
    "    local_path=\"models/model_A.tar.gz\", desired_s3_uri=f\"s3://{bucket}/{prefix}\"\n",
    ")\n",
    "model_url2 = S3Uploader.upload(\n",
    "    local_path=\"models/model_B.tar.gz\", desired_s3_uri=f\"s3://{bucket}/{prefix}\"\n",
    ")\n",
    "model_url, model_url2"
   ]
  },
  {
   "attachments": {},
   "cell_type": "markdown",
   "metadata": {},
   "source": [
    "Next, create model definitions for the pre-trained abalone models."
   ]
  },
  {
   "cell_type": "code",
   "execution_count": 3,
   "metadata": {
    "execution": {
     "iopub.execute_input": "2025-06-18T16:51:32.825675Z",
     "iopub.status.busy": "2025-06-18T16:51:32.825066Z",
     "iopub.status.idle": "2025-06-18T16:51:34.604598Z",
     "shell.execute_reply": "2025-06-18T16:51:34.603702Z",
     "shell.execute_reply.started": "2025-06-18T16:51:32.825651Z"
    },
    "tags": []
   },
   "outputs": [
    {
     "name": "stdout",
     "output_type": "stream",
     "text": [
      "abalone-A-2025-06-18-16-51-32\n",
      "abalone-B-2025-06-18-16-51-32\n"
     ]
    }
   ],
   "source": [
    "#create-model-definitions\n",
    "model_name = f\"abalone-A-{datetime.now():%Y-%m-%d-%H-%M-%S}\"\n",
    "model_name2 = f\"abalone-B-{datetime.now():%Y-%m-%d-%H-%M-%S}\"\n",
    "image_uri = retrieve(\"xgboost\", boto3.Session().region_name, \"1.5-1\")\n",
    "image_uri2 = retrieve(\"xgboost\", boto3.Session().region_name, \"1.5-1\")\n",
    "\n",
    "response = sm_session.create_model(\n",
    "    name=model_name, role=role, container_defs={\"Image\": image_uri, \"ModelDataUrl\": model_url}\n",
    ")\n",
    "\n",
    "response_2 = sm_session.create_model(\n",
    "    name=model_name2, role=role, container_defs={\"Image\": image_uri2, \"ModelDataUrl\": model_url2}\n",
    ")\n",
    "\n",
    "print(response)\n",
    "print(response_2)"
   ]
  },
  {
   "attachments": {},
   "cell_type": "markdown",
   "metadata": {},
   "source": [
    "Then, create the production endpoint configuration. When you create an endpoint with *create_endpoint*, you must include an **EndpointName** and an **EndpointConfigName**. \n",
    "\n",
    "The endpoint configuration for shadow testing is defined the same way that a production variant is defined. When you use *create_endpoint*, you can use **ProductionVariants** and **ShadowVariants** to distinguish between the current production model and the new shadow model. Model A, the model currently in production, is set up as a *ProductionVariant*. Model B, the model from the prior lab that you want to deploy in shadow mode, is set up as a *ShadowVariant* later in the lab."
   ]
  },
  {
   "cell_type": "code",
   "execution_count": 4,
   "metadata": {
    "execution": {
     "iopub.execute_input": "2025-06-18T16:51:45.001697Z",
     "iopub.status.busy": "2025-06-18T16:51:45.001404Z",
     "iopub.status.idle": "2025-06-18T16:51:45.403121Z",
     "shell.execute_reply": "2025-06-18T16:51:45.402432Z",
     "shell.execute_reply.started": "2025-06-18T16:51:45.001678Z"
    },
    "tags": []
   },
   "outputs": [
    {
     "name": "stdout",
     "output_type": "stream",
     "text": [
      "Endpoint configuration arn:  arn:aws:sagemaker:us-west-2:916235518742:endpoint-config/Abalone-Shadow-Testing-Endpoint\n"
     ]
    }
   ],
   "source": [
    "#create-endpoint-configuration\n",
    "endpoint_config_response = sm.create_endpoint_config(\n",
    "    EndpointConfigName = 'Abalone-Shadow-Testing-Endpoint',\n",
    "    ProductionVariants=[\n",
    "        {\n",
    "            'ModelName':model_name,\n",
    "            'InstanceType':'ml.m5.xlarge',\n",
    "            'InitialInstanceCount':2,\n",
    "            'VariantName':'Production-Model-A',\n",
    "            'InitialVariantWeight':1\n",
    "        }\n",
    "    ]\n",
    ")\n",
    "print('Endpoint configuration arn:  {}'.format(endpoint_config_response['EndpointConfigArn']))"
   ]
  },
  {
   "attachments": {},
   "cell_type": "markdown",
   "metadata": {},
   "source": [
    "Finally, create an endpoint with the endpoint configuration.\n",
    "\n",
    "<i class=\"fas fa-sticky-note\" style=\"color:#ff6633\"></i> **Note:** The endpoint creation takes approximately 4–5 minutes to complete."
   ]
  },
  {
   "cell_type": "code",
   "execution_count": 5,
   "metadata": {
    "execution": {
     "iopub.execute_input": "2025-06-18T16:53:38.819029Z",
     "iopub.status.busy": "2025-06-18T16:53:38.818749Z",
     "iopub.status.idle": "2025-06-18T16:56:55.411082Z",
     "shell.execute_reply": "2025-06-18T16:56:55.410045Z",
     "shell.execute_reply.started": "2025-06-18T16:53:38.819008Z"
    },
    "tags": []
   },
   "outputs": [
    {
     "name": "stdout",
     "output_type": "stream",
     "text": [
      "EndpointArn = arn:aws:sagemaker:us-west-2:916235518742:endpoint/Abalone-Shadow-2025-06-18-16-53-38\n",
      "Waiting for Endpoint Creation\n",
      "Waiting for Endpoint Creation\n",
      "Waiting for Endpoint Creation\n",
      "Waiting for Endpoint Creation\n",
      "Waiting for Endpoint Creation\n",
      "Waiting for Endpoint Creation\n",
      "Waiting for Endpoint Creation\n",
      "Waiting for Endpoint Creation\n",
      "Waiting for Endpoint Creation\n",
      "Waiting for Endpoint Creation\n",
      "Waiting for Endpoint Creation\n",
      "Waiting for Endpoint Creation\n",
      "Waiting for Endpoint Creation\n",
      "Endpoint arn:aws:sagemaker:us-west-2:916235518742:endpoint/Abalone-Shadow-2025-06-18-16-53-38 successfully created.\n"
     ]
    }
   ],
   "source": [
    "#create-endpoint\n",
    "endpoint_name = f\"Abalone-Shadow-{datetime.now():%Y-%m-%d-%H-%M-%S}\"\n",
    "endpoint_params = {'EndpointName': endpoint_name, 'EndpointConfigName': 'Abalone-Shadow-Testing-Endpoint'}\n",
    "\n",
    "endpoint_response = sm.create_endpoint(EndpointName=endpoint_name, EndpointConfigName='Abalone-Shadow-Testing-Endpoint')\n",
    "print('EndpointArn = {}'.format(endpoint_response['EndpointArn']))\n",
    "\n",
    "def wait_for_endpoint_creation_complete(endpoint):\n",
    "    \"\"\"Helper function to wait for the completion of creating an endpoint\"\"\"\n",
    "    response = sm.describe_endpoint(EndpointName=endpoint_name)\n",
    "    status = response.get(\"EndpointStatus\")\n",
    "    while status == \"Creating\":\n",
    "        print(\"Waiting for Endpoint Creation\")\n",
    "        time.sleep(15)\n",
    "        response = sm.describe_endpoint(EndpointName=endpoint_name)\n",
    "        status = response.get(\"EndpointStatus\")\n",
    "\n",
    "    if status != \"InService\":\n",
    "        print(f\"Failed to create endpoint, response: {response}\")\n",
    "        failureReason = response.get(\"FailureReason\", \"\")\n",
    "        raise SystemExit(\n",
    "            f\"Failed to create endpoint {endpoint_response['EndpointArn']}, status: {status}, reason: {failureReason}\"\n",
    "        )\n",
    "    print(f\"Endpoint {endpoint_response['EndpointArn']} successfully created.\")\n",
    "\n",
    "wait_for_endpoint_creation_complete(endpoint=endpoint_response)"
   ]
  },
  {
   "attachments": {},
   "cell_type": "markdown",
   "metadata": {},
   "source": [
    "Your production endpoint is ready to use. Send test traffic to the endpoint by using *invoke_endpoint*."
   ]
  },
  {
   "cell_type": "code",
   "execution_count": 6,
   "metadata": {
    "execution": {
     "iopub.execute_input": "2025-06-18T16:56:55.412947Z",
     "iopub.status.busy": "2025-06-18T16:56:55.412534Z",
     "iopub.status.idle": "2025-06-18T16:57:58.991019Z",
     "shell.execute_reply": "2025-06-18T16:57:58.990311Z",
     "shell.execute_reply.started": "2025-06-18T16:56:55.412923Z"
    },
    "tags": []
   },
   "outputs": [
    {
     "name": "stdout",
     "output_type": "stream",
     "text": [
      "Sending test traffic to the endpoint Abalone-Shadow-2025-06-18-16-53-38. \n",
      "Please wait...\n",
      "Done!\n"
     ]
    }
   ],
   "source": [
    "#send-test-data\n",
    "print(f\"Sending test traffic to the endpoint {endpoint_name}. \\nPlease wait...\")\n",
    "\n",
    "with open(\"data/abalone_data_test.csv\", \"r\") as f:\n",
    "    for row in f:\n",
    "        payload = row.rstrip(\"\\n\")\n",
    "        sm_runtime.invoke_endpoint(EndpointName=endpoint_name, ContentType=\"text/csv\", Body=payload)\n",
    "f.close()\n",
    "print(\"Done!\")"
   ]
  },
  {
   "attachments": {},
   "cell_type": "markdown",
   "metadata": {},
   "source": [
    "Adding a shadow model to an endpoint in production requires two steps. First, you create a new endpoint configuration that includes a shadow production variant. Then, you update the endpoint to use the new endpoint configuration. If any issues arise, you can roll back a shadow model by updating the endpoint configuration.\n",
    "\n",
    "Log the requests and responses of both production and shadow variants by using Data Capture. The Data Capture logs are stored in an S3 bucket."
   ]
  },
  {
   "cell_type": "code",
   "execution_count": 7,
   "metadata": {
    "execution": {
     "iopub.execute_input": "2025-06-18T17:01:29.468058Z",
     "iopub.status.busy": "2025-06-18T17:01:29.467346Z",
     "iopub.status.idle": "2025-06-18T17:01:29.919296Z",
     "shell.execute_reply": "2025-06-18T17:01:29.918558Z",
     "shell.execute_reply.started": "2025-06-18T17:01:29.468029Z"
    },
    "tags": []
   },
   "outputs": [
    {
     "name": "stdout",
     "output_type": "stream",
     "text": [
      "Endpoint configuration arn:  arn:aws:sagemaker:us-west-2:916235518742:endpoint-config/Abalone-Shadow-Testing-Endpoint-2\n"
     ]
    }
   ],
   "source": [
    "#create-endpoint-configuration\n",
    "endpoint_config_response = sm.create_endpoint_config(\n",
    "    EndpointConfigName = 'Abalone-Shadow-Testing-Endpoint-2',\n",
    "    ProductionVariants = [\n",
    "        {\n",
    "            'ModelName':model_name,\n",
    "            'InstanceType':'ml.m5.xlarge',\n",
    "            'InitialInstanceCount':2,\n",
    "            'VariantName':'Production-Model-A',\n",
    "            'InitialVariantWeight':1\n",
    "        }\n",
    "    ],\n",
    "    ShadowProductionVariants = [\n",
    "        {\n",
    "            'ModelName': model_name2,\n",
    "            'InstanceType': 'ml.m5.xlarge',\n",
    "            'InitialInstanceCount':2,\n",
    "            'VariantName':'New-Model-B',\n",
    "            'InitialVariantWeight':1,\n",
    "        }\n",
    "    ],\n",
    "    DataCaptureConfig={\n",
    "        'EnableCapture': True,\n",
    "        'InitialSamplingPercentage': 100,\n",
    "        'DestinationS3Uri': \"s3://{}/{}\".format(bucket, data_capture_prefix),\n",
    "        'CaptureOptions': [{'CaptureMode': 'Input'}, {'CaptureMode': 'Output'}],\n",
    "        'CaptureContentTypeHeader': {'CsvContentTypes': ['text/csv']}\n",
    "    }\n",
    ")\n",
    "print('Endpoint configuration arn:  {}'.format(endpoint_config_response['EndpointConfigArn']))"
   ]
  },
  {
   "attachments": {},
   "cell_type": "markdown",
   "metadata": {},
   "source": [
    "Update the endpoint with your new endpoint configuration. Then, wait until the endpoint is in service again."
   ]
  },
  {
   "cell_type": "code",
   "execution_count": 8,
   "metadata": {
    "execution": {
     "iopub.execute_input": "2025-06-18T17:01:34.408696Z",
     "iopub.status.busy": "2025-06-18T17:01:34.408412Z",
     "iopub.status.idle": "2025-06-18T17:04:52.615533Z",
     "shell.execute_reply": "2025-06-18T17:04:52.614743Z",
     "shell.execute_reply.started": "2025-06-18T17:01:34.408674Z"
    },
    "tags": []
   },
   "outputs": [
    {
     "name": "stdout",
     "output_type": "stream",
     "text": [
      "EndpointArn = arn:aws:sagemaker:us-west-2:916235518742:endpoint/Abalone-Shadow-2025-06-18-16-53-38\n",
      "Waiting for Endpoint to Update\n",
      "Waiting for Endpoint to Update\n",
      "Waiting for Endpoint to Update\n",
      "Waiting for Endpoint to Update\n",
      "Waiting for Endpoint to Update\n",
      "Waiting for Endpoint to Update\n",
      "Waiting for Endpoint to Update\n",
      "Waiting for Endpoint to Update\n",
      "Waiting for Endpoint to Update\n",
      "Waiting for Endpoint to Update\n",
      "Waiting for Endpoint to Update\n",
      "Waiting for Endpoint to Update\n",
      "Waiting for Endpoint to Update\n",
      "Endpoint arn:aws:sagemaker:us-west-2:916235518742:endpoint/Abalone-Shadow-2025-06-18-16-53-38 successfully updated.\n"
     ]
    }
   ],
   "source": [
    "#update-endpoint\n",
    "endpoint_params = {'EndpointName': endpoint_name, 'EndpointConfigName': 'Abalone-Shadow-Testing-Endpoint-2'}\n",
    "\n",
    "endpoint_response = sm.update_endpoint(EndpointName=endpoint_name, EndpointConfigName='Abalone-Shadow-Testing-Endpoint-2')\n",
    "print('EndpointArn = {}'.format(endpoint_response['EndpointArn']))\n",
    "\n",
    "def wait_for_endpoint_update_complete(endpoint):\n",
    "    \"\"\"Helper function to wait for the completion of updating an endpoint\"\"\"\n",
    "    response = sm.describe_endpoint(EndpointName=endpoint_name)\n",
    "    status = response.get(\"EndpointStatus\")\n",
    "    while status == \"Updating\":\n",
    "        print(\"Waiting for Endpoint to Update\")\n",
    "        time.sleep(15)\n",
    "        response = sm.describe_endpoint(EndpointName=endpoint_name)\n",
    "        status = response.get(\"EndpointStatus\")\n",
    "\n",
    "    if status != \"InService\":\n",
    "        print(f\"Failed to update endpoint, response: {response}\")\n",
    "        failureReason = response.get(\"FailureReason\", \"\")\n",
    "        raise SystemExit(\n",
    "            f\"Failed to update endpoint {endpoint_response['EndpointArn']}, status: {status}, reason: {failureReason}\"\n",
    "        )\n",
    "    print(f\"Endpoint {endpoint_response['EndpointArn']} successfully updated.\")\n",
    "\n",
    "wait_for_endpoint_update_complete(endpoint=endpoint_response)"
   ]
  },
  {
   "attachments": {},
   "cell_type": "markdown",
   "metadata": {},
   "source": [
    "When the cell completes, an endpoint Amazon Resource Name (ARN) is returned that looks like *'arn:aws:sagemaker:us-west-2:012345678910:endpoint/abalone-shadow-2025-01-01-01-01-00'*."
   ]
  },
  {
   "attachments": {},
   "cell_type": "markdown",
   "metadata": {},
   "source": [
    "## Task 3.3: Evaluate invocation metrics\n",
    "\n",
    "To test the endpoint, invoke the deployed models and evaluate the invocation metrics. You can send data to the endpoint that you created in the prior task to get inferences in real time. The data science team received a new set of data and sent it to you. Test the models by using this new data.\n",
    "\n",
    "First, get a subset of the test data for a sample of the invocation."
   ]
  },
  {
   "cell_type": "code",
   "execution_count": 9,
   "metadata": {
    "execution": {
     "iopub.execute_input": "2025-06-18T17:04:52.616959Z",
     "iopub.status.busy": "2025-06-18T17:04:52.616501Z",
     "iopub.status.idle": "2025-06-18T17:04:52.636690Z",
     "shell.execute_reply": "2025-06-18T17:04:52.635964Z",
     "shell.execute_reply.started": "2025-06-18T17:04:52.616938Z"
    },
    "tags": []
   },
   "outputs": [
    {
     "data": {
      "text/html": [
       "<div>\n",
       "<style scoped>\n",
       "    .dataframe tbody tr th:only-of-type {\n",
       "        vertical-align: middle;\n",
       "    }\n",
       "\n",
       "    .dataframe tbody tr th {\n",
       "        vertical-align: top;\n",
       "    }\n",
       "\n",
       "    .dataframe thead th {\n",
       "        text-align: right;\n",
       "    }\n",
       "</style>\n",
       "<table border=\"1\" class=\"dataframe\">\n",
       "  <thead>\n",
       "    <tr style=\"text-align: right;\">\n",
       "      <th></th>\n",
       "      <th>0.384</th>\n",
       "      <th>0.301</th>\n",
       "      <th>0.11</th>\n",
       "      <th>0.35</th>\n",
       "      <th>0.098</th>\n",
       "      <th>0.058</th>\n",
       "      <th>0.137</th>\n",
       "      <th>1</th>\n",
       "      <th>0</th>\n",
       "      <th>0.1</th>\n",
       "    </tr>\n",
       "  </thead>\n",
       "  <tbody>\n",
       "    <tr>\n",
       "      <th>1186</th>\n",
       "      <td>0.445</td>\n",
       "      <td>0.352</td>\n",
       "      <td>0.116</td>\n",
       "      <td>0.835</td>\n",
       "      <td>0.450</td>\n",
       "      <td>0.192</td>\n",
       "      <td>0.174</td>\n",
       "      <td>0</td>\n",
       "      <td>0</td>\n",
       "      <td>1</td>\n",
       "    </tr>\n",
       "    <tr>\n",
       "      <th>1823</th>\n",
       "      <td>0.600</td>\n",
       "      <td>0.447</td>\n",
       "      <td>0.132</td>\n",
       "      <td>1.022</td>\n",
       "      <td>0.442</td>\n",
       "      <td>0.260</td>\n",
       "      <td>0.296</td>\n",
       "      <td>1</td>\n",
       "      <td>0</td>\n",
       "      <td>0</td>\n",
       "    </tr>\n",
       "    <tr>\n",
       "      <th>1663</th>\n",
       "      <td>0.434</td>\n",
       "      <td>0.348</td>\n",
       "      <td>0.141</td>\n",
       "      <td>0.439</td>\n",
       "      <td>0.135</td>\n",
       "      <td>0.053</td>\n",
       "      <td>0.201</td>\n",
       "      <td>0</td>\n",
       "      <td>1</td>\n",
       "      <td>0</td>\n",
       "    </tr>\n",
       "    <tr>\n",
       "      <th>322</th>\n",
       "      <td>0.588</td>\n",
       "      <td>0.451</td>\n",
       "      <td>0.144</td>\n",
       "      <td>0.777</td>\n",
       "      <td>0.363</td>\n",
       "      <td>0.178</td>\n",
       "      <td>0.196</td>\n",
       "      <td>0</td>\n",
       "      <td>1</td>\n",
       "      <td>0</td>\n",
       "    </tr>\n",
       "    <tr>\n",
       "      <th>1765</th>\n",
       "      <td>0.557</td>\n",
       "      <td>0.431</td>\n",
       "      <td>0.151</td>\n",
       "      <td>0.778</td>\n",
       "      <td>0.282</td>\n",
       "      <td>0.116</td>\n",
       "      <td>0.315</td>\n",
       "      <td>1</td>\n",
       "      <td>0</td>\n",
       "      <td>0</td>\n",
       "    </tr>\n",
       "  </tbody>\n",
       "</table>\n",
       "</div>"
      ],
      "text/plain": [
       "      0.384  0.301   0.11   0.35  0.098  0.058  0.137  1  0  0.1\n",
       "1186  0.445  0.352  0.116  0.835  0.450  0.192  0.174  0  0    1\n",
       "1823  0.600  0.447  0.132  1.022  0.442  0.260  0.296  1  0    0\n",
       "1663  0.434  0.348  0.141  0.439  0.135  0.053  0.201  0  1    0\n",
       "322   0.588  0.451  0.144  0.777  0.363  0.178  0.196  0  1    0\n",
       "1765  0.557  0.431  0.151  0.778  0.282  0.116  0.315  1  0    0"
      ]
     },
     "execution_count": 9,
     "metadata": {},
     "output_type": "execute_result"
    }
   ],
   "source": [
    "#import-data\n",
    "shape=pd.read_csv(\"data/abalone_data_test.csv\", header=0)\n",
    "shape.sample(5)"
   ]
  },
  {
   "attachments": {},
   "cell_type": "markdown",
   "metadata": {},
   "source": [
    "Then, send traffic to the endpoint by using **invoke_endpoint**.\n",
    "\n",
    "<i class=\"fas fa-sticky-note\" style=\"color:#ff6633\"></i> **Note:** The endpoint invocation takes approximately 1–2 minutes to complete."
   ]
  },
  {
   "cell_type": "code",
   "execution_count": 10,
   "metadata": {
    "execution": {
     "iopub.execute_input": "2025-06-18T17:04:52.638154Z",
     "iopub.status.busy": "2025-06-18T17:04:52.637775Z",
     "iopub.status.idle": "2025-06-18T17:06:10.466842Z",
     "shell.execute_reply": "2025-06-18T17:06:10.466065Z",
     "shell.execute_reply.started": "2025-06-18T17:04:52.638124Z"
    },
    "tags": []
   },
   "outputs": [
    {
     "name": "stdout",
     "output_type": "stream",
     "text": [
      "Sending test traffic to the endpoint Abalone-Shadow-2025-06-18-16-53-38. \n",
      "Please wait...\n",
      "Done!\n"
     ]
    }
   ],
   "source": [
    "#send-test-data\n",
    "print(f\"Sending test traffic to the endpoint {endpoint_name}. \\nPlease wait...\")\n",
    "\n",
    "with open(\"data/abalone_data_test.csv\", \"r\") as f:\n",
    "    for row in f:\n",
    "        payload = row.rstrip(\"\\n\")\n",
    "        sm_runtime.invoke_endpoint(EndpointName=endpoint_name, ContentType=\"text/csv\", Body=payload)\n",
    "f.close()\n",
    "print(\"Done!\")"
   ]
  },
  {
   "attachments": {},
   "cell_type": "markdown",
   "metadata": {},
   "source": [
    "Amazon SageMaker emits metrics such as latency and invocations for each variant in Amazon CloudWatch. To show how invocations are split across variants, query the number of invocations per variant from CloudWatch."
   ]
  },
  {
   "cell_type": "code",
   "execution_count": 11,
   "metadata": {
    "execution": {
     "iopub.execute_input": "2025-06-18T17:06:10.468940Z",
     "iopub.status.busy": "2025-06-18T17:06:10.468699Z",
     "iopub.status.idle": "2025-06-18T17:08:10.722451Z",
     "shell.execute_reply": "2025-06-18T17:08:10.721799Z",
     "shell.execute_reply.started": "2025-06-18T17:06:10.468919Z"
    },
    "tags": []
   },
   "outputs": [
    {
     "name": "stdout",
     "output_type": "stream",
     "text": [
      "Waiting a minute for initial metric creation...\n"
     ]
    },
    {
     "data": {
      "text/html": [
       "<div>\n",
       "<style scoped>\n",
       "    .dataframe tbody tr th:only-of-type {\n",
       "        vertical-align: middle;\n",
       "    }\n",
       "\n",
       "    .dataframe tbody tr th {\n",
       "        vertical-align: top;\n",
       "    }\n",
       "\n",
       "    .dataframe thead th {\n",
       "        text-align: right;\n",
       "    }\n",
       "</style>\n",
       "<table border=\"1\" class=\"dataframe\">\n",
       "  <thead>\n",
       "    <tr style=\"text-align: right;\">\n",
       "      <th></th>\n",
       "      <th>Production-Model-A</th>\n",
       "      <th>New-Model-B</th>\n",
       "    </tr>\n",
       "    <tr>\n",
       "      <th>Timestamp</th>\n",
       "      <th></th>\n",
       "      <th></th>\n",
       "    </tr>\n",
       "  </thead>\n",
       "  <tbody>\n",
       "    <tr>\n",
       "      <th>2025-06-18 16:56:00+00:00</th>\n",
       "      <td>104.0</td>\n",
       "      <td>NaN</td>\n",
       "    </tr>\n",
       "    <tr>\n",
       "      <th>2025-06-18 16:57:00+00:00</th>\n",
       "      <td>1896.0</td>\n",
       "      <td>NaN</td>\n",
       "    </tr>\n",
       "    <tr>\n",
       "      <th>2025-06-18 16:58:00+00:00</th>\n",
       "      <td>0.0</td>\n",
       "      <td>NaN</td>\n",
       "    </tr>\n",
       "    <tr>\n",
       "      <th>2025-06-18 16:59:00+00:00</th>\n",
       "      <td>0.0</td>\n",
       "      <td>NaN</td>\n",
       "    </tr>\n",
       "    <tr>\n",
       "      <th>2025-06-18 17:00:00+00:00</th>\n",
       "      <td>0.0</td>\n",
       "      <td>NaN</td>\n",
       "    </tr>\n",
       "    <tr>\n",
       "      <th>2025-06-18 17:01:00+00:00</th>\n",
       "      <td>0.0</td>\n",
       "      <td>NaN</td>\n",
       "    </tr>\n",
       "    <tr>\n",
       "      <th>2025-06-18 17:02:00+00:00</th>\n",
       "      <td>0.0</td>\n",
       "      <td>NaN</td>\n",
       "    </tr>\n",
       "    <tr>\n",
       "      <th>2025-06-18 17:03:00+00:00</th>\n",
       "      <td>0.0</td>\n",
       "      <td>0.0</td>\n",
       "    </tr>\n",
       "    <tr>\n",
       "      <th>2025-06-18 17:04:00+00:00</th>\n",
       "      <td>144.0</td>\n",
       "      <td>144.0</td>\n",
       "    </tr>\n",
       "    <tr>\n",
       "      <th>2025-06-18 17:05:00+00:00</th>\n",
       "      <td>1562.0</td>\n",
       "      <td>1562.0</td>\n",
       "    </tr>\n",
       "    <tr>\n",
       "      <th>2025-06-18 17:06:00+00:00</th>\n",
       "      <td>294.0</td>\n",
       "      <td>294.0</td>\n",
       "    </tr>\n",
       "  </tbody>\n",
       "</table>\n",
       "</div>"
      ],
      "text/plain": [
       "                           Production-Model-A  New-Model-B\n",
       "Timestamp                                                 \n",
       "2025-06-18 16:56:00+00:00               104.0          NaN\n",
       "2025-06-18 16:57:00+00:00              1896.0          NaN\n",
       "2025-06-18 16:58:00+00:00                 0.0          NaN\n",
       "2025-06-18 16:59:00+00:00                 0.0          NaN\n",
       "2025-06-18 17:00:00+00:00                 0.0          NaN\n",
       "2025-06-18 17:01:00+00:00                 0.0          NaN\n",
       "2025-06-18 17:02:00+00:00                 0.0          NaN\n",
       "2025-06-18 17:03:00+00:00                 0.0          0.0\n",
       "2025-06-18 17:04:00+00:00               144.0        144.0\n",
       "2025-06-18 17:05:00+00:00              1562.0       1562.0\n",
       "2025-06-18 17:06:00+00:00               294.0        294.0"
      ]
     },
     "execution_count": 11,
     "metadata": {},
     "output_type": "execute_result"
    },
    {
     "data": {
      "image/png": "[encoded data removed]",
      "text/plain": [
       "<Figure size 640x480 with 1 Axes>"
      ]
     },
     "metadata": {},
     "output_type": "display_data"
    }
   ],
   "source": [
    "#get-cloudwatch-metrics\n",
    "def get_invocation_metrics_for_endpoint_variant(endpoint_name, variant_name, start_time, end_time):\n",
    "    metrics = cw.get_metric_statistics(\n",
    "        Namespace=\"AWS/SageMaker\",\n",
    "        MetricName=\"Invocations\",\n",
    "        StartTime=start_time,\n",
    "        EndTime=end_time,\n",
    "        Period=60,\n",
    "        Statistics=[\"Sum\"],\n",
    "        Dimensions=[\n",
    "            {\"Name\": \"EndpointName\", \"Value\": endpoint_name},\n",
    "            {\"Name\": \"VariantName\", \"Value\": variant_name},\n",
    "        ],\n",
    "    )\n",
    "    return (\n",
    "        pd.DataFrame(metrics[\"Datapoints\"])\n",
    "        .sort_values(\"Timestamp\")\n",
    "        .set_index(\"Timestamp\")\n",
    "        .drop(\"Unit\", axis=1)\n",
    "        .rename(columns={\"Sum\": variant_name})\n",
    "    )\n",
    "\n",
    "\n",
    "def plot_endpoint_metrics(start_time=None):\n",
    "    start_time = start_time or datetime.now() - timedelta(minutes=60)\n",
    "    end_time = datetime.now()\n",
    "    metrics_variant1 = get_invocation_metrics_for_endpoint_variant(\n",
    "        endpoint_name, 'Production-Model-A', start_time, end_time\n",
    "    )\n",
    "    metrics_variant2 = get_invocation_metrics_for_endpoint_variant(\n",
    "        endpoint_name, 'New-Model-B', start_time, end_time\n",
    "    )\n",
    "    metrics_variants = metrics_variant1.join(metrics_variant2, how=\"outer\")\n",
    "    metrics_variants.plot()\n",
    "    return metrics_variants\n",
    "\n",
    "print(\"Waiting a minute for initial metric creation...\")\n",
    "time.sleep(120)  # The metrics and data capture need time to log and save all of the files\n",
    "plot_endpoint_metrics()"
   ]
  },
  {
   "attachments": {},
   "cell_type": "markdown",
   "metadata": {},
   "source": [
    "In the table, you see the number of invocations for Model A, the production model. You also see the number of invocations for Model B, the new model. \n",
    "\n",
    "In the chart, you see the number of invocations per model variant over a period of time. \n",
    "\n",
    "You can see that the traffic starts out only on Model A. This behavior occurs because you sent traffic to the endpoint when the only model variant was the production model. Then, after the shadow model was added, you can see that the traffic is equivalent for both models. The lines overlap each other at every point. "
   ]
  },
  {
   "attachments": {},
   "cell_type": "markdown",
   "metadata": {
    "tags": []
   },
   "source": [
    "## Task 3.4: Evaluate the models with production data\n",
    "\n",
    "All of the endpoint input and output data is captured with Data Capture. You can access the Data Capture logs and view each event by getting the log objects from the S3 bucket. When accessing the data, notice that the input is encoded as *CSV*. The data that is sent to the endpoint is included in *endpointInput*. The prediction is included in *endpointOutput*. Each inference event has a unique *eventId*, so you are able to match the production and shadow invocations based on their *eventId*. \n",
    "\n",
    "To evaluate the models, use the logs that are stored in the S3 bucket. With these logs, you can see the predictions that the production and shadow models generated from the single production endpoint.\n",
    "\n",
    "First, view a log file from the data that was captured from the production variant."
   ]
  },
  {
   "cell_type": "code",
   "execution_count": 12,
   "metadata": {
    "execution": {
     "iopub.execute_input": "2025-06-18T17:22:50.192733Z",
     "iopub.status.busy": "2025-06-18T17:22:50.192152Z",
     "iopub.status.idle": "2025-06-18T17:22:50.535864Z",
     "shell.execute_reply": "2025-06-18T17:22:50.531628Z",
     "shell.execute_reply.started": "2025-06-18T17:22:50.192705Z"
    },
    "tags": []
   },
   "outputs": [
    {
     "name": "stdout",
     "output_type": "stream",
     "text": [
      "{\n",
      "  \"captureData\": {\n",
      "    \"endpointInput\": {\n",
      "      \"observedContentType\": \"text/csv\",\n",
      "      \"mode\": \"INPUT\",\n",
      "      \"data\": \"0.353,0.262,0.086,0.402,0.149,0.083,0.158,0,1,0\",\n",
      "      \"encoding\": \"CSV\"\n",
      "    },\n",
      "    \"endpointOutput\": {\n",
      "      \"observedContentType\": \"text/csv; charset=utf-8\",\n",
      "      \"mode\": \"OUTPUT\",\n",
      "      \"data\": \"11.349684715270996\\n\",\n",
      "      \"encoding\": \"CSV\"\n",
      "    }\n",
      "  },\n",
      "  \"eventMetadata\": {\n",
      "    \"eventId\": \"79ddad32-5aab-41fd-977f-c81cd5d39361\",\n",
      "    \"inferenceTime\": \"2025-06-18T17:05:52Z\"\n",
      "  },\n",
      "  \"eventVersion\": \"0\"\n",
      "}\n"
     ]
    }
   ],
   "source": [
    "#view-production-variant-data\n",
    "current_endpoint_capture_prefix = \"{}/{}/{}\".format(data_capture_prefix, endpoint_name, 'Production-Model-A')\n",
    "result = s3.list_objects(Bucket=bucket, Prefix=current_endpoint_capture_prefix)\n",
    "prod_var_capture_files = [capture_file.get(\"Key\") for capture_file in result.get(\"Contents\")]\n",
    "\n",
    "def get_obj_body(obj_key):\n",
    "    return s3.get_object(Bucket=bucket, Key=obj_key).get('Body').read().decode(\"utf-8\")\n",
    "\n",
    "prod_var_capture_file = get_obj_body(prod_var_capture_files[-1])\n",
    "print(json.dumps(json.loads(prod_var_capture_file.split('\\n')[0]), indent=2))"
   ]
  },
  {
   "attachments": {},
   "cell_type": "markdown",
   "metadata": {},
   "source": [
    "Then, convert the production variant captured data into a pandas dataframe."
   ]
  },
  {
   "cell_type": "code",
   "execution_count": 13,
   "metadata": {
    "execution": {
     "iopub.execute_input": "2025-06-18T17:22:53.637381Z",
     "iopub.status.busy": "2025-06-18T17:22:53.636971Z",
     "iopub.status.idle": "2025-06-18T17:22:55.822710Z",
     "shell.execute_reply": "2025-06-18T17:22:55.821951Z",
     "shell.execute_reply.started": "2025-06-18T17:22:53.637338Z"
    },
    "tags": []
   },
   "outputs": [
    {
     "data": {
      "text/html": [
       "<div>\n",
       "<style scoped>\n",
       "    .dataframe tbody tr th:only-of-type {\n",
       "        vertical-align: middle;\n",
       "    }\n",
       "\n",
       "    .dataframe tbody tr th {\n",
       "        vertical-align: top;\n",
       "    }\n",
       "\n",
       "    .dataframe thead th {\n",
       "        text-align: right;\n",
       "    }\n",
       "</style>\n",
       "<table border=\"1\" class=\"dataframe\">\n",
       "  <thead>\n",
       "    <tr style=\"text-align: right;\">\n",
       "      <th></th>\n",
       "      <th>input</th>\n",
       "      <th>prod_output</th>\n",
       "      <th>eventId</th>\n",
       "    </tr>\n",
       "  </thead>\n",
       "  <tbody>\n",
       "    <tr>\n",
       "      <th>0</th>\n",
       "      <td>0.384,0.301,0.11,0.35,0.098,0.058,0.137,1,0,0</td>\n",
       "      <td>11.588634</td>\n",
       "      <td>5f3449f1-e5c0-453f-9637-89d1de1e0a47</td>\n",
       "    </tr>\n",
       "    <tr>\n",
       "      <th>1</th>\n",
       "      <td>0.585,0.438,0.16,1.17,0.447,0.278,0.319,0,0,1</td>\n",
       "      <td>12.925363</td>\n",
       "      <td>dec551c8-3b57-42d6-bc60-dc6f5dc1c4c7</td>\n",
       "    </tr>\n",
       "    <tr>\n",
       "      <th>2</th>\n",
       "      <td>0.581,0.481,0.179,1.058,0.465,0.242,0.267,0,1,0</td>\n",
       "      <td>12.444579</td>\n",
       "      <td>50e7846d-da4a-4919-8314-541db35de26b</td>\n",
       "    </tr>\n",
       "    <tr>\n",
       "      <th>3</th>\n",
       "      <td>0.497,0.378,0.13,0.755,0.322,0.178,0.219,0,1,0</td>\n",
       "      <td>12.091702</td>\n",
       "      <td>2f8ae31f-c088-47c9-be12-805c0dece7a1</td>\n",
       "    </tr>\n",
       "    <tr>\n",
       "      <th>4</th>\n",
       "      <td>0.654,0.526,0.213,1.323,0.632,0.327,0.368,0,0,1</td>\n",
       "      <td>12.858625</td>\n",
       "      <td>9e59bf48-aea0-47ef-a2f4-111f96a84d7c</td>\n",
       "    </tr>\n",
       "    <tr>\n",
       "      <th>...</th>\n",
       "      <td>...</td>\n",
       "      <td>...</td>\n",
       "      <td>...</td>\n",
       "    </tr>\n",
       "    <tr>\n",
       "      <th>1995</th>\n",
       "      <td>0.555,0.446,0.129,1.123,0.473,0.257,0.29,0,1,0</td>\n",
       "      <td>12.770275</td>\n",
       "      <td>ef968f75-efc2-4801-9eaf-5a59d6f8cb31</td>\n",
       "    </tr>\n",
       "    <tr>\n",
       "      <th>1996</th>\n",
       "      <td>0.624,0.514,0.144,1.027,0.377,0.262,0.245,0,0,1</td>\n",
       "      <td>11.904971</td>\n",
       "      <td>f5ed47a3-7166-4c45-b83a-d1bf5d818f0b</td>\n",
       "    </tr>\n",
       "    <tr>\n",
       "      <th>1997</th>\n",
       "      <td>0.634,0.475,0.181,1.12,0.441,0.204,0.289,1,0,0</td>\n",
       "      <td>13.713738</td>\n",
       "      <td>7c33e403-4986-4424-90db-70f5dcc9351f</td>\n",
       "    </tr>\n",
       "    <tr>\n",
       "      <th>1998</th>\n",
       "      <td>0.39,0.272,0.084,0.322,0.173,0.066,0.087,0,0,1</td>\n",
       "      <td>10.823192</td>\n",
       "      <td>e854fb58-67ac-4cdb-aa7c-65c8b45bbb3a</td>\n",
       "    </tr>\n",
       "    <tr>\n",
       "      <th>1999</th>\n",
       "      <td>0.495,0.397,0.117,0.597,0.204,0.183,0.23,0,0,1</td>\n",
       "      <td>11.618003</td>\n",
       "      <td>79b927cf-1989-4387-997a-306aae56baf0</td>\n",
       "    </tr>\n",
       "  </tbody>\n",
       "</table>\n",
       "<p>2000 rows × 3 columns</p>\n",
       "</div>"
      ],
      "text/plain": [
       "                                                input  prod_output  \\\n",
       "0       0.384,0.301,0.11,0.35,0.098,0.058,0.137,1,0,0    11.588634   \n",
       "1       0.585,0.438,0.16,1.17,0.447,0.278,0.319,0,0,1    12.925363   \n",
       "2     0.581,0.481,0.179,1.058,0.465,0.242,0.267,0,1,0    12.444579   \n",
       "3      0.497,0.378,0.13,0.755,0.322,0.178,0.219,0,1,0    12.091702   \n",
       "4     0.654,0.526,0.213,1.323,0.632,0.327,0.368,0,0,1    12.858625   \n",
       "...                                               ...          ...   \n",
       "1995   0.555,0.446,0.129,1.123,0.473,0.257,0.29,0,1,0    12.770275   \n",
       "1996  0.624,0.514,0.144,1.027,0.377,0.262,0.245,0,0,1    11.904971   \n",
       "1997   0.634,0.475,0.181,1.12,0.441,0.204,0.289,1,0,0    13.713738   \n",
       "1998   0.39,0.272,0.084,0.322,0.173,0.066,0.087,0,0,1    10.823192   \n",
       "1999   0.495,0.397,0.117,0.597,0.204,0.183,0.23,0,0,1    11.618003   \n",
       "\n",
       "                                   eventId  \n",
       "0     5f3449f1-e5c0-453f-9637-89d1de1e0a47  \n",
       "1     dec551c8-3b57-42d6-bc60-dc6f5dc1c4c7  \n",
       "2     50e7846d-da4a-4919-8314-541db35de26b  \n",
       "3     2f8ae31f-c088-47c9-be12-805c0dece7a1  \n",
       "4     9e59bf48-aea0-47ef-a2f4-111f96a84d7c  \n",
       "...                                    ...  \n",
       "1995  ef968f75-efc2-4801-9eaf-5a59d6f8cb31  \n",
       "1996  f5ed47a3-7166-4c45-b83a-d1bf5d818f0b  \n",
       "1997  7c33e403-4986-4424-90db-70f5dcc9351f  \n",
       "1998  e854fb58-67ac-4cdb-aa7c-65c8b45bbb3a  \n",
       "1999  79b927cf-1989-4387-997a-306aae56baf0  \n",
       "\n",
       "[2000 rows x 3 columns]"
      ]
     },
     "execution_count": 13,
     "metadata": {},
     "output_type": "execute_result"
    }
   ],
   "source": [
    "#convert-production-data-to-pandas-dataframe\n",
    "prod_input_list = []\n",
    "for i in range(len(prod_var_capture_files)):\n",
    "    prod_var_capture_file = get_obj_body(prod_var_capture_files[i])\n",
    "    for i in range(len(prod_var_capture_file.split('\\n'))):\n",
    "        if not len(prod_var_capture_file.split('\\n')[i]) == 0:\n",
    "            prod_input = {}\n",
    "            prod_input[\"input\"] = json.loads(prod_var_capture_file.split('\\n')[i])[\"captureData\"][\"endpointInput\"][\"data\"]\n",
    "            data = json.loads(json.loads(prod_var_capture_file.split('\\n')[i])[\"captureData\"][\"endpointOutput\"][\"data\"])\n",
    "            prod_input[\"prod_output\"] = data\n",
    "            prod_input[\"eventId\"] = json.loads(prod_var_capture_file.split('\\n')[i])[\"eventMetadata\"][\"eventId\"]\n",
    "            prod_input_list.append(prod_input)\n",
    "\n",
    "from pandas import json_normalize\n",
    "prod_var_df = json_normalize(prod_input_list)\n",
    "prod_var_df"
   ]
  },
  {
   "attachments": {},
   "cell_type": "markdown",
   "metadata": {},
   "source": [
    "Next, view a log file from the data that was captured from the shadow variant."
   ]
  },
  {
   "cell_type": "code",
   "execution_count": 14,
   "metadata": {
    "execution": {
     "iopub.execute_input": "2025-06-18T17:22:59.939350Z",
     "iopub.status.busy": "2025-06-18T17:22:59.938895Z",
     "iopub.status.idle": "2025-06-18T17:23:00.111256Z",
     "shell.execute_reply": "2025-06-18T17:23:00.109585Z",
     "shell.execute_reply.started": "2025-06-18T17:22:59.939323Z"
    },
    "tags": []
   },
   "outputs": [
    {
     "name": "stdout",
     "output_type": "stream",
     "text": [
      "{\n",
      "  \"captureData\": {\n",
      "    \"endpointInput\": {\n",
      "      \"observedContentType\": \"text/csv\",\n",
      "      \"mode\": \"INPUT\",\n",
      "      \"data\": \"0.688,0.539,0.192,1.539,0.718,0.353,0.386,0,0,1\",\n",
      "      \"encoding\": \"CSV\"\n",
      "    },\n",
      "    \"endpointOutput\": {\n",
      "      \"observedContentType\": \"text/csv; charset=utf-8\",\n",
      "      \"mode\": \"OUTPUT\",\n",
      "      \"data\": \"13.618392944335938\\n\",\n",
      "      \"encoding\": \"CSV\"\n",
      "    }\n",
      "  },\n",
      "  \"eventMetadata\": {\n",
      "    \"eventId\": \"91a04e3c-50c9-4d35-967a-90c07e5bf05f\",\n",
      "    \"invocationSource\": \"ShadowExperiment\",\n",
      "    \"inferenceTime\": \"2025-06-18T17:05:53Z\"\n",
      "  },\n",
      "  \"eventVersion\": \"0\"\n",
      "}\n"
     ]
    }
   ],
   "source": [
    "#view-shadow-variant-data\n",
    "current_endpoint_capture_prefix = \"{}/{}/{}\".format(data_capture_prefix, endpoint_name, 'New-Model-B')\n",
    "result = s3.list_objects(Bucket=bucket, Prefix=current_endpoint_capture_prefix)\n",
    "shadow_var_capture_files = [capture_file.get(\"Key\") for capture_file in result.get(\"Contents\")]\n",
    "\n",
    "def get_obj_body(obj_key):\n",
    "    return s3.get_object(Bucket=bucket, Key=obj_key).get('Body').read().decode(\"utf-8\")\n",
    "\n",
    "shadow_var_capture_file = get_obj_body(shadow_var_capture_files[-1])\n",
    "print(json.dumps(json.loads(shadow_var_capture_file.split('\\n')[0]), indent=2))"
   ]
  },
  {
   "attachments": {},
   "cell_type": "markdown",
   "metadata": {},
   "source": [
    "Then, convert the shadow variant captured data into a pandas dataframe."
   ]
  },
  {
   "cell_type": "code",
   "execution_count": 15,
   "metadata": {
    "execution": {
     "iopub.execute_input": "2025-06-18T17:23:02.604025Z",
     "iopub.status.busy": "2025-06-18T17:23:02.603194Z",
     "iopub.status.idle": "2025-06-18T17:23:06.035763Z",
     "shell.execute_reply": "2025-06-18T17:23:06.034937Z",
     "shell.execute_reply.started": "2025-06-18T17:23:02.603990Z"
    },
    "tags": []
   },
   "outputs": [
    {
     "data": {
      "text/html": [
       "<div>\n",
       "<style scoped>\n",
       "    .dataframe tbody tr th:only-of-type {\n",
       "        vertical-align: middle;\n",
       "    }\n",
       "\n",
       "    .dataframe tbody tr th {\n",
       "        vertical-align: top;\n",
       "    }\n",
       "\n",
       "    .dataframe thead th {\n",
       "        text-align: right;\n",
       "    }\n",
       "</style>\n",
       "<table border=\"1\" class=\"dataframe\">\n",
       "  <thead>\n",
       "    <tr style=\"text-align: right;\">\n",
       "      <th></th>\n",
       "      <th>input</th>\n",
       "      <th>shadow_output</th>\n",
       "      <th>eventId</th>\n",
       "    </tr>\n",
       "  </thead>\n",
       "  <tbody>\n",
       "    <tr>\n",
       "      <th>0</th>\n",
       "      <td>0.384,0.301,0.11,0.35,0.098,0.058,0.137,1,0,0</td>\n",
       "      <td>13.717491</td>\n",
       "      <td>5f3449f1-e5c0-453f-9637-89d1de1e0a47</td>\n",
       "    </tr>\n",
       "    <tr>\n",
       "      <th>1</th>\n",
       "      <td>0.585,0.438,0.16,1.17,0.447,0.278,0.319,0,0,1</td>\n",
       "      <td>11.940685</td>\n",
       "      <td>dec551c8-3b57-42d6-bc60-dc6f5dc1c4c7</td>\n",
       "    </tr>\n",
       "    <tr>\n",
       "      <th>2</th>\n",
       "      <td>0.679,0.564,0.167,1.395,0.609,0.275,0.407,0,0,1</td>\n",
       "      <td>13.647138</td>\n",
       "      <td>30a06a1a-808e-4af0-befb-8f93bfeed7b4</td>\n",
       "    </tr>\n",
       "    <tr>\n",
       "      <th>3</th>\n",
       "      <td>0.289,0.235,0.072,0.002,0.001,0.001,0.03,1,0,0</td>\n",
       "      <td>10.327427</td>\n",
       "      <td>4657c674-72df-4222-b87f-b8efc00f4b04</td>\n",
       "    </tr>\n",
       "    <tr>\n",
       "      <th>4</th>\n",
       "      <td>0.654,0.526,0.213,1.323,0.632,0.327,0.368,0,0,1</td>\n",
       "      <td>13.275390</td>\n",
       "      <td>9e59bf48-aea0-47ef-a2f4-111f96a84d7c</td>\n",
       "    </tr>\n",
       "    <tr>\n",
       "      <th>...</th>\n",
       "      <td>...</td>\n",
       "      <td>...</td>\n",
       "      <td>...</td>\n",
       "    </tr>\n",
       "    <tr>\n",
       "      <th>1995</th>\n",
       "      <td>0.644,0.486,0.162,1.402,0.65,0.29,0.389,1,0,0</td>\n",
       "      <td>13.111516</td>\n",
       "      <td>adcd134e-517f-4c18-9011-d86b1b52340d</td>\n",
       "    </tr>\n",
       "    <tr>\n",
       "      <th>1996</th>\n",
       "      <td>0.646,0.538,0.161,1.307,0.487,0.251,0.48,0,0,1</td>\n",
       "      <td>13.643486</td>\n",
       "      <td>c32ebf8c-0ff8-45d6-8eb5-88b0743c42ca</td>\n",
       "    </tr>\n",
       "    <tr>\n",
       "      <th>1997</th>\n",
       "      <td>0.624,0.514,0.144,1.027,0.377,0.262,0.245,0,0,1</td>\n",
       "      <td>11.274489</td>\n",
       "      <td>f5ed47a3-7166-4c45-b83a-d1bf5d818f0b</td>\n",
       "    </tr>\n",
       "    <tr>\n",
       "      <th>1998</th>\n",
       "      <td>0.607,0.438,0.151,1.194,0.51,0.281,0.372,0,1,0</td>\n",
       "      <td>13.148396</td>\n",
       "      <td>35e198ad-6ce1-45f3-acc0-eab317fd338d</td>\n",
       "    </tr>\n",
       "    <tr>\n",
       "      <th>1999</th>\n",
       "      <td>0.693,0.544,0.171,1.33,0.63,0.291,0.402,0,1,0</td>\n",
       "      <td>13.969860</td>\n",
       "      <td>6c8107e5-e537-4bf1-bf2d-8bfad4c2f179</td>\n",
       "    </tr>\n",
       "  </tbody>\n",
       "</table>\n",
       "<p>2000 rows × 3 columns</p>\n",
       "</div>"
      ],
      "text/plain": [
       "                                                input  shadow_output  \\\n",
       "0       0.384,0.301,0.11,0.35,0.098,0.058,0.137,1,0,0      13.717491   \n",
       "1       0.585,0.438,0.16,1.17,0.447,0.278,0.319,0,0,1      11.940685   \n",
       "2     0.679,0.564,0.167,1.395,0.609,0.275,0.407,0,0,1      13.647138   \n",
       "3      0.289,0.235,0.072,0.002,0.001,0.001,0.03,1,0,0      10.327427   \n",
       "4     0.654,0.526,0.213,1.323,0.632,0.327,0.368,0,0,1      13.275390   \n",
       "...                                               ...            ...   \n",
       "1995    0.644,0.486,0.162,1.402,0.65,0.29,0.389,1,0,0      13.111516   \n",
       "1996   0.646,0.538,0.161,1.307,0.487,0.251,0.48,0,0,1      13.643486   \n",
       "1997  0.624,0.514,0.144,1.027,0.377,0.262,0.245,0,0,1      11.274489   \n",
       "1998   0.607,0.438,0.151,1.194,0.51,0.281,0.372,0,1,0      13.148396   \n",
       "1999    0.693,0.544,0.171,1.33,0.63,0.291,0.402,0,1,0      13.969860   \n",
       "\n",
       "                                   eventId  \n",
       "0     5f3449f1-e5c0-453f-9637-89d1de1e0a47  \n",
       "1     dec551c8-3b57-42d6-bc60-dc6f5dc1c4c7  \n",
       "2     30a06a1a-808e-4af0-befb-8f93bfeed7b4  \n",
       "3     4657c674-72df-4222-b87f-b8efc00f4b04  \n",
       "4     9e59bf48-aea0-47ef-a2f4-111f96a84d7c  \n",
       "...                                    ...  \n",
       "1995  adcd134e-517f-4c18-9011-d86b1b52340d  \n",
       "1996  c32ebf8c-0ff8-45d6-8eb5-88b0743c42ca  \n",
       "1997  f5ed47a3-7166-4c45-b83a-d1bf5d818f0b  \n",
       "1998  35e198ad-6ce1-45f3-acc0-eab317fd338d  \n",
       "1999  6c8107e5-e537-4bf1-bf2d-8bfad4c2f179  \n",
       "\n",
       "[2000 rows x 3 columns]"
      ]
     },
     "execution_count": 15,
     "metadata": {},
     "output_type": "execute_result"
    }
   ],
   "source": [
    "#convert-shadow-data-to-pandas-dataframe\n",
    "shadow_input_list = []\n",
    "for i in range(len(shadow_var_capture_files)):\n",
    "    shadow_var_capture_file = get_obj_body(shadow_var_capture_files[i])\n",
    "    for i in range(len(shadow_var_capture_file.split('\\n'))):\n",
    "        if not len(shadow_var_capture_file.split('\\n')[i]) == 0:\n",
    "            shadow_input = {}\n",
    "            shadow_input[\"input\"] = json.loads(shadow_var_capture_file.split('\\n')[i])[\"captureData\"][\"endpointInput\"][\"data\"]\n",
    "            data = json.loads(json.loads(shadow_var_capture_file.split('\\n')[i])[\"captureData\"][\"endpointOutput\"][\"data\"])\n",
    "            shadow_input[\"shadow_output\"] = data\n",
    "            shadow_input[\"eventId\"] = json.loads(shadow_var_capture_file.split('\\n')[i])[\"eventMetadata\"][\"eventId\"]\n",
    "            shadow_input_list.append(shadow_input)\n",
    "\n",
    "shadow_var_df = json_normalize(shadow_input_list)\n",
    "shadow_var_df"
   ]
  },
  {
   "attachments": {},
   "cell_type": "markdown",
   "metadata": {},
   "source": [
    "Data Capture helps keep track of many model variants and their inference results during deployment. You can use the data that you just collected to see how the models compare.\n",
    "\n",
    "Compare the predicted abalone ring values from the production and shadow variants. Append the ring labels from the original dataset to see the difference between the actual number of rings and the production output, and the actual number of rings and the shadow output.\n",
    "\n",
    "When you are finished, the table includes:\n",
    "- Headings for *eventId*\n",
    "- The original *input*\n",
    "- The production model output as *prod_output*\n",
    "- The shadow model output as *shadow_output*\n",
    "- The original *labels* that tell the actual age of the abalone\n",
    "- The difference between the prod_output and the label as *prod_diff*\n",
    "- The difference between the shadow_output and the label as *shadow_diff*."
   ]
  },
  {
   "cell_type": "code",
   "execution_count": 16,
   "metadata": {
    "execution": {
     "iopub.execute_input": "2025-06-18T17:23:10.753351Z",
     "iopub.status.busy": "2025-06-18T17:23:10.752984Z",
     "iopub.status.idle": "2025-06-18T17:23:10.792546Z",
     "shell.execute_reply": "2025-06-18T17:23:10.791789Z",
     "shell.execute_reply.started": "2025-06-18T17:23:10.753319Z"
    },
    "tags": []
   },
   "outputs": [
    {
     "data": {
      "text/html": [
       "<div>\n",
       "<style scoped>\n",
       "    .dataframe tbody tr th:only-of-type {\n",
       "        vertical-align: middle;\n",
       "    }\n",
       "\n",
       "    .dataframe tbody tr th {\n",
       "        vertical-align: top;\n",
       "    }\n",
       "\n",
       "    .dataframe thead th {\n",
       "        text-align: right;\n",
       "    }\n",
       "</style>\n",
       "<table border=\"1\" class=\"dataframe\">\n",
       "  <thead>\n",
       "    <tr style=\"text-align: right;\">\n",
       "      <th></th>\n",
       "      <th>eventId</th>\n",
       "      <th>input_x</th>\n",
       "      <th>prod_output</th>\n",
       "      <th>shadow_output</th>\n",
       "      <th>labels</th>\n",
       "      <th>prod_diff</th>\n",
       "      <th>shadow_diff</th>\n",
       "    </tr>\n",
       "  </thead>\n",
       "  <tbody>\n",
       "    <tr>\n",
       "      <th>0</th>\n",
       "      <td>5f3449f1-e5c0-453f-9637-89d1de1e0a47</td>\n",
       "      <td>0.384,0.301,0.11,0.35,0.098,0.058,0.137,1,0,0</td>\n",
       "      <td>11.588634</td>\n",
       "      <td>13.717491</td>\n",
       "      <td>13</td>\n",
       "      <td>-1.411366</td>\n",
       "      <td>0.717491</td>\n",
       "    </tr>\n",
       "    <tr>\n",
       "      <th>1</th>\n",
       "      <td>dec551c8-3b57-42d6-bc60-dc6f5dc1c4c7</td>\n",
       "      <td>0.585,0.438,0.16,1.17,0.447,0.278,0.319,0,0,1</td>\n",
       "      <td>12.925363</td>\n",
       "      <td>11.940685</td>\n",
       "      <td>11</td>\n",
       "      <td>1.925363</td>\n",
       "      <td>0.940685</td>\n",
       "    </tr>\n",
       "    <tr>\n",
       "      <th>2</th>\n",
       "      <td>30a06a1a-808e-4af0-befb-8f93bfeed7b4</td>\n",
       "      <td>0.679,0.564,0.167,1.395,0.609,0.275,0.407,0,0,1</td>\n",
       "      <td>13.367835</td>\n",
       "      <td>13.647138</td>\n",
       "      <td>10</td>\n",
       "      <td>3.367835</td>\n",
       "      <td>3.647138</td>\n",
       "    </tr>\n",
       "    <tr>\n",
       "      <th>3</th>\n",
       "      <td>4657c674-72df-4222-b87f-b8efc00f4b04</td>\n",
       "      <td>0.289,0.235,0.072,0.002,0.001,0.001,0.03,1,0,0</td>\n",
       "      <td>10.631181</td>\n",
       "      <td>10.327427</td>\n",
       "      <td>11</td>\n",
       "      <td>-0.368819</td>\n",
       "      <td>-0.672573</td>\n",
       "    </tr>\n",
       "    <tr>\n",
       "      <th>4</th>\n",
       "      <td>9e59bf48-aea0-47ef-a2f4-111f96a84d7c</td>\n",
       "      <td>0.654,0.526,0.213,1.323,0.632,0.327,0.368,0,0,1</td>\n",
       "      <td>12.858625</td>\n",
       "      <td>13.275390</td>\n",
       "      <td>13</td>\n",
       "      <td>-0.141375</td>\n",
       "      <td>0.275390</td>\n",
       "    </tr>\n",
       "    <tr>\n",
       "      <th>...</th>\n",
       "      <td>...</td>\n",
       "      <td>...</td>\n",
       "      <td>...</td>\n",
       "      <td>...</td>\n",
       "      <td>...</td>\n",
       "      <td>...</td>\n",
       "      <td>...</td>\n",
       "    </tr>\n",
       "    <tr>\n",
       "      <th>1995</th>\n",
       "      <td>adcd134e-517f-4c18-9011-d86b1b52340d</td>\n",
       "      <td>0.644,0.486,0.162,1.402,0.65,0.29,0.389,1,0,0</td>\n",
       "      <td>12.305834</td>\n",
       "      <td>13.111516</td>\n",
       "      <td>12</td>\n",
       "      <td>0.305834</td>\n",
       "      <td>1.111516</td>\n",
       "    </tr>\n",
       "    <tr>\n",
       "      <th>1996</th>\n",
       "      <td>c32ebf8c-0ff8-45d6-8eb5-88b0743c42ca</td>\n",
       "      <td>0.646,0.538,0.161,1.307,0.487,0.251,0.48,0,0,1</td>\n",
       "      <td>13.562231</td>\n",
       "      <td>13.643486</td>\n",
       "      <td>13</td>\n",
       "      <td>0.562231</td>\n",
       "      <td>0.643486</td>\n",
       "    </tr>\n",
       "    <tr>\n",
       "      <th>1997</th>\n",
       "      <td>f5ed47a3-7166-4c45-b83a-d1bf5d818f0b</td>\n",
       "      <td>0.624,0.514,0.144,1.027,0.377,0.262,0.245,0,0,1</td>\n",
       "      <td>11.904971</td>\n",
       "      <td>11.274489</td>\n",
       "      <td>10</td>\n",
       "      <td>1.904971</td>\n",
       "      <td>1.274489</td>\n",
       "    </tr>\n",
       "    <tr>\n",
       "      <th>1998</th>\n",
       "      <td>35e198ad-6ce1-45f3-acc0-eab317fd338d</td>\n",
       "      <td>0.607,0.438,0.151,1.194,0.51,0.281,0.372,0,1,0</td>\n",
       "      <td>12.725035</td>\n",
       "      <td>13.148396</td>\n",
       "      <td>13</td>\n",
       "      <td>-0.274965</td>\n",
       "      <td>0.148396</td>\n",
       "    </tr>\n",
       "    <tr>\n",
       "      <th>1999</th>\n",
       "      <td>6c8107e5-e537-4bf1-bf2d-8bfad4c2f179</td>\n",
       "      <td>0.693,0.544,0.171,1.33,0.63,0.291,0.402,0,1,0</td>\n",
       "      <td>12.858625</td>\n",
       "      <td>13.969860</td>\n",
       "      <td>13</td>\n",
       "      <td>-0.141375</td>\n",
       "      <td>0.969860</td>\n",
       "    </tr>\n",
       "  </tbody>\n",
       "</table>\n",
       "<p>2000 rows × 7 columns</p>\n",
       "</div>"
      ],
      "text/plain": [
       "                                   eventId  \\\n",
       "0     5f3449f1-e5c0-453f-9637-89d1de1e0a47   \n",
       "1     dec551c8-3b57-42d6-bc60-dc6f5dc1c4c7   \n",
       "2     30a06a1a-808e-4af0-befb-8f93bfeed7b4   \n",
       "3     4657c674-72df-4222-b87f-b8efc00f4b04   \n",
       "4     9e59bf48-aea0-47ef-a2f4-111f96a84d7c   \n",
       "...                                    ...   \n",
       "1995  adcd134e-517f-4c18-9011-d86b1b52340d   \n",
       "1996  c32ebf8c-0ff8-45d6-8eb5-88b0743c42ca   \n",
       "1997  f5ed47a3-7166-4c45-b83a-d1bf5d818f0b   \n",
       "1998  35e198ad-6ce1-45f3-acc0-eab317fd338d   \n",
       "1999  6c8107e5-e537-4bf1-bf2d-8bfad4c2f179   \n",
       "\n",
       "                                              input_x  prod_output  \\\n",
       "0       0.384,0.301,0.11,0.35,0.098,0.058,0.137,1,0,0    11.588634   \n",
       "1       0.585,0.438,0.16,1.17,0.447,0.278,0.319,0,0,1    12.925363   \n",
       "2     0.679,0.564,0.167,1.395,0.609,0.275,0.407,0,0,1    13.367835   \n",
       "3      0.289,0.235,0.072,0.002,0.001,0.001,0.03,1,0,0    10.631181   \n",
       "4     0.654,0.526,0.213,1.323,0.632,0.327,0.368,0,0,1    12.858625   \n",
       "...                                               ...          ...   \n",
       "1995    0.644,0.486,0.162,1.402,0.65,0.29,0.389,1,0,0    12.305834   \n",
       "1996   0.646,0.538,0.161,1.307,0.487,0.251,0.48,0,0,1    13.562231   \n",
       "1997  0.624,0.514,0.144,1.027,0.377,0.262,0.245,0,0,1    11.904971   \n",
       "1998   0.607,0.438,0.151,1.194,0.51,0.281,0.372,0,1,0    12.725035   \n",
       "1999    0.693,0.544,0.171,1.33,0.63,0.291,0.402,0,1,0    12.858625   \n",
       "\n",
       "      shadow_output  labels  prod_diff  shadow_diff  \n",
       "0         13.717491      13  -1.411366     0.717491  \n",
       "1         11.940685      11   1.925363     0.940685  \n",
       "2         13.647138      10   3.367835     3.647138  \n",
       "3         10.327427      11  -0.368819    -0.672573  \n",
       "4         13.275390      13  -0.141375     0.275390  \n",
       "...             ...     ...        ...          ...  \n",
       "1995      13.111516      12   0.305834     1.111516  \n",
       "1996      13.643486      13   0.562231     0.643486  \n",
       "1997      11.274489      10   1.904971     1.274489  \n",
       "1998      13.148396      13  -0.274965     0.148396  \n",
       "1999      13.969860      13  -0.141375     0.969860  \n",
       "\n",
       "[2000 rows x 7 columns]"
      ]
     },
     "execution_count": 16,
     "metadata": {},
     "output_type": "execute_result"
    }
   ],
   "source": [
    "#compile-data-capture-with-labels\n",
    "df_with_labels = pd.read_csv(\"data/abalone_data_new.csv\", header=None)\n",
    "test_labels = df_with_labels.iloc[:, 0]\n",
    "\n",
    "final_df = pd.merge(prod_var_df, shadow_var_df, on='eventId', how='right')\n",
    "final_df['labels'] =  test_labels\n",
    "final_df = final_df.drop('input_y', axis=1)\n",
    "final_df = final_df.assign(prod_diff=final_df['prod_output'] - final_df['labels'])\n",
    "final_df = final_df.assign(shadow_diff=final_df['shadow_output'] - final_df['labels'])\n",
    "final_df = final_df[['eventId','input_x','prod_output','shadow_output','labels','prod_diff','shadow_diff']]\n",
    "final_df"
   ]
  },
  {
   "attachments": {},
   "cell_type": "markdown",
   "metadata": {},
   "source": [
    "Review each prediction's variance and see how far each prediction is from the actual values. During the shadow deployment, each inference request was sent to both models. Thus, the results include 2000 predictions from the production model and 2000 predictions from the shadow model. The most straightforward way to evaluate the predictions is as follows: Find the absolute value of the difference between the prediction and the actual value, and then average these differences.\n",
    "\n",
    "For instance, if the abalone has 11 rings, but the production prediction is 9.3, the difference between these values is -1.7. The absolute value of -1.7 is 1.7. Find the absolute value for every difference, add them up, and divide the total by the number of inferences. In this way, you can find the average difference of the absolute values. A lower average difference means that the model predictions are generally more accurate."
   ]
  },
  {
   "cell_type": "code",
   "execution_count": 17,
   "metadata": {
    "execution": {
     "iopub.execute_input": "2025-06-18T17:23:15.741567Z",
     "iopub.status.busy": "2025-06-18T17:23:15.741100Z",
     "iopub.status.idle": "2025-06-18T17:23:15.748107Z",
     "shell.execute_reply": "2025-06-18T17:23:15.746990Z",
     "shell.execute_reply.started": "2025-06-18T17:23:15.741539Z"
    },
    "tags": []
   },
   "outputs": [
    {
     "name": "stdout",
     "output_type": "stream",
     "text": [
      "These are the averages of the absolute value of the difference between each model's inference results and the actual values (lower scores are more accurate):\n",
      "Production model variant: 1.2885243582725525\n",
      "Shadow model variant: 1.5040638756752014\n"
     ]
    }
   ],
   "source": [
    "#calculate-average-absolute-difference\n",
    "prod_diff_average = final_df.loc[:, 'prod_diff'].abs().mean()\n",
    "shadow_diff_average = final_df.loc[:, 'shadow_diff'].abs().mean()\n",
    "\n",
    "print(\"These are the averages of the absolute value of the difference between each model's inference results and the actual values (lower scores are more accurate):\")\n",
    "print(\"Production model variant: {}\".format(prod_diff_average))\n",
    "print(\"Shadow model variant: {}\".format(shadow_diff_average))"
   ]
  },
  {
   "attachments": {},
   "cell_type": "markdown",
   "metadata": {},
   "source": [
    "In this case, the shadow model has a higher average difference than the production model variant. This result indicates that the shadow model is likely not as good at predicting the actual number of rings as the current production model.\n",
    "\n",
    "You can see the results in more detail by creating charts of the data you collected from the Data Capture logs. Graph the average difference of the number of rings for the production and shadow models. This graph shows you, for each number of rings, how close each model is to predicting the correct value."
   ]
  },
  {
   "cell_type": "code",
   "execution_count": 18,
   "metadata": {
    "execution": {
     "iopub.execute_input": "2025-06-18T17:23:19.664665Z",
     "iopub.status.busy": "2025-06-18T17:23:19.664147Z",
     "iopub.status.idle": "2025-06-18T17:23:19.992187Z",
     "shell.execute_reply": "2025-06-18T17:23:19.991040Z",
     "shell.execute_reply.started": "2025-06-18T17:23:19.664638Z"
    },
    "tags": []
   },
   "outputs": [
    {
     "data": {
      "text/plain": [
       "[Text(0.5, 1.0, 'Difference in Prediction Scores by Number of Rings'),\n",
       " Text(0.5, 0, 'Number of Rings'),\n",
       " Text(0, 0.5, 'Absolute Difference in Predicted to Actual Rings')]"
      ]
     },
     "execution_count": 18,
     "metadata": {},
     "output_type": "execute_result"
    },
    {
     "data": {
      "image/png": "[encoded data removed]",
      "text/plain": [
       "<Figure size 640x480 with 1 Axes>"
      ]
     },
     "metadata": {},
     "output_type": "display_data"
    }
   ],
   "source": [
    "#graph-model-differences-from-labels\n",
    "final_df['prod_diff'] = final_df['prod_diff'].abs()\n",
    "final_df['shadow_diff'] = final_df['shadow_diff'].abs()\n",
    "grouped_df = final_df.groupby(['labels']).agg(prod_diff_average=('prod_diff', 'mean'), shadow_diff_average=('shadow_diff' , 'mean'))\n",
    "grouped_df = grouped_df.reset_index()\n",
    "grouped_df = grouped_df.melt(id_vars=['labels'], value_vars=['prod_diff_average', 'shadow_diff_average'])\n",
    "\n",
    "sb.barplot(x=grouped_df.labels,\n",
    "           y=grouped_df.value,\n",
    "           hue=grouped_df.variable,\n",
    "           data=grouped_df).set(title='Difference in Prediction Scores by Number of Rings', xlabel='Number of Rings', ylabel='Absolute Difference in Predicted to Actual Rings')"
   ]
  },
  {
   "attachments": {},
   "cell_type": "markdown",
   "metadata": {},
   "source": [
    "This chart shows that the production and shadow models have similar variances for each ring value. The production model has lower variance for some of the ring values, and the shadow model has lower variance for other ring values.\n",
    "\n",
    "You have collected a list of predicted values. Now, you can evaluate the R-squared score (R2 score), mean absolute error (MAE), and root mean squared error (RMSE) metrics for each variant. These metrics help determine whether the new model is an improvement over the one currently in production."
   ]
  },
  {
   "cell_type": "code",
   "execution_count": 21,
   "metadata": {
    "execution": {
     "iopub.execute_input": "2025-06-18T17:24:51.029037Z",
     "iopub.status.busy": "2025-06-18T17:24:51.028637Z",
     "iopub.status.idle": "2025-06-18T17:24:51.042950Z",
     "shell.execute_reply": "2025-06-18T17:24:51.042225Z",
     "shell.execute_reply.started": "2025-06-18T17:24:51.029008Z"
    },
    "tags": []
   },
   "outputs": [
    {
     "name": "stdout",
     "output_type": "stream",
     "text": [
      "The R2 score of the production model is -0.52\n",
      "The R2 score of the shadow model is -1.07\n",
      "\n",
      "The Mean Absolute Error of the production model is 1.29\n",
      "The Mean Absolute Error of the shadow model is 1.5\n",
      "\n",
      "The Root Mean Squared Error of the production model is 1.61\n",
      "The Root Mean Squared Error of the shadow model is 1.88\n",
      "\n"
     ]
    }
   ],
   "source": [
    "#evaluate-model-metrics\n",
    "labels = final_df['labels']\n",
    "prod_preds = final_df['prod_output']\n",
    "shadow_preds = final_df['shadow_output']\n",
    "\n",
    "# Calculate R2\n",
    "prod_score = r2_score(labels, prod_preds)\n",
    "shadow_score = r2_score(labels, shadow_preds)\n",
    "print(\"The R2 score of the production model is {}\".format(round(prod_score, 2)))\n",
    "print(\"The R2 score of the shadow model is {}\\n\".format(round(shadow_score, 2)))\n",
    "\n",
    "# Calculate MAE\n",
    "prod_score = mean_absolute_error(labels, prod_preds)\n",
    "shadow_score = mean_absolute_error(labels, shadow_preds)\n",
    "print(\"The Mean Absolute Error of the production model is {}\".format(round(prod_score, 2)))\n",
    "print(\"The Mean Absolute Error of the shadow model is {}\\n\".format(round(shadow_score, 2)))\n",
    "\n",
    "# Calculate RMSE\n",
    "prod_score = root_mean_squared_error(labels, prod_preds)\n",
    "shadow_score = root_mean_squared_error(labels, shadow_preds)\n",
    "print(\"The Root Mean Squared Error of the production model is {}\".format(round(prod_score, 2)))\n",
    "print(\"The Root Mean Squared Error of the shadow model is {}\\n\".format(round(shadow_score, 2)))"
   ]
  },
  {
   "attachments": {},
   "cell_type": "markdown",
   "metadata": {},
   "source": [
    "The shadow model is not performing as well as the current production model. The R2 score is lower, the MAE is higher, and the RMSE is higher. With a lower R2 score, you are confident that the shadow model is not improvement over the current production model. The team is going back to testing and tuning the model so they can try to improve on these results."
   ]
  },
  {
   "attachments": {},
   "cell_type": "markdown",
   "metadata": {},
   "source": [
    "You have successfully implemented a shadow testing strategy by configuring and testing production and shadow model variants. You reviewed results from the production and shadow model variants, and identified the model with the best performance.\n",
    "\n",
    "### Cleanup\n",
    "\n",
    "You have completed this notebook. To move to the next part of the lab, do the following:\n",
    "\n",
    "- Close this notebook file.\n",
    "- Return to the lab session and continue with the **Conclusion**."
   ]
  }
 ],
 "metadata": {
  "availableInstances": [
   {
    "_defaultOrder": 0,
    "_isFastLaunch": true,
    "category": "General purpose",
    "gpuNum": 0,
    "hideHardwareSpecs": false,
    "memoryGiB": 4,
    "name": "ml.t3.medium",
    "vcpuNum": 2
   },
   {
    "_defaultOrder": 1,
    "_isFastLaunch": false,
    "category": "General purpose",
    "gpuNum": 0,
    "hideHardwareSpecs": false,
    "memoryGiB": 8,
    "name": "ml.t3.large",
    "vcpuNum": 2
   },
   {
    "_defaultOrder": 2,
    "_isFastLaunch": false,
    "category": "General purpose",
    "gpuNum": 0,
    "hideHardwareSpecs": false,
    "memoryGiB": 16,
    "name": "ml.t3.xlarge",
    "vcpuNum": 4
   },
   {
    "_defaultOrder": 3,
    "_isFastLaunch": false,
    "category": "General purpose",
    "gpuNum": 0,
    "hideHardwareSpecs": false,
    "memoryGiB": 32,
    "name": "ml.t3.2xlarge",
    "vcpuNum": 8
   },
   {
    "_defaultOrder": 4,
    "_isFastLaunch": true,
    "category": "General purpose",
    "gpuNum": 0,
    "hideHardwareSpecs": false,
    "memoryGiB": 8,
    "name": "ml.m5.large",
    "vcpuNum": 2
   },
   {
    "_defaultOrder": 5,
    "_isFastLaunch": false,
    "category": "General purpose",
    "gpuNum": 0,
    "hideHardwareSpecs": false,
    "memoryGiB": 16,
    "name": "ml.m5.xlarge",
    "vcpuNum": 4
   },
   {
    "_defaultOrder": 6,
    "_isFastLaunch": false,
    "category": "General purpose",
    "gpuNum": 0,
    "hideHardwareSpecs": false,
    "memoryGiB": 32,
    "name": "ml.m5.2xlarge",
    "vcpuNum": 8
   },
   {
    "_defaultOrder": 7,
    "_isFastLaunch": false,
    "category": "General purpose",
    "gpuNum": 0,
    "hideHardwareSpecs": false,
    "memoryGiB": 64,
    "name": "ml.m5.4xlarge",
    "vcpuNum": 16
   },
   {
    "_defaultOrder": 8,
    "_isFastLaunch": false,
    "category": "General purpose",
    "gpuNum": 0,
    "hideHardwareSpecs": false,
    "memoryGiB": 128,
    "name": "ml.m5.8xlarge",
    "vcpuNum": 32
   },
   {
    "_defaultOrder": 9,
    "_isFastLaunch": false,
    "category": "General purpose",
    "gpuNum": 0,
    "hideHardwareSpecs": false,
    "memoryGiB": 192,
    "name": "ml.m5.12xlarge",
    "vcpuNum": 48
   },
   {
    "_defaultOrder": 10,
    "_isFastLaunch": false,
    "category": "General purpose",
    "gpuNum": 0,
    "hideHardwareSpecs": false,
    "memoryGiB": 256,
    "name": "ml.m5.16xlarge",
    "vcpuNum": 64
   },
   {
    "_defaultOrder": 11,
    "_isFastLaunch": false,
    "category": "General purpose",
    "gpuNum": 0,
    "hideHardwareSpecs": false,
    "memoryGiB": 384,
    "name": "ml.m5.24xlarge",
    "vcpuNum": 96
   },
   {
    "_defaultOrder": 12,
    "_isFastLaunch": false,
    "category": "General purpose",
    "gpuNum": 0,
    "hideHardwareSpecs": false,
    "memoryGiB": 8,
    "name": "ml.m5d.large",
    "vcpuNum": 2
   },
   {
    "_defaultOrder": 13,
    "_isFastLaunch": false,
    "category": "General purpose",
    "gpuNum": 0,
    "hideHardwareSpecs": false,
    "memoryGiB": 16,
    "name": "ml.m5d.xlarge",
    "vcpuNum": 4
   },
   {
    "_defaultOrder": 14,
    "_isFastLaunch": false,
    "category": "General purpose",
    "gpuNum": 0,
    "hideHardwareSpecs": false,
    "memoryGiB": 32,
    "name": "ml.m5d.2xlarge",
    "vcpuNum": 8
   },
   {
    "_defaultOrder": 15,
    "_isFastLaunch": false,
    "category": "General purpose",
    "gpuNum": 0,
    "hideHardwareSpecs": false,
    "memoryGiB": 64,
    "name": "ml.m5d.4xlarge",
    "vcpuNum": 16
   },
   {
    "_defaultOrder": 16,
    "_isFastLaunch": false,
    "category": "General purpose",
    "gpuNum": 0,
    "hideHardwareSpecs": false,
    "memoryGiB": 128,
    "name": "ml.m5d.8xlarge",
    "vcpuNum": 32
   },
   {
    "_defaultOrder": 17,
    "_isFastLaunch": false,
    "category": "General purpose",
    "gpuNum": 0,
    "hideHardwareSpecs": false,
    "memoryGiB": 192,
    "name": "ml.m5d.12xlarge",
    "vcpuNum": 48
   },
   {
    "_defaultOrder": 18,
    "_isFastLaunch": false,
    "category": "General purpose",
    "gpuNum": 0,
    "hideHardwareSpecs": false,
    "memoryGiB": 256,
    "name": "ml.m5d.16xlarge",
    "vcpuNum": 64
   },
   {
    "_defaultOrder": 19,
    "_isFastLaunch": false,
    "category": "General purpose",
    "gpuNum": 0,
    "hideHardwareSpecs": false,
    "memoryGiB": 384,
    "name": "ml.m5d.24xlarge",
    "vcpuNum": 96
   },
   {
    "_defaultOrder": 20,
    "_isFastLaunch": false,
    "category": "General purpose",
    "gpuNum": 0,
    "hideHardwareSpecs": true,
    "memoryGiB": 0,
    "name": "ml.geospatial.interactive",
    "supportedImageNames": [
     "sagemaker-geospatial-v1-0"
    ],
    "vcpuNum": 0
   },
   {
    "_defaultOrder": 21,
    "_isFastLaunch": true,
    "category": "Compute optimized",
    "gpuNum": 0,
    "hideHardwareSpecs": false,
    "memoryGiB": 4,
    "name": "ml.c5.large",
    "vcpuNum": 2
   },
   {
    "_defaultOrder": 22,
    "_isFastLaunch": false,
    "category": "Compute optimized",
    "gpuNum": 0,
    "hideHardwareSpecs": false,
    "memoryGiB": 8,
    "name": "ml.c5.xlarge",
    "vcpuNum": 4
   },
   {
    "_defaultOrder": 23,
    "_isFastLaunch": false,
    "category": "Compute optimized",
    "gpuNum": 0,
    "hideHardwareSpecs": false,
    "memoryGiB": 16,
    "name": "ml.c5.2xlarge",
    "vcpuNum": 8
   },
   {
    "_defaultOrder": 24,
    "_isFastLaunch": false,
    "category": "Compute optimized",
    "gpuNum": 0,
    "hideHardwareSpecs": false,
    "memoryGiB": 32,
    "name": "ml.c5.4xlarge",
    "vcpuNum": 16
   },
   {
    "_defaultOrder": 25,
    "_isFastLaunch": false,
    "category": "Compute optimized",
    "gpuNum": 0,
    "hideHardwareSpecs": false,
    "memoryGiB": 72,
    "name": "ml.c5.9xlarge",
    "vcpuNum": 36
   },
   {
    "_defaultOrder": 26,
    "_isFastLaunch": false,
    "category": "Compute optimized",
    "gpuNum": 0,
    "hideHardwareSpecs": false,
    "memoryGiB": 96,
    "name": "ml.c5.12xlarge",
    "vcpuNum": 48
   },
   {
    "_defaultOrder": 27,
    "_isFastLaunch": false,
    "category": "Compute optimized",
    "gpuNum": 0,
    "hideHardwareSpecs": false,
    "memoryGiB": 144,
    "name": "ml.c5.18xlarge",
    "vcpuNum": 72
   },
   {
    "_defaultOrder": 28,
    "_isFastLaunch": false,
    "category": "Compute optimized",
    "gpuNum": 0,
    "hideHardwareSpecs": false,
    "memoryGiB": 192,
    "name": "ml.c5.24xlarge",
    "vcpuNum": 96
   },
   {
    "_defaultOrder": 29,
    "_isFastLaunch": true,
    "category": "Accelerated computing",
    "gpuNum": 1,
    "hideHardwareSpecs": false,
    "memoryGiB": 16,
    "name": "ml.g4dn.xlarge",
    "vcpuNum": 4
   },
   {
    "_defaultOrder": 30,
    "_isFastLaunch": false,
    "category": "Accelerated computing",
    "gpuNum": 1,
    "hideHardwareSpecs": false,
    "memoryGiB": 32,
    "name": "ml.g4dn.2xlarge",
    "vcpuNum": 8
   },
   {
    "_defaultOrder": 31,
    "_isFastLaunch": false,
    "category": "Accelerated computing",
    "gpuNum": 1,
    "hideHardwareSpecs": false,
    "memoryGiB": 64,
    "name": "ml.g4dn.4xlarge",
    "vcpuNum": 16
   },
   {
    "_defaultOrder": 32,
    "_isFastLaunch": false,
    "category": "Accelerated computing",
    "gpuNum": 1,
    "hideHardwareSpecs": false,
    "memoryGiB": 128,
    "name": "ml.g4dn.8xlarge",
    "vcpuNum": 32
   },
   {
    "_defaultOrder": 33,
    "_isFastLaunch": false,
    "category": "Accelerated computing",
    "gpuNum": 4,
    "hideHardwareSpecs": false,
    "memoryGiB": 192,
    "name": "ml.g4dn.12xlarge",
    "vcpuNum": 48
   },
   {
    "_defaultOrder": 34,
    "_isFastLaunch": false,
    "category": "Accelerated computing",
    "gpuNum": 1,
    "hideHardwareSpecs": false,
    "memoryGiB": 256,
    "name": "ml.g4dn.16xlarge",
    "vcpuNum": 64
   },
   {
    "_defaultOrder": 35,
    "_isFastLaunch": false,
    "category": "Accelerated computing",
    "gpuNum": 1,
    "hideHardwareSpecs": false,
    "memoryGiB": 61,
    "name": "ml.p3.2xlarge",
    "vcpuNum": 8
   },
   {
    "_defaultOrder": 36,
    "_isFastLaunch": false,
    "category": "Accelerated computing",
    "gpuNum": 4,
    "hideHardwareSpecs": false,
    "memoryGiB": 244,
    "name": "ml.p3.8xlarge",
    "vcpuNum": 32
   },
   {
    "_defaultOrder": 37,
    "_isFastLaunch": false,
    "category": "Accelerated computing",
    "gpuNum": 8,
    "hideHardwareSpecs": false,
    "memoryGiB": 488,
    "name": "ml.p3.16xlarge",
    "vcpuNum": 64
   },
   {
    "_defaultOrder": 38,
    "_isFastLaunch": false,
    "category": "Accelerated computing",
    "gpuNum": 8,
    "hideHardwareSpecs": false,
    "memoryGiB": 768,
    "name": "ml.p3dn.24xlarge",
    "vcpuNum": 96
   },
   {
    "_defaultOrder": 39,
    "_isFastLaunch": false,
    "category": "Memory Optimized",
    "gpuNum": 0,
    "hideHardwareSpecs": false,
    "memoryGiB": 16,
    "name": "ml.r5.large",
    "vcpuNum": 2
   },
   {
    "_defaultOrder": 40,
    "_isFastLaunch": false,
    "category": "Memory Optimized",
    "gpuNum": 0,
    "hideHardwareSpecs": false,
    "memoryGiB": 32,
    "name": "ml.r5.xlarge",
    "vcpuNum": 4
   },
   {
    "_defaultOrder": 41,
    "_isFastLaunch": false,
    "category": "Memory Optimized",
    "gpuNum": 0,
    "hideHardwareSpecs": false,
    "memoryGiB": 64,
    "name": "ml.r5.2xlarge",
    "vcpuNum": 8
   },
   {
    "_defaultOrder": 42,
    "_isFastLaunch": false,
    "category": "Memory Optimized",
    "gpuNum": 0,
    "hideHardwareSpecs": false,
    "memoryGiB": 128,
    "name": "ml.r5.4xlarge",
    "vcpuNum": 16
   },
   {
    "_defaultOrder": 43,
    "_isFastLaunch": false,
    "category": "Memory Optimized",
    "gpuNum": 0,
    "hideHardwareSpecs": false,
    "memoryGiB": 256,
    "name": "ml.r5.8xlarge",
    "vcpuNum": 32
   },
   {
    "_defaultOrder": 44,
    "_isFastLaunch": false,
    "category": "Memory Optimized",
    "gpuNum": 0,
    "hideHardwareSpecs": false,
    "memoryGiB": 384,
    "name": "ml.r5.12xlarge",
    "vcpuNum": 48
   },
   {
    "_defaultOrder": 45,
    "_isFastLaunch": false,
    "category": "Memory Optimized",
    "gpuNum": 0,
    "hideHardwareSpecs": false,
    "memoryGiB": 512,
    "name": "ml.r5.16xlarge",
    "vcpuNum": 64
   },
   {
    "_defaultOrder": 46,
    "_isFastLaunch": false,
    "category": "Memory Optimized",
    "gpuNum": 0,
    "hideHardwareSpecs": false,
    "memoryGiB": 768,
    "name": "ml.r5.24xlarge",
    "vcpuNum": 96
   },
   {
    "_defaultOrder": 47,
    "_isFastLaunch": false,
    "category": "Accelerated computing",
    "gpuNum": 1,
    "hideHardwareSpecs": false,
    "memoryGiB": 16,
    "name": "ml.g5.xlarge",
    "vcpuNum": 4
   },
   {
    "_defaultOrder": 48,
    "_isFastLaunch": false,
    "category": "Accelerated computing",
    "gpuNum": 1,
    "hideHardwareSpecs": false,
    "memoryGiB": 32,
    "name": "ml.g5.2xlarge",
    "vcpuNum": 8
   },
   {
    "_defaultOrder": 49,
    "_isFastLaunch": false,
    "category": "Accelerated computing",
    "gpuNum": 1,
    "hideHardwareSpecs": false,
    "memoryGiB": 64,
    "name": "ml.g5.4xlarge",
    "vcpuNum": 16
   },
   {
    "_defaultOrder": 50,
    "_isFastLaunch": false,
    "category": "Accelerated computing",
    "gpuNum": 1,
    "hideHardwareSpecs": false,
    "memoryGiB": 128,
    "name": "ml.g5.8xlarge",
    "vcpuNum": 32
   },
   {
    "_defaultOrder": 51,
    "_isFastLaunch": false,
    "category": "Accelerated computing",
    "gpuNum": 1,
    "hideHardwareSpecs": false,
    "memoryGiB": 256,
    "name": "ml.g5.16xlarge",
    "vcpuNum": 64
   },
   {
    "_defaultOrder": 52,
    "_isFastLaunch": false,
    "category": "Accelerated computing",
    "gpuNum": 4,
    "hideHardwareSpecs": false,
    "memoryGiB": 192,
    "name": "ml.g5.12xlarge",
    "vcpuNum": 48
   },
   {
    "_defaultOrder": 53,
    "_isFastLaunch": false,
    "category": "Accelerated computing",
    "gpuNum": 4,
    "hideHardwareSpecs": false,
    "memoryGiB": 384,
    "name": "ml.g5.24xlarge",
    "vcpuNum": 96
   },
   {
    "_defaultOrder": 54,
    "_isFastLaunch": false,
    "category": "Accelerated computing",
    "gpuNum": 8,
    "hideHardwareSpecs": false,
    "memoryGiB": 768,
    "name": "ml.g5.48xlarge",
    "vcpuNum": 192
   },
   {
    "_defaultOrder": 55,
    "_isFastLaunch": false,
    "category": "Accelerated computing",
    "gpuNum": 8,
    "hideHardwareSpecs": false,
    "memoryGiB": 1152,
    "name": "ml.p4d.24xlarge",
    "vcpuNum": 96
   },
   {
    "_defaultOrder": 56,
    "_isFastLaunch": false,
    "category": "Accelerated computing",
    "gpuNum": 8,
    "hideHardwareSpecs": false,
    "memoryGiB": 1152,
    "name": "ml.p4de.24xlarge",
    "vcpuNum": 96
   }
  ],
  "instance_type": "ml.t3.medium",
  "kernelspec": {
   "display_name": "Python 3 (ipykernel)",
   "language": "python",
   "name": "python3"
  },
  "language_info": {
   "codemirror_mode": {
    "name": "ipython",
    "version": 3
   },
   "file_extension": ".py",
   "mimetype": "text/x-python",
   "name": "python",
   "nbconvert_exporter": "python",
   "pygments_lexer": "ipython3",
   "version": "3.12.9"
  },
  "vscode": {
   "interpreter": {
    "hash": "741de909edea0d5644898c592544ed98bede62b404d20772e5c4abc3c2f12566"
   }
  }
 },
 "nbformat": 4,
 "nbformat_minor": 4
}

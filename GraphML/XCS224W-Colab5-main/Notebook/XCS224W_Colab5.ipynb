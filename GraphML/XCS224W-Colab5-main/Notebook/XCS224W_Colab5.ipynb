{
  "cells": [
    {
      "cell_type": "markdown",
      "metadata": {
        "id": "XuXWJLEm2UWS"
      },
      "source": [
        "# **CS224W - Colab 5**\n",
        "\n",
        "[![Open In Colab](https://colab.research.google.com/assets/colab-badge.svg)](https://colab.research.google.com/github/scpd-proed/XCS224W-Colab5/blob/main/Notebook/XCS224W_Colab5.ipynb)\n",
        "\n",
        "Before opening the colab with the badge, you would need to allow Google Colab to access the GitHub private repositories. Please check therefore [this tutorial](https://colab.research.google.com/github/googlecolab/colabtools/blob/master/notebooks/colab-github-demo.ipynb#:~:text=Navigate%20to%20http%3A%2F%2Fcolab,to%20read%20the%20private%20files.).\n",
        "\n",
        "If colab is opened with this badge, make sure please **save copy to drive** in 'File' menu before running the notebook."
      ]
    },
    {
      "cell_type": "markdown",
      "metadata": {
        "id": "8gzsP50bF6Gb"
      },
      "source": [
        "In this final Colab we will continue experimenting with advanced topics in GNNs. Specifically, we will look at different techniques for scaling up GNNs using PyTorch Geometric, DeepSNAP and NetworkX. In the previous Colab we worked with PyTorch Geometric's `NeighborSampler` to scale up training and testing on the OGB `arxiv` dataset and now we will be using DeepSNAP and NetworkX, to implement our own simplified version of `NeighborSampler` and run experiments with different sampling ratios on the Cora graph.\n",
        "\n",
        "Lastly, we will partition the Cora graph into clusters by using different partition algorithms and then train the models using a vanilla Cluster-GCN.\n",
        "\n",
        "**Note**: Make sure to **sequentially run all the cells in each section**, so that the intermediate variables / packages will carry over to the next cell"
      ]
    },
    {
      "cell_type": "markdown",
      "metadata": {
        "id": "MSaetj53YnT6"
      },
      "source": [
        "# Device\n",
        "You likely will want to us a GPU for this Colab.\n",
        "\n",
        "Please click `Runtime` and then `Change runtime type`. Then set the `hardware accelerator` to **GPU**."
      ]
    },
    {
      "cell_type": "markdown",
      "metadata": {
        "id": "OCK7krJdp4o8"
      },
      "source": [
        "# Setup\n",
        "As discussed in the first Colabs, the installation of PyG on Colab can be a little bit tricky. First let us check which version of PyTorch you are running"
      ]
    },
    {
      "cell_type": "code",
      "execution_count": 9,
      "metadata": {
        "colab": {
          "base_uri": "https://localhost:8080/"
        },
        "id": "BqRrJVjr4akh",
        "outputId": "5c65a04d-e9dc-4c4d-e293-e9c6a617dd22"
      },
      "outputs": [
        {
          "output_type": "stream",
          "name": "stdout",
          "text": [
            "Looking in links: https://download.pytorch.org/whl/torch\n",
            "Requirement already satisfied: torch==2.5.1+cu124 in /usr/local/lib/python3.11/dist-packages (2.5.1+cu124)\n",
            "Requirement already satisfied: filelock in /usr/local/lib/python3.11/dist-packages (from torch==2.5.1+cu124) (3.18.0)\n",
            "Requirement already satisfied: typing-extensions>=4.8.0 in /usr/local/lib/python3.11/dist-packages (from torch==2.5.1+cu124) (4.14.0)\n",
            "Requirement already satisfied: networkx in /usr/local/lib/python3.11/dist-packages (from torch==2.5.1+cu124) (3.5)\n",
            "Requirement already satisfied: jinja2 in /usr/local/lib/python3.11/dist-packages (from torch==2.5.1+cu124) (3.1.6)\n",
            "Requirement already satisfied: fsspec in /usr/local/lib/python3.11/dist-packages (from torch==2.5.1+cu124) (2025.3.2)\n",
            "Requirement already satisfied: nvidia-cuda-nvrtc-cu12==12.4.127 in /usr/local/lib/python3.11/dist-packages (from torch==2.5.1+cu124) (12.4.127)\n",
            "Requirement already satisfied: nvidia-cuda-runtime-cu12==12.4.127 in /usr/local/lib/python3.11/dist-packages (from torch==2.5.1+cu124) (12.4.127)\n",
            "Requirement already satisfied: nvidia-cuda-cupti-cu12==12.4.127 in /usr/local/lib/python3.11/dist-packages (from torch==2.5.1+cu124) (12.4.127)\n",
            "Requirement already satisfied: nvidia-cudnn-cu12==9.1.0.70 in /usr/local/lib/python3.11/dist-packages (from torch==2.5.1+cu124) (9.1.0.70)\n",
            "Requirement already satisfied: nvidia-cublas-cu12==12.4.5.8 in /usr/local/lib/python3.11/dist-packages (from torch==2.5.1+cu124) (12.4.5.8)\n",
            "Requirement already satisfied: nvidia-cufft-cu12==11.2.1.3 in /usr/local/lib/python3.11/dist-packages (from torch==2.5.1+cu124) (11.2.1.3)\n",
            "Requirement already satisfied: nvidia-curand-cu12==10.3.5.147 in /usr/local/lib/python3.11/dist-packages (from torch==2.5.1+cu124) (10.3.5.147)\n",
            "Requirement already satisfied: nvidia-cusolver-cu12==11.6.1.9 in /usr/local/lib/python3.11/dist-packages (from torch==2.5.1+cu124) (11.6.1.9)\n",
            "Requirement already satisfied: nvidia-cusparse-cu12==12.3.1.170 in /usr/local/lib/python3.11/dist-packages (from torch==2.5.1+cu124) (12.3.1.170)\n",
            "Requirement already satisfied: nvidia-nccl-cu12==2.21.5 in /usr/local/lib/python3.11/dist-packages (from torch==2.5.1+cu124) (2.21.5)\n",
            "Requirement already satisfied: nvidia-nvtx-cu12==12.4.127 in /usr/local/lib/python3.11/dist-packages (from torch==2.5.1+cu124) (12.4.127)\n",
            "Requirement already satisfied: nvidia-nvjitlink-cu12==12.4.127 in /usr/local/lib/python3.11/dist-packages (from torch==2.5.1+cu124) (12.4.127)\n",
            "Requirement already satisfied: triton==3.1.0 in /usr/local/lib/python3.11/dist-packages (from torch==2.5.1+cu124) (3.1.0)\n",
            "Requirement already satisfied: sympy==1.13.1 in /usr/local/lib/python3.11/dist-packages (from torch==2.5.1+cu124) (1.13.1)\n",
            "Requirement already satisfied: mpmath<1.4,>=1.1.0 in /usr/local/lib/python3.11/dist-packages (from sympy==1.13.1->torch==2.5.1+cu124) (1.3.0)\n",
            "Requirement already satisfied: MarkupSafe>=2.0 in /usr/local/lib/python3.11/dist-packages (from jinja2->torch==2.5.1+cu124) (3.0.2)\n"
          ]
        }
      ],
      "source": [
        "# Install PyTorch\n",
        "import os\n",
        "if 'IS_GRADESCOPE_ENV' not in os.environ:\n",
        "    !pip install torch==2.5.1+cu124 -f https://download.pytorch.org/whl/torch"
      ]
    },
    {
      "cell_type": "code",
      "execution_count": 10,
      "metadata": {
        "colab": {
          "base_uri": "https://localhost:8080/"
        },
        "id": "2vkP8pA1qBE5",
        "outputId": "0afe358f-9f32-437b-a271-cf24cbf24812"
      },
      "outputs": [
        {
          "output_type": "stream",
          "name": "stdout",
          "text": [
            "PyTorch has version 2.5.1+cu124\n"
          ]
        }
      ],
      "source": [
        "import torch\n",
        "print(\"PyTorch has version {}\".format(torch.__version__))"
      ]
    },
    {
      "cell_type": "markdown",
      "metadata": {
        "id": "67gOQITlCNQi"
      },
      "source": [
        "# Installation"
      ]
    },
    {
      "cell_type": "code",
      "execution_count": 11,
      "metadata": {
        "colab": {
          "base_uri": "https://localhost:8080/"
        },
        "id": "J_m9l6OYCQZP",
        "outputId": "ebe0a275-bf91-4288-d848-a55c26433621"
      },
      "outputs": [
        {
          "output_type": "stream",
          "name": "stdout",
          "text": [
            "Looking in links: https://pytorch-geometric.com/whl/torch-2.5.1+cu124.html\n",
            "Requirement already satisfied: torch-scatter in /usr/local/lib/python3.11/dist-packages (2.1.2+pt25cu124)\n",
            "Looking in links: https://pytorch-geometric.com/whl/torch-2.5.1+cu124.html\n",
            "Requirement already satisfied: torch-sparse in /usr/local/lib/python3.11/dist-packages (0.6.18+pt25cu124)\n",
            "Requirement already satisfied: scipy in /usr/local/lib/python3.11/dist-packages (from torch-sparse) (1.15.3)\n",
            "Requirement already satisfied: numpy<2.5,>=1.23.5 in /usr/local/lib/python3.11/dist-packages (from scipy->torch-sparse) (2.0.2)\n",
            "Requirement already satisfied: torch-geometric in /usr/local/lib/python3.11/dist-packages (2.6.1)\n",
            "Requirement already satisfied: aiohttp in /usr/local/lib/python3.11/dist-packages (from torch-geometric) (3.11.15)\n",
            "Requirement already satisfied: fsspec in /usr/local/lib/python3.11/dist-packages (from torch-geometric) (2025.3.2)\n",
            "Requirement already satisfied: jinja2 in /usr/local/lib/python3.11/dist-packages (from torch-geometric) (3.1.6)\n",
            "Requirement already satisfied: numpy in /usr/local/lib/python3.11/dist-packages (from torch-geometric) (2.0.2)\n",
            "Requirement already satisfied: psutil>=5.8.0 in /usr/local/lib/python3.11/dist-packages (from torch-geometric) (5.9.5)\n",
            "Requirement already satisfied: pyparsing in /usr/local/lib/python3.11/dist-packages (from torch-geometric) (3.2.3)\n",
            "Requirement already satisfied: requests in /usr/local/lib/python3.11/dist-packages (from torch-geometric) (2.32.3)\n",
            "Requirement already satisfied: tqdm in /usr/local/lib/python3.11/dist-packages (from torch-geometric) (4.67.1)\n",
            "Requirement already satisfied: aiohappyeyeballs>=2.3.0 in /usr/local/lib/python3.11/dist-packages (from aiohttp->torch-geometric) (2.6.1)\n",
            "Requirement already satisfied: aiosignal>=1.1.2 in /usr/local/lib/python3.11/dist-packages (from aiohttp->torch-geometric) (1.3.2)\n",
            "Requirement already satisfied: attrs>=17.3.0 in /usr/local/lib/python3.11/dist-packages (from aiohttp->torch-geometric) (25.3.0)\n",
            "Requirement already satisfied: frozenlist>=1.1.1 in /usr/local/lib/python3.11/dist-packages (from aiohttp->torch-geometric) (1.6.0)\n",
            "Requirement already satisfied: multidict<7.0,>=4.5 in /usr/local/lib/python3.11/dist-packages (from aiohttp->torch-geometric) (6.4.4)\n",
            "Requirement already satisfied: propcache>=0.2.0 in /usr/local/lib/python3.11/dist-packages (from aiohttp->torch-geometric) (0.3.1)\n",
            "Requirement already satisfied: yarl<2.0,>=1.17.0 in /usr/local/lib/python3.11/dist-packages (from aiohttp->torch-geometric) (1.20.0)\n",
            "Requirement already satisfied: MarkupSafe>=2.0 in /usr/local/lib/python3.11/dist-packages (from jinja2->torch-geometric) (3.0.2)\n",
            "Requirement already satisfied: charset-normalizer<4,>=2 in /usr/local/lib/python3.11/dist-packages (from requests->torch-geometric) (3.4.2)\n",
            "Requirement already satisfied: idna<4,>=2.5 in /usr/local/lib/python3.11/dist-packages (from requests->torch-geometric) (3.10)\n",
            "Requirement already satisfied: urllib3<3,>=1.21.1 in /usr/local/lib/python3.11/dist-packages (from requests->torch-geometric) (2.4.0)\n",
            "Requirement already satisfied: certifi>=2017.4.17 in /usr/local/lib/python3.11/dist-packages (from requests->torch-geometric) (2025.4.26)\n",
            "  Preparing metadata (setup.py) ... \u001b[?25l\u001b[?25hdone\n"
          ]
        }
      ],
      "source": [
        "# Install torch geometric\n",
        "if 'IS_GRADESCOPE_ENV' not in os.environ:\n",
        "  !pip install torch-scatter -f https://pytorch-geometric.com/whl/torch-2.5.1+cu124.html\n",
        "  !pip install torch-sparse -f https://pytorch-geometric.com/whl/torch-2.5.1+cu124.html\n",
        "  !pip install torch-geometric\n",
        "  !pip install -q ogb\n",
        "  # Fix for Deepsnap PyG 2.4.x compatibility issue (https://github.com/snap-stanford/deepsnap/issues/53)\n",
        "  !pip install -q git+https://github.com/SebastianHurubaru/deepsnap.git\n"
      ]
    },
    {
      "cell_type": "code",
      "execution_count": 12,
      "metadata": {
        "colab": {
          "base_uri": "https://localhost:8080/",
          "height": 35
        },
        "id": "PRfgbfTjCRD_",
        "outputId": "edb3d8b1-6679-43ef-f054-72caaf404b9a"
      },
      "outputs": [
        {
          "output_type": "execute_result",
          "data": {
            "text/plain": [
              "'2.6.1'"
            ],
            "application/vnd.google.colaboratory.intrinsic+json": {
              "type": "string"
            }
          },
          "metadata": {},
          "execution_count": 12
        }
      ],
      "source": [
        "import torch_geometric\n",
        "torch_geometric.__version__"
      ]
    },
    {
      "cell_type": "markdown",
      "metadata": {
        "id": "WFb2OAvOSn_O"
      },
      "source": [
        "# 1) Neighbor Sampling with Different Ratios\n",
        "\n",
        "We will implement our own simplified version of Neighbor Sampling using DeepSNAP and NetworkX. Then we will use our sampler to train models with different neighborhood sampling ratios and compare their performance.\n",
        "\n",
        "To make our experiments faster, we will use the Cora graph."
      ]
    },
    {
      "cell_type": "markdown",
      "metadata": {
        "id": "P9U0F7bnSz9u"
      },
      "source": [
        "## Setup"
      ]
    },
    {
      "cell_type": "code",
      "execution_count": 13,
      "metadata": {
        "id": "PUF4on-fSxcq"
      },
      "outputs": [],
      "source": [
        "import copy\n",
        "import torch\n",
        "import random\n",
        "import numpy as np\n",
        "import pandas as pd\n",
        "import networkx as nx\n",
        "import torch.nn as nn\n",
        "import torch.nn.functional as F\n",
        "\n",
        "from torch_geometric.nn import SAGEConv\n",
        "from torch.utils.data import DataLoader\n",
        "from torch_geometric.datasets import Planetoid\n",
        "from torch.nn import Sequential, Linear, ReLU\n",
        "from deepsnap.dataset import GraphDataset\n",
        "from deepsnap.graph import Graph\n",
        "\n",
        "if 'IS_GRADESCOPE_ENV' not in os.environ:\n",
        "  pyg_dataset = Planetoid('./tmp', \"Cora\")"
      ]
    },
    {
      "cell_type": "markdown",
      "metadata": {
        "id": "qw6k-KdFTEYw"
      },
      "source": [
        "## GNN Model\n",
        "\n",
        "We use a simple GraphSage GNN model, which we provide to you below. Similar to in section one, notice the slightly different implementations of the forward method depending on the data `mode`. When `mode = \"batch\"` we use Neighbor sampling. Thus, the data parameter contains our graph's node features (`x`) and a list `edge_indices` containing the connectivity of each GNN layer (i.e. an edge_index for each layer, defining the bipartite neighborhood computation graph).\n",
        "\n",
        "**NOTE:** Refer to sections *Neighbor Sampling* and *PyTorch Geometric Neighbor Sampler* from Colab4 for a detailed overview of the Neighbor Sampling technique."
      ]
    },
    {
      "cell_type": "code",
      "execution_count": 14,
      "metadata": {
        "id": "PvUlNi2TS09i"
      },
      "outputs": [],
      "source": [
        "class GNN(torch.nn.Module):\n",
        "    def __init__(self, input_dim, hidden_dim, output_dim, args):\n",
        "        super(GNN, self).__init__()\n",
        "        self.dropout = args['dropout']\n",
        "        self.num_layers = args['num_layers']\n",
        "\n",
        "        self.convs = nn.ModuleList()\n",
        "        self.bns = nn.ModuleList()\n",
        "\n",
        "        self.convs.append(SAGEConv(input_dim, hidden_dim))\n",
        "        self.bns.append(nn.BatchNorm1d(hidden_dim))\n",
        "\n",
        "        for l in range(self.num_layers - 2):\n",
        "            self.convs.append(SAGEConv(hidden_dim, hidden_dim))\n",
        "            self.bns.append(nn.BatchNorm1d(hidden_dim))\n",
        "        self.convs.append(SAGEConv(hidden_dim, hidden_dim))\n",
        "\n",
        "        self.post_mp = nn.Linear(hidden_dim, output_dim)\n",
        "\n",
        "    def forward(self, data, mode=\"batch\"):\n",
        "        # Observe the difference between mode == \"batch\" and mode == \"all\".\n",
        "        # In mode == \"batch\" we pass in an edge index for each conv layer\n",
        "        # corresponding to that layer's bipartite graph structure.\n",
        "        if mode == \"batch\":\n",
        "            edge_indices, x = data\n",
        "            for i in range(len(self.convs) - 1):\n",
        "                edge_index = edge_indices[i]\n",
        "                x = self.convs[i](x, edge_index)\n",
        "                x = self.bns[i](x)\n",
        "                x = F.relu(x)\n",
        "                x = F.dropout(x, p=self.dropout, training=self.training)\n",
        "            x = self.convs[-1](x, edge_indices[len(self.convs) - 1])\n",
        "        else:\n",
        "            x, edge_index = data.node_feature, data.edge_index\n",
        "            for i in range(len(self.convs) - 1):\n",
        "                x = self.convs[i](x, edge_index)\n",
        "                x = self.bns[i](x)\n",
        "                x = F.relu(x)\n",
        "                x = F.dropout(x, p=self.dropout, training=self.training)\n",
        "            x = self.convs[-1](x, edge_index)\n",
        "        x = self.post_mp(x)\n",
        "        x = F.log_softmax(x, dim=1)\n",
        "        return x"
      ]
    },
    {
      "cell_type": "markdown",
      "metadata": {
        "id": "Ulp1A3evcJ-I"
      },
      "source": [
        "## Implementing Neighbor Sampling\n",
        "\n",
        "Now let's take a stab at implementing our own basic version of Neighbor Sampling using DeepSNAP and NetworkX. To decompose the process, we will define several helper functions before finally defining our own `neighbor_sampling` function!\n",
        "\n",
        "**NOTE:** Before working through this section, we highly recommend reviewing sections `Neighbor Sampling` and `PyTorch Geometric Neighbor Sampler`. Specifically, it is important to understand how we explicitly define an `edge_index` for each GNN layer, representing the bipartite computation graph connecting the `target_nodes` that we are embedding for that layer to their relevant neighbors from the previous layer needed for message passing."
      ]
    },
    {
      "cell_type": "markdown",
      "metadata": {
        "id": "VWneVr3_Hj4n"
      },
      "source": [
        "## **Question 1.1a**: Implementing the `sample_neighbors` function. (5 points)"
      ]
    },
    {
      "cell_type": "code",
      "execution_count": 15,
      "metadata": {
        "colab": {
          "base_uri": "https://localhost:8080/"
        },
        "id": "V1TZXvJhHjRK",
        "outputId": "c9e4d218-1f4e-4c4a-a9ea-5e31bca6da67"
      },
      "outputs": [
        {
          "output_type": "stream",
          "name": "stdout",
          "text": [
            "Index fields: val_mask ignored.\n",
            "Index fields: train_mask ignored.\n",
            "Index fields: test_mask ignored.\n",
            "Neighbors with ratio = 1: {1632, 1090, 1315, 1316, 1093, 970, 2444, 2642, 1271, 24, 927, 2140, 2367}\n",
            "Neighbors with ratio = 0.3: {24, 2444, 2367}\n",
            "Ratio of sampled neighbors: 0.23076923076923078\n"
          ]
        }
      ],
      "source": [
        "def sample_neighbors(nodes, G, ratio, all_nodes):\n",
        "    # TODO: Implement a function that takes as input a set of nodes,\n",
        "    # a NetworkX graph G, a neighbor sampling ratio, and a set containing all nodes\n",
        "    # and returns:\n",
        "    #   1. A set of the sampled nodes\n",
        "    #   2. A set union between `all_nodes` and the newly sampled neighbor nodes.\n",
        "    #      This allows us to track the nodes needed across all message passing layers.\n",
        "    #   3. The set of edges connecting the sampled neighboring nodes to our input\n",
        "    #      set of nodes. Represents a bi-partite graph between targets (nodes)\n",
        "    #      and source (neighbor) nodes.\n",
        "\n",
        "    neighbors = set()\n",
        "    edges = []\n",
        "\n",
        "    ############# Your code here ############\n",
        "    ## (~8-10 line of code)\n",
        "    ## Note:\n",
        "    ## 1. You will will need to sample neighbors from each node given to you in\n",
        "    ##    `nodes` list.\n",
        "    ##    Hint: Use graph `G` to assist in obtaining the neighbors of each node.\n",
        "    ## 2. The number of neighbors to be sampled based on the `ratio` parameter\n",
        "    ##    must be rounded **down** to get an integer value\n",
        "    ## 3. Randomly sample neighbors without replacement (i.e. the same neighbors\n",
        "    ##    should not be selected more than once for a given node)\n",
        "    ## 4. The neighbors are stored in a set data structure to ensure that duplicates\n",
        "    ##    are avoided.  This is useful as the set union will be taken with `all_nodes`.\n",
        "    ## 5. The edges list should contain all edges sampled in the form of a tuple\n",
        "    ##    of (neighbor, node)\n",
        "    for node in nodes:\n",
        "        all_neighbors = [n for n in G.neighbors(node)]\n",
        "        num_neighbors = int(len(all_neighbors) * ratio)\n",
        "        sampled_neighbors = random.sample(all_neighbors, num_neighbors)\n",
        "        for neighbor in sampled_neighbors:\n",
        "            neighbors.add(neighbor)\n",
        "            edges.append((neighbor, node))\n",
        "    ##########################################\n",
        "    return neighbors, neighbors.union(all_nodes), edges\n",
        "\n",
        "if 'IS_GRADESCOPE_ENV' not in os.environ:\n",
        "  graphs_train, _, _ = \\\n",
        "      GraphDataset.pyg_to_graphs(pyg_dataset, verbose=True, fixed_split=True)\n",
        "\n",
        "  graph_train = graphs_train[0]\n",
        "\n",
        "  nodes = [15, 16, 17]\n",
        "  neighbors_full, _, _ = sample_neighbors(nodes, graph_train.G, 1, set())\n",
        "  neighbors_sampled, _, _ = sample_neighbors(nodes, graph_train.G, 0.3, set())\n",
        "  print (\"Neighbors with ratio = 1:\", neighbors_full)\n",
        "  print (\"Neighbors with ratio = 0.3:\", neighbors_sampled)\n",
        "  # Note that this is not expected to be 0.3. Since we apply\n",
        "  # our sampling ratio for each node, the number of neighbors\n",
        "  # for each node may not evenly divide by the ratio\n",
        "  print (\"Ratio of sampled neighbors:\", len(neighbors_sampled) / len(neighbors_full))"
      ]
    },
    {
      "cell_type": "markdown",
      "metadata": {
        "id": "4NKNh4TEJ8_p"
      },
      "source": [
        "## Tensor transformation and node relabeling helper functions."
      ]
    },
    {
      "cell_type": "code",
      "execution_count": 16,
      "metadata": {
        "id": "H2PeBMJIJ9Tn"
      },
      "outputs": [],
      "source": [
        "def nodes_to_tensor(nodes):\n",
        "    \"\"\"\n",
        "      Transforms a set of nodes into a node index tensor.\n",
        "    \"\"\"\n",
        "\n",
        "    node_label_index = torch.tensor(list(nodes), dtype=torch.long)\n",
        "    return node_label_index\n",
        "\n",
        "\n",
        "def edges_to_tensor(edges):\n",
        "    \"\"\"\n",
        "      Transforms a list of undirected edges into the corresponding PyG\n",
        "      edge_index tensor representation. Notice that we explicitly make\n",
        "      sure to include both edge directions.\n",
        "    \"\"\"\n",
        "\n",
        "    edge_index = torch.tensor(list(edges), dtype=torch.long)\n",
        "    edge_index = torch.cat([edge_index, torch.flip(edge_index, [1])], dim=0)\n",
        "    edge_index = edge_index.permute(1, 0)\n",
        "\n",
        "    return edge_index\n",
        "\n",
        "def relabel(nodes, labeled_nodes, edges_list):\n",
        "    \"\"\"\n",
        "      Relabel nodes with 0 based indeces.\n",
        "\n",
        "      During the sampling process, we are likely to sample a list of\n",
        "      non-continuous node ids. However, our GNN models rely on continuous\n",
        "      0 based indexing to index into the rows of our node features matrix\n",
        "      based on edges in the graph (edge_index)\n",
        "    \"\"\"\n",
        "\n",
        "    relabeled_edges_list = []\n",
        "    sorted_nodes = sorted(nodes)\n",
        "    node_mapping = {node : i for i, node in enumerate(sorted_nodes)}\n",
        "    for orig_edges in edges_list:\n",
        "        relabeled_edges = []\n",
        "        for edge in orig_edges:\n",
        "            relabeled_edges.append((node_mapping[edge[0]], node_mapping[edge[1]]))\n",
        "        relabeled_edges_list.append(relabeled_edges)\n",
        "    relabeled_labeled_nodes = [node_mapping[node] for node in labeled_nodes]\n",
        "    relabeled_nodes = [node_mapping[node] for node in nodes]\n",
        "\n",
        "    return relabeled_edges_list, relabeled_nodes, relabeled_labeled_nodes, sorted_nodes\n"
      ]
    },
    {
      "cell_type": "markdown",
      "metadata": {
        "id": "El-2h_ApOJYP"
      },
      "source": [
        "## **Question 1.1b**: Putting it all together - Implementing our own Neighbor Sampling function. (4 points)\n",
        "\n",
        "Now that we've developed a better understanding of what the Neighbor Sampling function does, we will implement our own version of it. Instead of choosing $H_k$ number of samples at each layer, we will use a ratio of the number of neigbors that a givn node has. Can you think of the pros and cons of using a ratio of the number of neighbors for a node at different layers?  "
      ]
    },
    {
      "cell_type": "code",
      "execution_count": 23,
      "metadata": {
        "colab": {
          "base_uri": "https://localhost:8080/"
        },
        "id": "LI4qHkE4cQOh",
        "outputId": "fc2b9f5a-2dda-44d4-fa35-20f47522bee3"
      },
      "outputs": [
        {
          "output_type": "stream",
          "name": "stdout",
          "text": [
            "Index fields: val_mask ignored.\n",
            "Index fields: train_mask ignored.\n",
            "Index fields: test_mask ignored.\n",
            "Sampled 1938 nodes, 5293 edges, 140 labeled nodes\n"
          ]
        }
      ],
      "source": [
        "def neighbor_sampling(graph, K=2, ratios=(0.1, 0.1, 0.1)):\n",
        "    # TODO: Implement a function that performs Neighbor Sampling on an input\n",
        "    # graph G for a K layer GNN. Notice that len(ratios) = K + 1. Ratios[-1]\n",
        "    # determines size of our mini-batch (i.e. the number of labeled\n",
        "    # nodes we sample computation graphs for).\n",
        "\n",
        "    assert K + 1 == len(ratios)\n",
        "\n",
        "    labeled_nodes = graph.node_label_index.tolist()\n",
        "    random.shuffle(labeled_nodes)\n",
        "    num = int(len(labeled_nodes) * ratios[-1])\n",
        "    if num > 0:\n",
        "        labeled_nodes = labeled_nodes[:num]\n",
        "    nodes_list = [set(labeled_nodes)]\n",
        "    edges_list = []\n",
        "    all_nodes = labeled_nodes\n",
        "\n",
        "    ############# Your code here ############\n",
        "    ## (~4-6 line of code)\n",
        "    ## Note:\n",
        "    ## 1. Using your previously defined `sample_neighbors` function, build up the\n",
        "    ##    edges_list for our K layer network.\n",
        "    ## 2. nodes_list is a list where nodes_list[i] is set of nodes used for message\n",
        "    ##    passing in layer i+1 of our GNN (i.e. level i in our computation graph).\n",
        "    ##    Notice, nodes_list[-1] represents the target nodes we want to\n",
        "    ##    embedd in the mini-batch.\n",
        "    ## 3. edges_list is a list of the bi-partite edge conections between layers\n",
        "    ##    in the computation graph.\n",
        "    ## 4. all_nodes is used to track all the nodes needed for message passing.\n",
        "    ## 5. Remember in a GNN, information flows from the base of the computation\n",
        "    ##    graph to the root. How does this affect the way we add to the nodes_list\n",
        "    ##    and edges_list, as well as how we read from ratios (ratios[-1]\n",
        "    ##    represents the root nodes in our computation graph)?\n",
        "    for i in range(K):\n",
        "        nodes = nodes_list[i]\n",
        "        neighbors, all_nodes, edges = sample_neighbors(nodes, graph.G, ratios[i], all_nodes)\n",
        "        nodes_list.append(neighbors)\n",
        "        edges_list.append(edges)\n",
        "    nodes_list.reverse()\n",
        "    edges_list.reverse()\n",
        "    #########################################\n",
        "\n",
        "    relabeled_edges_list, relabeled_all_nodes, relabeled_labeled_nodes, sorted_original_nodes = \\\n",
        "        relabel(all_nodes, labeled_nodes, edges_list)\n",
        "\n",
        "    node_index = nodes_to_tensor(sorted_original_nodes)\n",
        "    # All node features that will be used\n",
        "    node_feature = graph.node_feature[node_index]\n",
        "    edge_indices = [edges_to_tensor(edges) for edges in relabeled_edges_list]\n",
        "    node_label_index = nodes_to_tensor(relabeled_labeled_nodes)\n",
        "    orig_node_label_index = nodes_to_tensor(labeled_nodes)\n",
        "    log = \"Sampled {} nodes, {} edges, {} labeled nodes\"\n",
        "    print(log.format(node_feature.shape[0], edge_indices[0].shape[1] // 2, node_label_index.shape[0]))\n",
        "    return node_feature, edge_indices, node_label_index, orig_node_label_index\n",
        "\n",
        "if 'IS_GRADESCOPE_ENV' not in os.environ:\n",
        "  # Need to define some basic test! Primarily to test whether they build\n",
        "  # in the correct reverse order. So ideally something like ratio = (0.3, 0.5, 0.8).\n",
        "  # Just need to check shapes.\n",
        "\n",
        "  graphs_train, _, _ = \\\n",
        "      GraphDataset.pyg_to_graphs(pyg_dataset, verbose=True, fixed_split=True)\n",
        "\n",
        "  graph_train = graphs_train[0]\n",
        "\n",
        "  node_feature, edge_indices, node_label_index, _ = neighbor_sampling(graph_train, K=3, ratios=(0.5, 0.8, 1, 1))"
      ]
    },
    {
      "cell_type": "markdown",
      "metadata": {
        "id": "ooy6Hcf7TIhI"
      },
      "source": [
        "## Training and Testing\n",
        "\n",
        "Additionally, notice that node classification task on Cora is a semi-supervised classification task, here we keep all the labeled training nodes (140 nodes) by setting the last ratio to 1."
      ]
    },
    {
      "cell_type": "code",
      "execution_count": 24,
      "metadata": {
        "id": "iSmZhpzPTGPY"
      },
      "outputs": [],
      "source": [
        "def train(train_graphs, val_graphs, args, model, optimizer, mode=\"batch\"):\n",
        "    best_val = 0\n",
        "    best_model = None\n",
        "    accs = []\n",
        "    graph_train = train_graphs[0]\n",
        "    graph_train.to(args['device'])\n",
        "    for epoch in range(1, 1 + args['epochs']):\n",
        "        model.train()\n",
        "        optimizer.zero_grad()\n",
        "        if mode == \"batch\":\n",
        "            node_feature, edge_indices, node_label_index, orig_node_index = neighbor_sampling(graph_train, args['num_layers'], args['ratios'])\n",
        "            node_feature = node_feature.to(args['device'])\n",
        "            node_label_index = node_label_index.to(args['device'])\n",
        "            for i in range(len(edge_indices)):\n",
        "                edge_indices[i] = edge_indices[i].to(args['device'])\n",
        "            pred = model([edge_indices, node_feature])\n",
        "            pred = pred[node_label_index]\n",
        "            label = graph_train.node_label[orig_node_index]\n",
        "        elif mode == \"community\":\n",
        "            graph = random.choice(train_graphs)\n",
        "            graph = graph.to(args['device'])\n",
        "            pred = model(graph, mode=\"all\")\n",
        "            pred = pred[graph.node_label_index]\n",
        "            label = graph.node_label[graph.node_label_index]\n",
        "        else:\n",
        "            pred = model(graph_train, mode=\"all\")\n",
        "            label = graph_train.node_label\n",
        "            pred = pred[graph_train.node_label_index]\n",
        "        loss = F.nll_loss(pred, label)\n",
        "        loss.backward()\n",
        "        optimizer.step()\n",
        "\n",
        "        train_acc, val_acc, test_acc = test(val_graphs, model)\n",
        "        accs.append((train_acc, val_acc, test_acc))\n",
        "        if val_acc > best_val:\n",
        "            best_val = val_acc\n",
        "            best_model = copy.deepcopy(model)\n",
        "        print(f'Epoch: {epoch:02d}, '\n",
        "              f'Loss: {loss:.4f}, '\n",
        "              f'Train: {100 * train_acc:.2f}%, '\n",
        "              f'Valid: {100 * val_acc:.2f}% '\n",
        "              f'Test: {100 * test_acc:.2f}%')\n",
        "    return best_model, accs\n",
        "\n",
        "def test(graphs, model, save_model_results=False, batch_type=\"batch\", title=None):\n",
        "    model.eval()\n",
        "    accs = []\n",
        "\n",
        "    for graph in graphs:\n",
        "        graph = graph.to(args['device'])\n",
        "        pred = model(graph, mode=\"all\")\n",
        "        label = graph.node_label\n",
        "        pred = pred[graph.node_label_index].max(1)[1]\n",
        "        acc = pred.eq(label).sum().item()\n",
        "        acc /= len(label)\n",
        "        accs.append(acc)\n",
        "\n",
        "    if save_model_results:\n",
        "      print (\"Saving Model Predictions for Model:\", batch_type, title)\n",
        "\n",
        "      data = {}\n",
        "      # The last dataset we test is the test graph\n",
        "      data['pred'] = pred.view(-1).cpu().detach().numpy()\n",
        "      data['label'] = label.view(-1).cpu().detach().numpy()\n",
        "\n",
        "      df = pd.DataFrame(data=data)\n",
        "      # Save locally as csv\n",
        "      file_name = 'CORA_Node_' + batch_type\n",
        "      if title is not None:\n",
        "        file_name = file_name + \"_\" + title\n",
        "\n",
        "      df.to_csv(file_name + '.csv', sep=',', index=False)\n",
        "\n",
        "    return accs"
      ]
    },
    {
      "cell_type": "code",
      "execution_count": 25,
      "metadata": {
        "id": "HV7i0v0ETKzf"
      },
      "outputs": [],
      "source": [
        "args = {\n",
        "    'device': torch.device('cuda' if torch.cuda.is_available() else 'cpu'),\n",
        "    'dropout': 0.5,\n",
        "    'num_layers': 2,\n",
        "    'hidden_size': 64,\n",
        "    'lr': 0.005,\n",
        "    'epochs': 50,\n",
        "    'ratios': (0.8, 0.8, 1),\n",
        "}"
      ]
    },
    {
      "cell_type": "code",
      "execution_count": 26,
      "metadata": {
        "id": "kfiKId8-iBj1"
      },
      "outputs": [],
      "source": [
        "def set_seed(seed=224):\n",
        "\n",
        "    random.seed(seed)\n",
        "    np.random.seed(seed)\n",
        "    torch.manual_seed(seed)\n",
        "    torch.backends.cudnn.benchmark = False"
      ]
    },
    {
      "cell_type": "markdown",
      "metadata": {
        "id": "rLpRYKbnTQnj"
      },
      "source": [
        "## Full-Batch Training\n",
        "\n",
        "As a baseline, we train our GNN model over the entire graph without any Neighbor Sampling."
      ]
    },
    {
      "cell_type": "code",
      "execution_count": 21,
      "metadata": {
        "colab": {
          "base_uri": "https://localhost:8080/"
        },
        "id": "pMGGjbJBTOo1",
        "outputId": "c0b60ae8-c083-4d9d-8001-f9228293c5cc"
      },
      "outputs": [
        {
          "output_type": "stream",
          "name": "stdout",
          "text": [
            "Index fields: val_mask ignored.\n",
            "Index fields: train_mask ignored.\n",
            "Index fields: test_mask ignored.\n",
            "Epoch: 01, Loss: 2.0470, Train: 59.29%, Valid: 26.80% Test: 30.60%\n",
            "Epoch: 02, Loss: 1.1333, Train: 97.14%, Valid: 53.00% Test: 57.20%\n",
            "Epoch: 03, Loss: 0.6012, Train: 100.00%, Valid: 67.80% Test: 69.10%\n",
            "Epoch: 04, Loss: 0.2909, Train: 100.00%, Valid: 72.40% Test: 73.80%\n",
            "Epoch: 05, Loss: 0.1524, Train: 100.00%, Valid: 75.20% Test: 75.00%\n",
            "Epoch: 06, Loss: 0.0756, Train: 100.00%, Valid: 75.00% Test: 76.10%\n",
            "Epoch: 07, Loss: 0.0394, Train: 100.00%, Valid: 76.00% Test: 76.00%\n",
            "Epoch: 08, Loss: 0.0200, Train: 100.00%, Valid: 76.00% Test: 75.90%\n",
            "Epoch: 09, Loss: 0.0105, Train: 100.00%, Valid: 75.60% Test: 75.70%\n",
            "Epoch: 10, Loss: 0.0046, Train: 100.00%, Valid: 76.00% Test: 75.80%\n",
            "Epoch: 11, Loss: 0.0048, Train: 100.00%, Valid: 76.00% Test: 76.10%\n",
            "Epoch: 12, Loss: 0.0061, Train: 100.00%, Valid: 75.80% Test: 76.40%\n",
            "Epoch: 13, Loss: 0.0033, Train: 100.00%, Valid: 76.00% Test: 76.20%\n",
            "Epoch: 14, Loss: 0.0018, Train: 100.00%, Valid: 75.40% Test: 76.20%\n",
            "Epoch: 15, Loss: 0.0013, Train: 100.00%, Valid: 75.40% Test: 76.10%\n",
            "Epoch: 16, Loss: 0.0014, Train: 100.00%, Valid: 75.20% Test: 75.80%\n",
            "Epoch: 17, Loss: 0.0007, Train: 100.00%, Valid: 75.20% Test: 76.00%\n",
            "Epoch: 18, Loss: 0.0006, Train: 100.00%, Valid: 75.00% Test: 76.20%\n",
            "Epoch: 19, Loss: 0.0004, Train: 100.00%, Valid: 75.00% Test: 76.40%\n",
            "Epoch: 20, Loss: 0.0007, Train: 100.00%, Valid: 74.80% Test: 76.40%\n",
            "Epoch: 21, Loss: 0.0002, Train: 100.00%, Valid: 74.40% Test: 76.20%\n",
            "Epoch: 22, Loss: 0.0002, Train: 100.00%, Valid: 74.20% Test: 76.10%\n",
            "Epoch: 23, Loss: 0.0003, Train: 100.00%, Valid: 74.20% Test: 76.10%\n",
            "Epoch: 24, Loss: 0.0003, Train: 100.00%, Valid: 74.00% Test: 76.30%\n",
            "Epoch: 25, Loss: 0.0007, Train: 100.00%, Valid: 74.00% Test: 76.30%\n",
            "Epoch: 26, Loss: 0.0004, Train: 100.00%, Valid: 74.00% Test: 76.30%\n",
            "Epoch: 27, Loss: 0.0001, Train: 100.00%, Valid: 73.80% Test: 76.30%\n",
            "Epoch: 28, Loss: 0.0001, Train: 100.00%, Valid: 73.80% Test: 76.50%\n",
            "Epoch: 29, Loss: 0.0002, Train: 100.00%, Valid: 73.80% Test: 76.50%\n",
            "Epoch: 30, Loss: 0.0001, Train: 100.00%, Valid: 73.80% Test: 76.50%\n",
            "Epoch: 31, Loss: 0.0002, Train: 100.00%, Valid: 73.80% Test: 76.60%\n",
            "Epoch: 32, Loss: 0.0009, Train: 100.00%, Valid: 73.80% Test: 76.60%\n",
            "Epoch: 33, Loss: 0.0002, Train: 100.00%, Valid: 74.20% Test: 76.60%\n",
            "Epoch: 34, Loss: 0.0003, Train: 100.00%, Valid: 74.00% Test: 76.60%\n",
            "Epoch: 35, Loss: 0.0003, Train: 100.00%, Valid: 73.80% Test: 76.50%\n",
            "Epoch: 36, Loss: 0.0003, Train: 100.00%, Valid: 73.80% Test: 76.60%\n",
            "Epoch: 37, Loss: 0.0001, Train: 100.00%, Valid: 73.80% Test: 76.60%\n",
            "Epoch: 38, Loss: 0.0000, Train: 100.00%, Valid: 73.80% Test: 76.60%\n",
            "Epoch: 39, Loss: 0.0000, Train: 100.00%, Valid: 73.80% Test: 76.70%\n",
            "Epoch: 40, Loss: 0.0003, Train: 100.00%, Valid: 73.80% Test: 76.70%\n",
            "Epoch: 41, Loss: 0.0002, Train: 100.00%, Valid: 73.80% Test: 76.70%\n",
            "Epoch: 42, Loss: 0.0002, Train: 100.00%, Valid: 74.00% Test: 76.70%\n",
            "Epoch: 43, Loss: 0.0000, Train: 100.00%, Valid: 74.00% Test: 76.60%\n",
            "Epoch: 44, Loss: 0.0002, Train: 100.00%, Valid: 74.00% Test: 76.60%\n",
            "Epoch: 45, Loss: 0.0001, Train: 100.00%, Valid: 74.00% Test: 76.60%\n",
            "Epoch: 46, Loss: 0.0001, Train: 100.00%, Valid: 74.00% Test: 76.60%\n",
            "Epoch: 47, Loss: 0.0001, Train: 100.00%, Valid: 74.00% Test: 76.60%\n",
            "Epoch: 48, Loss: 0.0000, Train: 100.00%, Valid: 74.00% Test: 76.70%\n",
            "Epoch: 49, Loss: 0.0000, Train: 100.00%, Valid: 74.00% Test: 76.70%\n",
            "Epoch: 50, Loss: 0.0003, Train: 100.00%, Valid: 73.80% Test: 76.90%\n",
            "Best model: Train: 100.00%, Valid: 76.00% Test: 76.00%\n"
          ]
        }
      ],
      "source": [
        "if 'IS_GRADESCOPE_ENV' not in os.environ:\n",
        "\n",
        "  set_seed()\n",
        "\n",
        "  graphs_train, graphs_val, graphs_test = \\\n",
        "      GraphDataset.pyg_to_graphs(pyg_dataset, verbose=True, fixed_split=True)\n",
        "\n",
        "  graph_train = graphs_train[0]\n",
        "  graph_val = graphs_val[0]\n",
        "  graph_test = graphs_test[0]\n",
        "\n",
        "  model = GNN(graph_train.num_node_features, args['hidden_size'], graph_train.num_node_labels, args).to(args['device'])\n",
        "\n",
        "  # Disable compile as this does not seem to work yet in PyTorch 2.0.1/PyG 2.3.1\n",
        "  # try:\n",
        "  #   model = torch_geometric.compile(model)\n",
        "  #   print(f\"GNN Model compiled\")\n",
        "  # except Exception as err:\n",
        "  #   print(f\"Model compile not supported: {err}\")\n",
        "\n",
        "  optimizer = torch.optim.Adam(model.parameters(), lr=args['lr'])\n",
        "  graphs = [graph_train, graph_val, graph_test]\n",
        "  all_best_model, all_accs = train(graphs, graphs, args, model, optimizer, mode=\"all\")\n",
        "  train_acc, val_acc, test_acc = test([graph_train, graph_val, graph_test], all_best_model)\n",
        "  print('Best model:',\n",
        "        f'Train: {100 * train_acc:.2f}%, '\n",
        "        f'Valid: {100 * val_acc:.2f}% '\n",
        "        f'Test: {100 * test_acc:.2f}%')"
      ]
    },
    {
      "cell_type": "markdown",
      "metadata": {
        "id": "JWkGiwB6Thr4"
      },
      "source": [
        "## **Question 1.2a:** What is the maximum test accuracy using samping ratios = (0.7, 0.9, 1)? (12 points)\n",
        "\n",
        "Running the cell below will show the results of your best model and save your best model's predictions to a file named CORA_Node_batch_(0.7, 0.9, 1).csv'.\n",
        "\n",
        "As we have seen before you can view this file by clicking on the Folder icon on the left side pannel. When you sumbit your assignment, you will have to download this file and attatch it to your submission."
      ]
    },
    {
      "cell_type": "code",
      "execution_count": 27,
      "metadata": {
        "colab": {
          "base_uri": "https://localhost:8080/"
        },
        "id": "yWusJ9u3Tfhv",
        "outputId": "7f698c67-c6d3-4228-c5a5-401846aa6616"
      },
      "outputs": [
        {
          "output_type": "stream",
          "name": "stdout",
          "text": [
            "Index fields: val_mask ignored.\n",
            "Index fields: train_mask ignored.\n",
            "Index fields: test_mask ignored.\n",
            "Sampled 1347 nodes, 2036 edges, 140 labeled nodes\n",
            "Epoch: 01, Loss: 2.0409, Train: 54.29%, Valid: 22.20% Test: 26.70%\n",
            "Sampled 1284 nodes, 1935 edges, 140 labeled nodes\n",
            "Epoch: 02, Loss: 1.3727, Train: 90.00%, Valid: 45.40% Test: 51.90%\n",
            "Sampled 1307 nodes, 1966 edges, 140 labeled nodes\n",
            "Epoch: 03, Loss: 0.9387, Train: 97.14%, Valid: 60.80% Test: 65.10%\n",
            "Sampled 1306 nodes, 1913 edges, 140 labeled nodes\n",
            "Epoch: 04, Loss: 0.6099, Train: 98.57%, Valid: 64.20% Test: 69.90%\n",
            "Sampled 1304 nodes, 1941 edges, 140 labeled nodes\n",
            "Epoch: 05, Loss: 0.4226, Train: 99.29%, Valid: 69.00% Test: 73.10%\n",
            "Sampled 1347 nodes, 2003 edges, 140 labeled nodes\n",
            "Epoch: 06, Loss: 0.3005, Train: 100.00%, Valid: 72.00% Test: 74.70%\n",
            "Sampled 1276 nodes, 1942 edges, 140 labeled nodes\n",
            "Epoch: 07, Loss: 0.1605, Train: 100.00%, Valid: 73.40% Test: 75.30%\n",
            "Sampled 1330 nodes, 1981 edges, 140 labeled nodes\n",
            "Epoch: 08, Loss: 0.1652, Train: 100.00%, Valid: 73.80% Test: 75.70%\n",
            "Sampled 1344 nodes, 1985 edges, 140 labeled nodes\n",
            "Epoch: 09, Loss: 0.0979, Train: 100.00%, Valid: 73.60% Test: 75.80%\n",
            "Sampled 1343 nodes, 2014 edges, 140 labeled nodes\n",
            "Epoch: 10, Loss: 0.0710, Train: 100.00%, Valid: 74.00% Test: 75.70%\n",
            "Sampled 1333 nodes, 1994 edges, 140 labeled nodes\n",
            "Epoch: 11, Loss: 0.0403, Train: 100.00%, Valid: 74.00% Test: 76.10%\n",
            "Sampled 1344 nodes, 2053 edges, 140 labeled nodes\n",
            "Epoch: 12, Loss: 0.0372, Train: 100.00%, Valid: 73.80% Test: 75.90%\n",
            "Sampled 1314 nodes, 1937 edges, 140 labeled nodes\n",
            "Epoch: 13, Loss: 0.0156, Train: 100.00%, Valid: 73.60% Test: 75.80%\n",
            "Sampled 1314 nodes, 1940 edges, 140 labeled nodes\n",
            "Epoch: 14, Loss: 0.0242, Train: 100.00%, Valid: 73.40% Test: 76.00%\n",
            "Sampled 1260 nodes, 1859 edges, 140 labeled nodes\n",
            "Epoch: 15, Loss: 0.0260, Train: 100.00%, Valid: 73.40% Test: 75.70%\n",
            "Sampled 1326 nodes, 1969 edges, 140 labeled nodes\n",
            "Epoch: 16, Loss: 0.0054, Train: 100.00%, Valid: 73.40% Test: 75.70%\n",
            "Sampled 1287 nodes, 1892 edges, 140 labeled nodes\n",
            "Epoch: 17, Loss: 0.0199, Train: 100.00%, Valid: 73.40% Test: 75.90%\n",
            "Sampled 1273 nodes, 1885 edges, 140 labeled nodes\n",
            "Epoch: 18, Loss: 0.0061, Train: 100.00%, Valid: 73.60% Test: 75.80%\n",
            "Sampled 1269 nodes, 1893 edges, 140 labeled nodes\n",
            "Epoch: 19, Loss: 0.0151, Train: 100.00%, Valid: 73.40% Test: 76.10%\n",
            "Sampled 1366 nodes, 2052 edges, 140 labeled nodes\n",
            "Epoch: 20, Loss: 0.0130, Train: 100.00%, Valid: 73.20% Test: 76.00%\n",
            "Sampled 1330 nodes, 2043 edges, 140 labeled nodes\n",
            "Epoch: 21, Loss: 0.0065, Train: 100.00%, Valid: 73.20% Test: 76.00%\n",
            "Sampled 1353 nodes, 1995 edges, 140 labeled nodes\n",
            "Epoch: 22, Loss: 0.0046, Train: 100.00%, Valid: 73.00% Test: 75.90%\n",
            "Sampled 1356 nodes, 1999 edges, 140 labeled nodes\n",
            "Epoch: 23, Loss: 0.0071, Train: 100.00%, Valid: 73.00% Test: 75.90%\n",
            "Sampled 1329 nodes, 2002 edges, 140 labeled nodes\n",
            "Epoch: 24, Loss: 0.0041, Train: 100.00%, Valid: 73.20% Test: 75.90%\n",
            "Sampled 1292 nodes, 1889 edges, 140 labeled nodes\n",
            "Epoch: 25, Loss: 0.0133, Train: 100.00%, Valid: 73.20% Test: 75.80%\n",
            "Sampled 1289 nodes, 1908 edges, 140 labeled nodes\n",
            "Epoch: 26, Loss: 0.0053, Train: 100.00%, Valid: 73.20% Test: 75.60%\n",
            "Sampled 1287 nodes, 1938 edges, 140 labeled nodes\n",
            "Epoch: 27, Loss: 0.0031, Train: 100.00%, Valid: 73.40% Test: 75.50%\n",
            "Sampled 1329 nodes, 1992 edges, 140 labeled nodes\n",
            "Epoch: 28, Loss: 0.0092, Train: 100.00%, Valid: 73.20% Test: 75.40%\n",
            "Sampled 1333 nodes, 2017 edges, 140 labeled nodes\n",
            "Epoch: 29, Loss: 0.0016, Train: 100.00%, Valid: 73.20% Test: 75.30%\n",
            "Sampled 1330 nodes, 2015 edges, 140 labeled nodes\n",
            "Epoch: 30, Loss: 0.0006, Train: 100.00%, Valid: 73.00% Test: 75.20%\n",
            "Sampled 1335 nodes, 2022 edges, 140 labeled nodes\n",
            "Epoch: 31, Loss: 0.0010, Train: 100.00%, Valid: 72.60% Test: 75.10%\n",
            "Sampled 1316 nodes, 1906 edges, 140 labeled nodes\n",
            "Epoch: 32, Loss: 0.0018, Train: 100.00%, Valid: 72.40% Test: 75.10%\n",
            "Sampled 1280 nodes, 1937 edges, 140 labeled nodes\n",
            "Epoch: 33, Loss: 0.0147, Train: 100.00%, Valid: 72.20% Test: 75.00%\n",
            "Sampled 1276 nodes, 1900 edges, 140 labeled nodes\n",
            "Epoch: 34, Loss: 0.0038, Train: 100.00%, Valid: 72.00% Test: 74.90%\n",
            "Sampled 1320 nodes, 1975 edges, 140 labeled nodes\n",
            "Epoch: 35, Loss: 0.0070, Train: 100.00%, Valid: 72.00% Test: 74.90%\n",
            "Sampled 1275 nodes, 1925 edges, 140 labeled nodes\n",
            "Epoch: 36, Loss: 0.0010, Train: 100.00%, Valid: 72.00% Test: 74.80%\n",
            "Sampled 1313 nodes, 1952 edges, 140 labeled nodes\n",
            "Epoch: 37, Loss: 0.0019, Train: 100.00%, Valid: 72.20% Test: 74.70%\n",
            "Sampled 1304 nodes, 1949 edges, 140 labeled nodes\n",
            "Epoch: 38, Loss: 0.0060, Train: 100.00%, Valid: 72.00% Test: 74.80%\n",
            "Sampled 1278 nodes, 1924 edges, 140 labeled nodes\n",
            "Epoch: 39, Loss: 0.0050, Train: 100.00%, Valid: 71.80% Test: 74.70%\n",
            "Sampled 1256 nodes, 1871 edges, 140 labeled nodes\n",
            "Epoch: 40, Loss: 0.0022, Train: 100.00%, Valid: 71.40% Test: 74.70%\n",
            "Sampled 1272 nodes, 1886 edges, 140 labeled nodes\n",
            "Epoch: 41, Loss: 0.0005, Train: 100.00%, Valid: 71.40% Test: 74.70%\n",
            "Sampled 1330 nodes, 1993 edges, 140 labeled nodes\n",
            "Epoch: 42, Loss: 0.0023, Train: 100.00%, Valid: 71.40% Test: 74.70%\n",
            "Sampled 1335 nodes, 1957 edges, 140 labeled nodes\n",
            "Epoch: 43, Loss: 0.0016, Train: 100.00%, Valid: 71.40% Test: 74.60%\n",
            "Sampled 1329 nodes, 1950 edges, 140 labeled nodes\n",
            "Epoch: 44, Loss: 0.0007, Train: 100.00%, Valid: 71.60% Test: 74.50%\n",
            "Sampled 1292 nodes, 1941 edges, 140 labeled nodes\n",
            "Epoch: 45, Loss: 0.0080, Train: 100.00%, Valid: 71.80% Test: 74.30%\n",
            "Sampled 1333 nodes, 1977 edges, 140 labeled nodes\n",
            "Epoch: 46, Loss: 0.0005, Train: 100.00%, Valid: 71.80% Test: 74.20%\n",
            "Sampled 1294 nodes, 1921 edges, 140 labeled nodes\n",
            "Epoch: 47, Loss: 0.0015, Train: 100.00%, Valid: 72.00% Test: 74.20%\n",
            "Sampled 1290 nodes, 1964 edges, 140 labeled nodes\n",
            "Epoch: 48, Loss: 0.0002, Train: 100.00%, Valid: 72.00% Test: 74.20%\n",
            "Sampled 1312 nodes, 1978 edges, 140 labeled nodes\n",
            "Epoch: 49, Loss: 0.0001, Train: 100.00%, Valid: 72.00% Test: 74.20%\n",
            "Sampled 1335 nodes, 2034 edges, 140 labeled nodes\n",
            "Epoch: 50, Loss: 0.0010, Train: 100.00%, Valid: 71.80% Test: 74.40%\n",
            "Saving Model Predictions for Model: batch (0.7,0.9,1)\n",
            "Best model: Train: 100.00%, Valid: 74.00% Test: 75.70%\n"
          ]
        }
      ],
      "source": [
        "if 'IS_GRADESCOPE_ENV' not in os.environ:\n",
        "\n",
        "  set_seed()\n",
        "\n",
        "  args['ratios'] = (0.7, 0.9, 1)\n",
        "\n",
        "  graphs_train, graphs_val, graphs_test = \\\n",
        "      GraphDataset.pyg_to_graphs(pyg_dataset, verbose=True, fixed_split=True)\n",
        "\n",
        "  graph_train = graphs_train[0]\n",
        "  graph_val = graphs_val[0]\n",
        "  graph_test = graphs_test[0]\n",
        "\n",
        "  model = GNN(graph_train.num_node_features, args['hidden_size'], graph_train.num_node_labels, args).to(args['device'])\n",
        "\n",
        "  # Disable compile as this does not seem to work yet in PyTorch 2.0.1/PyG 2.3.1\n",
        "  # try:\n",
        "  #   model = torch_geometric.compile(model)\n",
        "  #   print(f\"GNN Model compiled\")\n",
        "  # except Exception as err:\n",
        "  #   print(f\"Model compile not supported: {err}\")\n",
        "\n",
        "  optimizer = torch.optim.Adam(model.parameters(), lr=args['lr'])\n",
        "  graphs = [graph_train, graph_val, graph_test]\n",
        "  batch_best_model, batch_accs = train(graphs, graphs, args, model, optimizer)\n",
        "  train_acc, val_acc, test_acc = test([graph_train, graph_val, graph_test], batch_best_model, save_model_results=True, batch_type=\"batch\", title=\"(0.7,0.9,1)\")\n",
        "  print('Best model:',\n",
        "        f'Train: {100 * train_acc:.2f}%, '\n",
        "        f'Valid: {100 * val_acc:.2f}% '\n",
        "        f'Test: {100 * test_acc:.2f}%')"
      ]
    },
    {
      "cell_type": "markdown",
      "metadata": {
        "id": "w_FjkNHDT4c6"
      },
      "source": [
        "## **Question 1.2b:** What is the maximum test accuracy using samping ratios = (0.3, 0.5, 1)? (12 points)\n",
        "\n",
        "Running the cell below will show the results of your best model and save your best model's predictions to a file named CORA_Node_batch_(0.3, 0.5, 1).csv'.\n",
        "\n",
        "As we have seen before you can view this file by clicking on the Folder icon on the left side pannel. When you submit your assignment, you will have to download this file and attach it to your submission."
      ]
    },
    {
      "cell_type": "code",
      "execution_count": 28,
      "metadata": {
        "colab": {
          "base_uri": "https://localhost:8080/"
        },
        "id": "booJ6DASTjO4",
        "outputId": "80119fad-70b4-4f5a-8955-9563a47249a4"
      },
      "outputs": [
        {
          "output_type": "stream",
          "name": "stdout",
          "text": [
            "Index fields: val_mask ignored.\n",
            "Index fields: train_mask ignored.\n",
            "Index fields: test_mask ignored.\n",
            "Sampled 527 nodes, 409 edges, 140 labeled nodes\n",
            "Epoch: 01, Loss: 2.0170, Train: 38.57%, Valid: 13.20% Test: 17.10%\n",
            "Sampled 568 nodes, 455 edges, 140 labeled nodes\n",
            "Epoch: 02, Loss: 1.5776, Train: 67.14%, Valid: 27.20% Test: 31.60%\n",
            "Sampled 544 nodes, 439 edges, 140 labeled nodes\n",
            "Epoch: 03, Loss: 1.2652, Train: 80.71%, Valid: 39.80% Test: 43.40%\n",
            "Sampled 557 nodes, 451 edges, 140 labeled nodes\n",
            "Epoch: 04, Loss: 0.9989, Train: 84.29%, Valid: 44.80% Test: 49.30%\n",
            "Sampled 554 nodes, 460 edges, 140 labeled nodes\n",
            "Epoch: 05, Loss: 0.8251, Train: 90.71%, Valid: 52.20% Test: 55.90%\n",
            "Sampled 599 nodes, 517 edges, 140 labeled nodes\n",
            "Epoch: 06, Loss: 0.6473, Train: 94.29%, Valid: 56.40% Test: 58.90%\n",
            "Sampled 562 nodes, 454 edges, 140 labeled nodes\n",
            "Epoch: 07, Loss: 0.4443, Train: 95.71%, Valid: 59.80% Test: 61.70%\n",
            "Sampled 592 nodes, 499 edges, 140 labeled nodes\n",
            "Epoch: 08, Loss: 0.3477, Train: 96.43%, Valid: 62.20% Test: 63.90%\n",
            "Sampled 553 nodes, 474 edges, 140 labeled nodes\n",
            "Epoch: 09, Loss: 0.2669, Train: 97.86%, Valid: 64.20% Test: 65.80%\n",
            "Sampled 559 nodes, 471 edges, 140 labeled nodes\n",
            "Epoch: 10, Loss: 0.2106, Train: 99.29%, Valid: 64.60% Test: 66.40%\n",
            "Sampled 592 nodes, 509 edges, 140 labeled nodes\n",
            "Epoch: 11, Loss: 0.1443, Train: 100.00%, Valid: 65.60% Test: 67.20%\n",
            "Sampled 568 nodes, 453 edges, 140 labeled nodes\n",
            "Epoch: 12, Loss: 0.1238, Train: 100.00%, Valid: 66.00% Test: 68.20%\n",
            "Sampled 594 nodes, 486 edges, 140 labeled nodes\n",
            "Epoch: 13, Loss: 0.0720, Train: 100.00%, Valid: 67.80% Test: 68.70%\n",
            "Sampled 556 nodes, 465 edges, 140 labeled nodes\n",
            "Epoch: 14, Loss: 0.0784, Train: 100.00%, Valid: 68.20% Test: 69.60%\n",
            "Sampled 620 nodes, 550 edges, 140 labeled nodes\n",
            "Epoch: 15, Loss: 0.0486, Train: 100.00%, Valid: 68.00% Test: 69.60%\n",
            "Sampled 573 nodes, 493 edges, 140 labeled nodes\n",
            "Epoch: 16, Loss: 0.0476, Train: 100.00%, Valid: 69.00% Test: 69.90%\n",
            "Sampled 529 nodes, 437 edges, 140 labeled nodes\n",
            "Epoch: 17, Loss: 0.0736, Train: 100.00%, Valid: 69.60% Test: 69.80%\n",
            "Sampled 565 nodes, 458 edges, 140 labeled nodes\n",
            "Epoch: 18, Loss: 0.0330, Train: 100.00%, Valid: 69.40% Test: 69.70%\n",
            "Sampled 545 nodes, 433 edges, 140 labeled nodes\n",
            "Epoch: 19, Loss: 0.0143, Train: 100.00%, Valid: 69.40% Test: 70.00%\n",
            "Sampled 569 nodes, 469 edges, 140 labeled nodes\n",
            "Epoch: 20, Loss: 0.0144, Train: 100.00%, Valid: 69.40% Test: 69.60%\n",
            "Sampled 553 nodes, 462 edges, 140 labeled nodes\n",
            "Epoch: 21, Loss: 0.0456, Train: 100.00%, Valid: 69.60% Test: 69.70%\n",
            "Sampled 476 nodes, 359 edges, 140 labeled nodes\n",
            "Epoch: 22, Loss: 0.0087, Train: 100.00%, Valid: 69.80% Test: 69.70%\n",
            "Sampled 557 nodes, 470 edges, 140 labeled nodes\n",
            "Epoch: 23, Loss: 0.0232, Train: 100.00%, Valid: 70.20% Test: 69.90%\n",
            "Sampled 594 nodes, 523 edges, 140 labeled nodes\n",
            "Epoch: 24, Loss: 0.0119, Train: 100.00%, Valid: 70.20% Test: 70.10%\n",
            "Sampled 570 nodes, 469 edges, 140 labeled nodes\n",
            "Epoch: 25, Loss: 0.0104, Train: 100.00%, Valid: 70.40% Test: 69.70%\n",
            "Sampled 563 nodes, 438 edges, 140 labeled nodes\n",
            "Epoch: 26, Loss: 0.0071, Train: 100.00%, Valid: 69.60% Test: 69.30%\n",
            "Sampled 515 nodes, 415 edges, 140 labeled nodes\n",
            "Epoch: 27, Loss: 0.0086, Train: 100.00%, Valid: 69.00% Test: 69.30%\n",
            "Sampled 553 nodes, 455 edges, 140 labeled nodes\n",
            "Epoch: 28, Loss: 0.0120, Train: 100.00%, Valid: 69.00% Test: 69.50%\n",
            "Sampled 538 nodes, 420 edges, 140 labeled nodes\n",
            "Epoch: 29, Loss: 0.0192, Train: 100.00%, Valid: 69.00% Test: 69.60%\n",
            "Sampled 563 nodes, 446 edges, 140 labeled nodes\n",
            "Epoch: 30, Loss: 0.0138, Train: 100.00%, Valid: 69.00% Test: 69.60%\n",
            "Sampled 603 nodes, 540 edges, 140 labeled nodes\n",
            "Epoch: 31, Loss: 0.0084, Train: 100.00%, Valid: 69.00% Test: 69.80%\n",
            "Sampled 551 nodes, 477 edges, 140 labeled nodes\n",
            "Epoch: 32, Loss: 0.0123, Train: 100.00%, Valid: 68.80% Test: 69.80%\n",
            "Sampled 552 nodes, 458 edges, 140 labeled nodes\n",
            "Epoch: 33, Loss: 0.0140, Train: 100.00%, Valid: 69.00% Test: 70.10%\n",
            "Sampled 503 nodes, 418 edges, 140 labeled nodes\n",
            "Epoch: 34, Loss: 0.0018, Train: 100.00%, Valid: 69.00% Test: 70.10%\n",
            "Sampled 529 nodes, 426 edges, 140 labeled nodes\n",
            "Epoch: 35, Loss: 0.0093, Train: 100.00%, Valid: 68.80% Test: 69.90%\n",
            "Sampled 543 nodes, 440 edges, 140 labeled nodes\n",
            "Epoch: 36, Loss: 0.0036, Train: 100.00%, Valid: 68.60% Test: 69.60%\n",
            "Sampled 505 nodes, 392 edges, 140 labeled nodes\n",
            "Epoch: 37, Loss: 0.0045, Train: 100.00%, Valid: 68.60% Test: 69.50%\n",
            "Sampled 576 nodes, 483 edges, 140 labeled nodes\n",
            "Epoch: 38, Loss: 0.0081, Train: 100.00%, Valid: 69.00% Test: 69.70%\n",
            "Sampled 593 nodes, 505 edges, 140 labeled nodes\n",
            "Epoch: 39, Loss: 0.0024, Train: 100.00%, Valid: 68.80% Test: 69.60%\n",
            "Sampled 560 nodes, 469 edges, 140 labeled nodes\n",
            "Epoch: 40, Loss: 0.0023, Train: 100.00%, Valid: 69.20% Test: 69.50%\n",
            "Sampled 492 nodes, 371 edges, 140 labeled nodes\n",
            "Epoch: 41, Loss: 0.0021, Train: 100.00%, Valid: 69.40% Test: 69.60%\n",
            "Sampled 515 nodes, 428 edges, 140 labeled nodes\n",
            "Epoch: 42, Loss: 0.0015, Train: 100.00%, Valid: 69.40% Test: 69.50%\n",
            "Sampled 534 nodes, 429 edges, 140 labeled nodes\n",
            "Epoch: 43, Loss: 0.0023, Train: 100.00%, Valid: 69.40% Test: 69.60%\n",
            "Sampled 605 nodes, 534 edges, 140 labeled nodes\n",
            "Epoch: 44, Loss: 0.0012, Train: 100.00%, Valid: 69.40% Test: 69.60%\n",
            "Sampled 588 nodes, 487 edges, 140 labeled nodes\n",
            "Epoch: 45, Loss: 0.0024, Train: 100.00%, Valid: 69.60% Test: 69.70%\n",
            "Sampled 543 nodes, 446 edges, 140 labeled nodes\n",
            "Epoch: 46, Loss: 0.0019, Train: 100.00%, Valid: 70.00% Test: 69.70%\n",
            "Sampled 496 nodes, 374 edges, 140 labeled nodes\n",
            "Epoch: 47, Loss: 0.0033, Train: 100.00%, Valid: 69.60% Test: 69.60%\n",
            "Sampled 567 nodes, 453 edges, 140 labeled nodes\n",
            "Epoch: 48, Loss: 0.0072, Train: 100.00%, Valid: 69.80% Test: 69.30%\n",
            "Sampled 577 nodes, 491 edges, 140 labeled nodes\n",
            "Epoch: 49, Loss: 0.0033, Train: 100.00%, Valid: 70.00% Test: 69.30%\n",
            "Sampled 585 nodes, 483 edges, 140 labeled nodes\n",
            "Epoch: 50, Loss: 0.0035, Train: 100.00%, Valid: 69.60% Test: 69.40%\n",
            "Saving Model Predictions for Model: batch (0.3,0.5,1)\n",
            "Best model: Train: 100.00%, Valid: 70.40% Test: 69.70%\n"
          ]
        }
      ],
      "source": [
        "if 'IS_GRADESCOPE_ENV' not in os.environ:\n",
        "\n",
        "  set_seed()\n",
        "\n",
        "  # Change the ratio to 0.3\n",
        "  args['ratios'] = (0.3, 0.5, 1)\n",
        "\n",
        "  graphs_train, graphs_val, graphs_test = \\\n",
        "      GraphDataset.pyg_to_graphs(pyg_dataset, verbose=True, fixed_split=True)\n",
        "\n",
        "  graph_train = graphs_train[0]\n",
        "  graph_val = graphs_val[0]\n",
        "  graph_test = graphs_test[0]\n",
        "\n",
        "  model = GNN(graph_train.num_node_features, args['hidden_size'], graph_train.num_node_labels, args).to(args['device'])\n",
        "\n",
        "  # Disable compile as this does not seem to work yet in PyTorch 2.0.1/PyG 2.3.1\n",
        "  # try:\n",
        "  #   model = torch_geometric.compile(model)\n",
        "  #   print(f\"GNN Model compiled\")\n",
        "  # except Exception as err:\n",
        "  #   print(f\"Model compile not supported: {err}\")\n",
        "\n",
        "  optimizer = torch.optim.Adam(model.parameters(), lr=args['lr'])\n",
        "  graphs = [graph_train, graph_val, graph_test]\n",
        "  batch_best_model, batch_accs_1 = train(graphs, graphs, args, model, optimizer)\n",
        "  train_acc, val_acc, test_acc = test([graph_train, graph_val, graph_test], batch_best_model, save_model_results=True, batch_type=\"batch\", title=\"(0.3,0.5,1)\")\n",
        "  print('Best model:',\n",
        "        f'Train: {100 * train_acc:.2f}%, '\n",
        "        f'Valid: {100 * val_acc:.2f}% '\n",
        "        f'Test: {100 * test_acc:.2f}%')"
      ]
    },
    {
      "cell_type": "markdown",
      "metadata": {
        "id": "EePAvNlGUM2K"
      },
      "source": [
        "## Visualization"
      ]
    },
    {
      "cell_type": "code",
      "execution_count": 29,
      "metadata": {
        "colab": {
          "base_uri": "https://localhost:8080/",
          "height": 641
        },
        "id": "7etNAkXAT55d",
        "outputId": "7fb1e46a-42d8-47ca-97e3-4392ecff3931"
      },
      "outputs": [
        {
          "output_type": "display_data",
          "data": {
            "text/plain": [
              "<Figure size 900x700 with 1 Axes>"
            ],
            "image/png": "[encoded data removed]"
          },
          "metadata": {}
        }
      ],
      "source": [
        "import numpy as np\n",
        "from matplotlib import pyplot as plt\n",
        "\n",
        "if 'IS_GRADESCOPE_ENV' not in os.environ:\n",
        "  batch_results = np.array(batch_accs)\n",
        "  batch_results_1 = np.array(batch_accs_1)\n",
        "  all_results = np.array(all_accs)\n",
        "\n",
        "  x = np.arange(1, 51)\n",
        "\n",
        "  plt.figure(figsize=(9, 7))\n",
        "\n",
        "  plt.plot(x, batch_results[:, 0], label=\"Batch 0.8 Train\")\n",
        "  plt.plot(x, batch_results[:, 1], label=\"Batch 0.8 Validation\")\n",
        "  plt.plot(x, batch_results[:, 2], label=\"Batch 0.8 Test\")\n",
        "  plt.plot(x, batch_results_1[:, 0], label=\"Batch 0.3 Train\")\n",
        "  plt.plot(x, batch_results_1[:, 1], label=\"Batch 0.3 Validation\")\n",
        "  plt.plot(x, batch_results_1[:, 2], label=\"Batch 0.3 Test\")\n",
        "  plt.plot(x, all_results[:, 0], label=\"All Train\")\n",
        "  plt.plot(x, all_results[:, 1], label=\"All Validation\")\n",
        "  plt.plot(x, all_results[:, 2], label=\"All Test\")\n",
        "  plt.title('Model Accuracy')\n",
        "  plt.ylabel('Accuracy')\n",
        "  plt.xlabel('Epoch')\n",
        "  plt.legend()\n",
        "  plt.show()"
      ]
    },
    {
      "cell_type": "markdown",
      "metadata": {
        "id": "bkA7-0groq7q"
      },
      "source": [
        "**NOTE:** We always evaluate accuracy in full-batch mode. Namely, only during training do we use neighborhood sub-sampling. We do this for a couple reason: 1) fairness of comparison, 2) we worry most about computational cost during training as compared to evaluation, and 3) during the inference phase we want to leverage as much neighborhood information as possible!  "
      ]
    },
    {
      "cell_type": "markdown",
      "metadata": {
        "id": "Iee0U8KGURc8"
      },
      "source": [
        "# 2) Cluster Sampling\n",
        "\n",
        "As discussed in Module 7.2, we can also use subgraph (cluster) sampling to scale up GNN. Specifically, we will explore the methods proposed in Cluster-GCN ([Chiang et al. (2019)](https://arxiv.org/abs/1905.07953)), where we break our graph into smaller subgraphs to avoid the computational cost of training on the entire graph at once.\n",
        "\n",
        "In this final section, we will implement a vanilla Cluster-GCN and experiment with 3 different community partition algorithms.\n",
        "\n",
        "**NOTE:** the code in this section requires that you have run the `Setup`, `GNN Model` and `Training and Testing` cells of section 2."
      ]
    },
    {
      "cell_type": "markdown",
      "metadata": {
        "id": "_BXjP79gUYir"
      },
      "source": [
        "## Setup"
      ]
    },
    {
      "cell_type": "code",
      "execution_count": 30,
      "metadata": {
        "id": "UGQ_VKp8UOEm"
      },
      "outputs": [],
      "source": [
        "import copy\n",
        "import torch\n",
        "import random\n",
        "import numpy as np\n",
        "import networkx as nx\n",
        "import torch.nn as nn\n",
        "import pandas as pd\n",
        "import torch.nn.functional as F\n",
        "import community.community_louvain as community_louvain\n",
        "\n",
        "from torch_geometric.nn import SAGEConv\n",
        "from torch.utils.data import DataLoader\n",
        "from torch_geometric.datasets import Planetoid\n",
        "from torch.nn import Sequential, Linear, ReLU\n",
        "from deepsnap.dataset import GraphDataset\n",
        "from deepsnap.graph import Graph\n",
        "\n",
        "if 'IS_GRADESCOPE_ENV' not in os.environ:\n",
        "  pyg_dataset = Planetoid('./tmp', \"Cora\")"
      ]
    },
    {
      "cell_type": "code",
      "execution_count": 31,
      "metadata": {
        "id": "bzMatyCSUaB6"
      },
      "outputs": [],
      "source": [
        "args = {\n",
        "    'device': torch.device('cuda' if torch.cuda.is_available() else 'cpu'),\n",
        "    'dropout': 0.5,\n",
        "    'num_layers': 2,\n",
        "    'hidden_size': 64,\n",
        "    'lr': 0.005,\n",
        "    'epochs': 150,\n",
        "}"
      ]
    },
    {
      "cell_type": "markdown",
      "metadata": {
        "id": "ekV-sokSUeLc"
      },
      "source": [
        "## Partitioning the Graph into Clusters\n",
        "\n",
        "We will experiment with three community detection / partition algorithms to partition our graph into different clusters:\n",
        "* [Kernighan–Lin algorithm (bisection)](https://networkx.org/documentation/stable/reference/algorithms/generated/networkx.algorithms.community.kernighan_lin.kernighan_lin_bisection.html)\n",
        "* [Clauset-Newman-Moore greedy modularity maximization](https://networkx.org/documentation/stable/reference/algorithms/generated/networkx.algorithms.community.modularity_max.greedy_modularity_communities.html#networkx.algorithms.community.modularity_max.greedy_modularity_communities)\n",
        "* [Louvain algorithm](https://python-louvain.readthedocs.io/en/latest/api.html)\n",
        "\n",
        "\n",
        "As a preprocessing step, we partition our graph into a list of seperate subgraphs using one of the three communitiy detection algorithms above. Then during training we iteratively train our vanilla Cluster-GNN model on a randomly selected subgraph, rather than on over the entire graph at once. To make training more stable, we discard any communities that have less than 10 nodes.\n",
        "\n",
        "Let's begin by defining the three partition algorithms."
      ]
    },
    {
      "cell_type": "code",
      "execution_count": 59,
      "metadata": {
        "id": "N8XeT005UcKh"
      },
      "outputs": [],
      "source": [
        "def partition(G, method=\"louvain\"):\n",
        "    # TODO: Implement a function that takes a Networkx graph G and\n",
        "    # partitions the graph into communities using the specified graph\n",
        "    # partition algorithm.\n",
        "    #\n",
        "    # Return: A list of sets of nodes, one for each community!\n",
        "\n",
        "    communities = None\n",
        "\n",
        "    if method == \"louvain\":\n",
        "        ############# Your code here #############\n",
        "        ## (~9 line of code)\n",
        "        ## Note:\n",
        "        ## 1. Find a community mapping corresponding to the partition of the\n",
        "        ##    graph nodes which maximizes the modularity for the Louvain algorithm.\n",
        "        ##    Set your resolution to 10.\n",
        "        ## 2. Create a mapping of communities to a set of member nodes.\n",
        "        ## 3. Extract the node sets from each community and return\n",
        "        ##    as a list of sets.\n",
        "        ##    Hint: Perhaps a dictionary structure can assist.\n",
        "        ## 4. SET random_state = 8\n",
        "        nodes_map = community_louvain.best_partition(G, resolution=10, random_state=8) # dict w nodes as keys and community as values\n",
        "        communities_map = {}\n",
        "        for community in set(nodes_map.values()):\n",
        "          communities_map[community]=set()\n",
        "        for node in nodes_map:\n",
        "          communities_map[nodes_map[node]].add(node)\n",
        "        # print(\"Communities: \", len(communities_map))\n",
        "        # print(communities_map)\n",
        "        communities = list(communities_map.values())\n",
        "        ##########################################\n",
        "    elif method == \"bisection\":\n",
        "        ############# Your code here #############\n",
        "        ## (~1 line of code)\n",
        "        ## Note:\n",
        "        ## 1. The Kernigan-Lin algorithm ensures that nodes are partitioned into two\n",
        "        ##    primary communities.\n",
        "        ## 2. Ensure that the resultant data structure is consistent with expected\n",
        "        ##    output.\n",
        "        ## 3. SET seed = 8\n",
        "        communities = nx.algorithms.community.kernighan_lin_bisection(G, seed=8)\n",
        "        ##########################################\n",
        "    elif method == \"greedy\":\n",
        "        ############# Your code here #############\n",
        "        ## (~1 line of code)\n",
        "        ## Note:\n",
        "        ## 1. Clauset-Newman-Moore greedy modularity maximization joins pair\n",
        "        ##    of communities nodes that most increases modularity until no such\n",
        "        ##    pair exists.\n",
        "        communities = nx.community.greedy_modularity_communities(G)\n",
        "        ##########################################\n",
        "\n",
        "    return communities\n",
        "\n",
        "\n",
        "def preprocess(G, node_label_index, method=\"louvain\"):\n",
        "    graphs = []\n",
        "    labeled_nodes = set(node_label_index.tolist())\n",
        "    communities = partition(G, method)\n",
        "    for community in communities:\n",
        "        nodes = set(community)\n",
        "        subgraph = G.subgraph(nodes)\n",
        "        # Make sure each subgraph has more than 10 nodes\n",
        "        if subgraph.number_of_nodes() > 10:\n",
        "            node_mapping = {node : i for i, node in enumerate(subgraph.nodes())}\n",
        "            subgraph = nx.relabel_nodes(subgraph, node_mapping)\n",
        "            # Get the id of the training set labeled node in the new graph\n",
        "            train_label_index = []\n",
        "            for node in labeled_nodes:\n",
        "                if node in node_mapping:\n",
        "                    # Append relabeled labeled node index\n",
        "                    train_label_index.append(node_mapping[node])\n",
        "\n",
        "            # Make sure the subgraph contains at least one training set labeled node\n",
        "            if len(train_label_index) > 0:\n",
        "                dg = Graph(subgraph)\n",
        "                # Update node_label_index\n",
        "                dg.node_label_index = torch.tensor(train_label_index, dtype=torch.long)\n",
        "                graphs.append(dg)\n",
        "    return graphs"
      ]
    },
    {
      "cell_type": "markdown",
      "metadata": {
        "id": "YKrUdkhC1-A3"
      },
      "source": [
        "## Experimenting with different graph partition algorithms\n",
        "\n",
        "We will now experiment with the three graph partition algorithms, using the resulting graph clusters to train our vanilla Cluster-GNN. We will first observe how each parition algorithm partitions the original graph. Then we will compare the perfomance of our vanilla Cluster-GNN trained using the different graph clustering techniques. Lastly, we will compare against training a vanilla GCN over the entire graph (refered to as Full-Batch training).  "
      ]
    },
    {
      "cell_type": "markdown",
      "metadata": {
        "id": "7CYEamCAU-TJ"
      },
      "source": [
        "## **Question 2.1a:** How does the Louvain algorithm partition our graph? (3 points)\n"
      ]
    },
    {
      "cell_type": "code",
      "execution_count": 60,
      "metadata": {
        "colab": {
          "base_uri": "https://localhost:8080/"
        },
        "id": "-TrC6ybWU7eO",
        "outputId": "9fdfd3ba-6179-4ce4-874d-f6494a296966"
      },
      "outputs": [
        {
          "output_type": "stream",
          "name": "stdout",
          "text": [
            "Index fields: val_mask ignored.\n",
            "Index fields: train_mask ignored.\n",
            "Index fields: test_mask ignored.\n",
            "\n",
            "Partitioning the graph in to 77 communities\n",
            "Each community has 21 nodes in average\n",
            "Each community has 30 edges in average\n"
          ]
        }
      ],
      "source": [
        "if 'IS_GRADESCOPE_ENV' not in os.environ:\n",
        "\n",
        "  set_seed()\n",
        "\n",
        "  graphs_train, graphs_val, graphs_test = \\\n",
        "      GraphDataset.pyg_to_graphs(pyg_dataset, verbose=True, fixed_split=True)\n",
        "\n",
        "  graph_train = graphs_train[0]\n",
        "  graph_val = graphs_val[0]\n",
        "  graph_test = graphs_test[0]\n",
        "  graphs = preprocess(graph_train.G, graph_train.node_label_index, method=\"louvain\")\n",
        "  print()\n",
        "  print(\"Partitioning the graph in to {} communities\".format(len(graphs)))\n",
        "  avg_num_nodes = 0\n",
        "  avg_num_edges = 0\n",
        "  for graph in graphs:\n",
        "      avg_num_nodes += graph.num_nodes\n",
        "      avg_num_edges += graph.num_edges\n",
        "  avg_num_nodes = int(avg_num_nodes / len(graphs))\n",
        "  avg_num_edges = int(avg_num_edges / len(graphs))\n",
        "  print(\"Each community has {} nodes in average\".format(avg_num_nodes))\n",
        "  print(\"Each community has {} edges in average\".format(avg_num_edges))"
      ]
    },
    {
      "cell_type": "markdown",
      "metadata": {
        "id": "O03uXIuGVIgJ"
      },
      "source": [
        "## **Question 2.1b:** Using Louvain clustering, what is the maximum test accuracy obtained by your vanilla Cluster-GCN? (6 points)\n"
      ]
    },
    {
      "cell_type": "code",
      "execution_count": 61,
      "metadata": {
        "colab": {
          "base_uri": "https://localhost:8080/"
        },
        "id": "iSbGf5ADVFQq",
        "outputId": "48bdf5d4-4280-4d80-f662-3bf9cbb0f8cb"
      },
      "outputs": [
        {
          "output_type": "stream",
          "name": "stdout",
          "text": [
            "Epoch: 01, Loss: 2.3312, Train: 13.57%, Valid: 8.00% Test: 9.40%\n",
            "Epoch: 02, Loss: 1.7699, Train: 20.71%, Valid: 8.40% Test: 11.90%\n",
            "Epoch: 03, Loss: 1.9551, Train: 20.00%, Valid: 9.80% Test: 12.50%\n",
            "Epoch: 04, Loss: 1.3844, Train: 17.86%, Valid: 10.00% Test: 12.40%\n",
            "Epoch: 05, Loss: 3.1564, Train: 17.86%, Valid: 10.20% Test: 13.10%\n",
            "Epoch: 06, Loss: 2.4857, Train: 17.14%, Valid: 11.80% Test: 14.00%\n",
            "Epoch: 07, Loss: 3.5326, Train: 18.57%, Valid: 10.80% Test: 13.10%\n",
            "Epoch: 08, Loss: 2.3947, Train: 19.29%, Valid: 11.20% Test: 13.60%\n",
            "Epoch: 09, Loss: 2.6751, Train: 19.29%, Valid: 12.60% Test: 14.20%\n",
            "Epoch: 10, Loss: 1.9691, Train: 21.43%, Valid: 12.20% Test: 14.80%\n",
            "Epoch: 11, Loss: 2.2476, Train: 22.14%, Valid: 12.60% Test: 14.30%\n",
            "Epoch: 12, Loss: 2.1253, Train: 23.57%, Valid: 12.20% Test: 12.90%\n",
            "Epoch: 13, Loss: 1.6954, Train: 20.71%, Valid: 10.60% Test: 12.10%\n",
            "Epoch: 14, Loss: 1.9079, Train: 21.43%, Valid: 8.40% Test: 10.30%\n",
            "Epoch: 15, Loss: 3.8391, Train: 22.14%, Valid: 7.40% Test: 9.40%\n",
            "Epoch: 16, Loss: 2.3282, Train: 19.29%, Valid: 10.40% Test: 11.20%\n",
            "Epoch: 17, Loss: 1.0593, Train: 17.14%, Valid: 10.00% Test: 11.30%\n",
            "Epoch: 18, Loss: 3.1708, Train: 17.14%, Valid: 11.00% Test: 11.20%\n",
            "Epoch: 19, Loss: 2.0028, Train: 20.71%, Valid: 12.20% Test: 10.90%\n",
            "Epoch: 20, Loss: 0.2539, Train: 20.71%, Valid: 14.00% Test: 12.70%\n",
            "Epoch: 21, Loss: 1.3201, Train: 23.57%, Valid: 15.60% Test: 13.60%\n",
            "Epoch: 22, Loss: 0.3067, Train: 25.00%, Valid: 18.20% Test: 18.20%\n",
            "Epoch: 23, Loss: 2.1886, Train: 25.00%, Valid: 19.20% Test: 20.20%\n",
            "Epoch: 24, Loss: 1.8806, Train: 28.57%, Valid: 18.80% Test: 20.40%\n",
            "Epoch: 25, Loss: 1.3337, Train: 26.43%, Valid: 19.60% Test: 18.30%\n",
            "Epoch: 26, Loss: 0.8125, Train: 24.29%, Valid: 17.60% Test: 16.20%\n",
            "Epoch: 27, Loss: 2.2049, Train: 25.00%, Valid: 17.20% Test: 16.20%\n",
            "Epoch: 28, Loss: 0.2865, Train: 24.29%, Valid: 16.80% Test: 16.20%\n",
            "Epoch: 29, Loss: 0.2709, Train: 26.43%, Valid: 16.40% Test: 14.70%\n",
            "Epoch: 30, Loss: 2.6792, Train: 25.71%, Valid: 15.80% Test: 14.40%\n",
            "Epoch: 31, Loss: 1.7347, Train: 24.29%, Valid: 14.00% Test: 12.60%\n",
            "Epoch: 32, Loss: 1.7511, Train: 25.00%, Valid: 13.20% Test: 12.70%\n",
            "Epoch: 33, Loss: 1.1060, Train: 24.29%, Valid: 13.80% Test: 13.20%\n",
            "Epoch: 34, Loss: 3.3689, Train: 25.00%, Valid: 13.20% Test: 12.60%\n",
            "Epoch: 35, Loss: 1.8874, Train: 25.00%, Valid: 13.20% Test: 12.20%\n",
            "Epoch: 36, Loss: 1.2984, Train: 25.00%, Valid: 12.80% Test: 11.30%\n",
            "Epoch: 37, Loss: 2.9118, Train: 25.71%, Valid: 12.40% Test: 11.90%\n",
            "Epoch: 38, Loss: 0.8713, Train: 25.00%, Valid: 12.20% Test: 11.90%\n",
            "Epoch: 39, Loss: 1.7513, Train: 23.57%, Valid: 13.20% Test: 11.60%\n",
            "Epoch: 40, Loss: 0.8641, Train: 24.29%, Valid: 13.60% Test: 13.30%\n",
            "Epoch: 41, Loss: 2.3645, Train: 25.71%, Valid: 14.80% Test: 14.30%\n",
            "Epoch: 42, Loss: 3.2156, Train: 27.86%, Valid: 15.00% Test: 15.30%\n",
            "Epoch: 43, Loss: 3.0307, Train: 28.57%, Valid: 14.80% Test: 15.10%\n",
            "Epoch: 44, Loss: 2.4558, Train: 27.86%, Valid: 15.60% Test: 15.40%\n",
            "Epoch: 45, Loss: 2.6165, Train: 32.14%, Valid: 15.00% Test: 15.80%\n",
            "Epoch: 46, Loss: 1.6810, Train: 33.57%, Valid: 14.00% Test: 14.90%\n",
            "Epoch: 47, Loss: 1.8618, Train: 32.14%, Valid: 12.60% Test: 14.40%\n",
            "Epoch: 48, Loss: 5.3364, Train: 30.71%, Valid: 12.40% Test: 13.20%\n",
            "Epoch: 49, Loss: 1.8726, Train: 28.57%, Valid: 13.20% Test: 11.70%\n",
            "Epoch: 50, Loss: 0.0143, Train: 32.14%, Valid: 13.00% Test: 10.70%\n",
            "Epoch: 51, Loss: 1.1074, Train: 30.00%, Valid: 12.20% Test: 10.70%\n",
            "Epoch: 52, Loss: 2.4491, Train: 30.71%, Valid: 11.40% Test: 9.40%\n",
            "Epoch: 53, Loss: 1.0050, Train: 31.43%, Valid: 9.00% Test: 8.60%\n",
            "Epoch: 54, Loss: 2.0338, Train: 32.14%, Valid: 7.80% Test: 8.20%\n",
            "Epoch: 55, Loss: 0.3596, Train: 32.14%, Valid: 7.60% Test: 8.20%\n",
            "Epoch: 56, Loss: 0.2222, Train: 32.86%, Valid: 6.80% Test: 8.30%\n",
            "Epoch: 57, Loss: 0.9451, Train: 32.14%, Valid: 7.40% Test: 7.90%\n",
            "Epoch: 58, Loss: 0.0023, Train: 33.57%, Valid: 7.60% Test: 8.40%\n",
            "Epoch: 59, Loss: 0.2551, Train: 33.57%, Valid: 7.80% Test: 8.40%\n",
            "Epoch: 60, Loss: 3.2913, Train: 30.71%, Valid: 7.80% Test: 8.30%\n",
            "Epoch: 61, Loss: 0.6483, Train: 32.14%, Valid: 8.20% Test: 8.90%\n",
            "Epoch: 62, Loss: 1.7928, Train: 32.14%, Valid: 8.60% Test: 8.90%\n",
            "Epoch: 63, Loss: 3.1310, Train: 34.29%, Valid: 8.40% Test: 9.20%\n",
            "Epoch: 64, Loss: 0.3734, Train: 32.86%, Valid: 9.00% Test: 9.80%\n",
            "Epoch: 65, Loss: 2.1783, Train: 34.29%, Valid: 10.60% Test: 10.70%\n",
            "Epoch: 66, Loss: 0.5478, Train: 32.86%, Valid: 11.20% Test: 11.50%\n",
            "Epoch: 67, Loss: 2.6760, Train: 34.29%, Valid: 11.00% Test: 11.70%\n",
            "Epoch: 68, Loss: 0.4857, Train: 36.43%, Valid: 10.00% Test: 11.30%\n",
            "Epoch: 69, Loss: 0.4079, Train: 36.43%, Valid: 10.00% Test: 11.70%\n",
            "Epoch: 70, Loss: 2.6447, Train: 37.86%, Valid: 11.20% Test: 12.00%\n",
            "Epoch: 71, Loss: 3.3266, Train: 39.29%, Valid: 12.20% Test: 12.40%\n",
            "Epoch: 72, Loss: 0.0267, Train: 40.00%, Valid: 12.80% Test: 13.80%\n",
            "Epoch: 73, Loss: 0.7661, Train: 40.71%, Valid: 13.40% Test: 15.50%\n",
            "Epoch: 74, Loss: 0.0722, Train: 44.29%, Valid: 13.80% Test: 16.40%\n",
            "Epoch: 75, Loss: 2.8689, Train: 45.71%, Valid: 15.00% Test: 17.60%\n",
            "Epoch: 76, Loss: 0.0033, Train: 43.57%, Valid: 15.80% Test: 19.10%\n",
            "Epoch: 77, Loss: 0.6413, Train: 44.29%, Valid: 15.60% Test: 19.10%\n",
            "Epoch: 78, Loss: 0.1365, Train: 44.29%, Valid: 16.00% Test: 20.30%\n",
            "Epoch: 79, Loss: 2.7598, Train: 43.57%, Valid: 16.20% Test: 19.90%\n",
            "Epoch: 80, Loss: 0.2608, Train: 43.57%, Valid: 16.80% Test: 21.30%\n",
            "Epoch: 81, Loss: 2.1817, Train: 42.86%, Valid: 18.60% Test: 21.20%\n",
            "Epoch: 82, Loss: 3.0511, Train: 45.00%, Valid: 18.60% Test: 20.90%\n",
            "Epoch: 83, Loss: 1.0971, Train: 46.43%, Valid: 19.20% Test: 21.00%\n",
            "Epoch: 84, Loss: 0.8612, Train: 47.86%, Valid: 18.80% Test: 21.30%\n",
            "Epoch: 85, Loss: 0.2564, Train: 48.57%, Valid: 19.20% Test: 21.00%\n",
            "Epoch: 86, Loss: 0.4591, Train: 48.57%, Valid: 18.80% Test: 20.40%\n",
            "Epoch: 87, Loss: 0.2419, Train: 48.57%, Valid: 19.00% Test: 20.00%\n",
            "Epoch: 88, Loss: 0.2149, Train: 47.14%, Valid: 18.40% Test: 20.80%\n",
            "Epoch: 89, Loss: 0.8685, Train: 47.14%, Valid: 18.60% Test: 21.10%\n",
            "Epoch: 90, Loss: 0.8801, Train: 47.14%, Valid: 19.60% Test: 21.50%\n",
            "Epoch: 91, Loss: 0.1170, Train: 48.57%, Valid: 19.00% Test: 20.30%\n",
            "Epoch: 92, Loss: 0.1261, Train: 47.14%, Valid: 19.40% Test: 20.10%\n",
            "Epoch: 93, Loss: 0.5811, Train: 45.71%, Valid: 17.40% Test: 19.30%\n",
            "Epoch: 94, Loss: 2.3901, Train: 47.86%, Valid: 17.40% Test: 19.80%\n",
            "Epoch: 95, Loss: 8.3597, Train: 47.86%, Valid: 16.80% Test: 19.30%\n",
            "Epoch: 96, Loss: 0.2237, Train: 46.43%, Valid: 18.00% Test: 21.00%\n",
            "Epoch: 97, Loss: 0.6423, Train: 46.43%, Valid: 18.20% Test: 20.50%\n",
            "Epoch: 98, Loss: 2.7117, Train: 47.14%, Valid: 17.40% Test: 19.60%\n",
            "Epoch: 99, Loss: 1.9898, Train: 47.86%, Valid: 17.60% Test: 18.90%\n",
            "Epoch: 100, Loss: 1.9274, Train: 49.29%, Valid: 16.00% Test: 17.60%\n",
            "Epoch: 101, Loss: 2.3965, Train: 50.00%, Valid: 15.00% Test: 16.50%\n",
            "Epoch: 102, Loss: 0.0362, Train: 46.43%, Valid: 14.20% Test: 14.50%\n",
            "Epoch: 103, Loss: 0.2814, Train: 49.29%, Valid: 12.60% Test: 14.00%\n",
            "Epoch: 104, Loss: 0.1300, Train: 47.14%, Valid: 12.00% Test: 12.50%\n",
            "Epoch: 105, Loss: 1.1211, Train: 47.86%, Valid: 11.80% Test: 12.60%\n",
            "Epoch: 106, Loss: 0.4250, Train: 47.14%, Valid: 11.40% Test: 12.10%\n",
            "Epoch: 107, Loss: 0.0047, Train: 44.29%, Valid: 10.00% Test: 10.60%\n",
            "Epoch: 108, Loss: 2.3600, Train: 45.00%, Valid: 9.80% Test: 9.80%\n",
            "Epoch: 109, Loss: 0.0151, Train: 46.43%, Valid: 9.20% Test: 10.20%\n",
            "Epoch: 110, Loss: 0.2899, Train: 47.14%, Valid: 10.40% Test: 10.80%\n",
            "Epoch: 111, Loss: 1.6493, Train: 47.14%, Valid: 11.60% Test: 12.50%\n",
            "Epoch: 112, Loss: 1.2300, Train: 47.86%, Valid: 12.80% Test: 13.90%\n",
            "Epoch: 113, Loss: 0.4323, Train: 49.29%, Valid: 13.60% Test: 14.40%\n",
            "Epoch: 114, Loss: 0.2442, Train: 47.14%, Valid: 14.80% Test: 14.90%\n",
            "Epoch: 115, Loss: 2.3451, Train: 47.86%, Valid: 15.60% Test: 15.70%\n",
            "Epoch: 116, Loss: 1.4139, Train: 49.29%, Valid: 15.40% Test: 16.30%\n",
            "Epoch: 117, Loss: 0.2656, Train: 48.57%, Valid: 15.20% Test: 16.70%\n",
            "Epoch: 118, Loss: 2.2953, Train: 49.29%, Valid: 14.60% Test: 16.70%\n",
            "Epoch: 119, Loss: 2.0563, Train: 50.71%, Valid: 14.60% Test: 15.80%\n",
            "Epoch: 120, Loss: 1.7947, Train: 54.29%, Valid: 15.00% Test: 17.10%\n",
            "Epoch: 121, Loss: 2.4914, Train: 55.00%, Valid: 15.40% Test: 17.40%\n",
            "Epoch: 122, Loss: 2.5499, Train: 56.43%, Valid: 16.00% Test: 17.60%\n",
            "Epoch: 123, Loss: 0.4025, Train: 56.43%, Valid: 15.40% Test: 17.30%\n",
            "Epoch: 124, Loss: 0.4360, Train: 54.29%, Valid: 15.20% Test: 17.40%\n",
            "Epoch: 125, Loss: 0.7640, Train: 56.43%, Valid: 15.00% Test: 16.70%\n",
            "Epoch: 126, Loss: 0.0438, Train: 55.71%, Valid: 14.80% Test: 17.20%\n",
            "Epoch: 127, Loss: 0.1889, Train: 56.43%, Valid: 15.40% Test: 16.10%\n",
            "Epoch: 128, Loss: 2.2236, Train: 55.71%, Valid: 15.40% Test: 17.10%\n",
            "Epoch: 129, Loss: 4.7909, Train: 57.86%, Valid: 16.00% Test: 18.00%\n",
            "Epoch: 130, Loss: 0.1273, Train: 57.14%, Valid: 16.40% Test: 18.60%\n",
            "Epoch: 131, Loss: 1.0693, Train: 56.43%, Valid: 16.60% Test: 19.10%\n",
            "Epoch: 132, Loss: 1.0980, Train: 55.71%, Valid: 17.20% Test: 17.50%\n",
            "Epoch: 133, Loss: 0.6788, Train: 55.71%, Valid: 17.20% Test: 18.00%\n",
            "Epoch: 134, Loss: 1.1585, Train: 55.00%, Valid: 17.40% Test: 18.20%\n",
            "Epoch: 135, Loss: 0.0313, Train: 53.57%, Valid: 17.00% Test: 18.90%\n",
            "Epoch: 136, Loss: 0.6601, Train: 55.71%, Valid: 17.80% Test: 20.00%\n",
            "Epoch: 137, Loss: 2.0141, Train: 55.71%, Valid: 17.40% Test: 20.10%\n",
            "Epoch: 138, Loss: 1.3504, Train: 57.86%, Valid: 16.20% Test: 18.60%\n",
            "Epoch: 139, Loss: 0.0375, Train: 56.43%, Valid: 16.60% Test: 17.70%\n",
            "Epoch: 140, Loss: 0.2573, Train: 55.00%, Valid: 15.80% Test: 16.40%\n",
            "Epoch: 141, Loss: 0.2382, Train: 53.57%, Valid: 14.60% Test: 17.30%\n",
            "Epoch: 142, Loss: 0.7805, Train: 56.43%, Valid: 15.40% Test: 18.20%\n",
            "Epoch: 143, Loss: 1.5011, Train: 55.00%, Valid: 14.20% Test: 18.20%\n",
            "Epoch: 144, Loss: 0.0035, Train: 55.71%, Valid: 14.60% Test: 17.50%\n",
            "Epoch: 145, Loss: 3.0764, Train: 55.00%, Valid: 14.60% Test: 17.60%\n",
            "Epoch: 146, Loss: 0.5905, Train: 55.00%, Valid: 14.60% Test: 17.40%\n",
            "Epoch: 147, Loss: 0.0722, Train: 55.71%, Valid: 15.00% Test: 17.30%\n",
            "Epoch: 148, Loss: 0.0140, Train: 55.71%, Valid: 14.80% Test: 16.90%\n",
            "Epoch: 149, Loss: 0.0949, Train: 55.71%, Valid: 14.20% Test: 16.80%\n",
            "Epoch: 150, Loss: 0.6578, Train: 55.71%, Valid: 14.40% Test: 16.10%\n",
            "Saving Model Predictions for Model: cluster louvain\n",
            "Best model: Train: 26.43%, Valid: 19.60% Test: 18.30%\n"
          ]
        }
      ],
      "source": [
        "if 'IS_GRADESCOPE_ENV' not in os.environ:\n",
        "\n",
        "  set_seed()\n",
        "\n",
        "  model = GNN(graph_train.num_node_features, args['hidden_size'], graph_train.num_node_labels, args).to(args['device'])\n",
        "\n",
        "  # Disable compile as this does not seem to work yet in PyTorch 2.0.1/PyG 2.3.1\n",
        "  # try:\n",
        "  #   model = torch_geometric.compile(model)\n",
        "  #   print(f\"GNN Model compiled\")\n",
        "  # except Exception as err:\n",
        "  #   print(f\"Model compile not supported: {err}\")\n",
        "\n",
        "  optimizer = torch.optim.Adam(model.parameters(), lr=args['lr'])\n",
        "  louvain_best_model, louvain_accs = train(graphs, [graph_train, graph_val, graph_test], args, model, optimizer, mode=\"community\")\n",
        "  train_acc, val_acc, test_acc = test([graph_train, graph_val, graph_test], louvain_best_model, save_model_results=True, batch_type=\"cluster\", title=\"louvain\")\n",
        "  print('Best model:',\n",
        "        f'Train: {100 * train_acc:.2f}%, '\n",
        "        f'Valid: {100 * val_acc:.2f}% '\n",
        "        f'Test: {100 * test_acc:.2f}%')"
      ]
    },
    {
      "cell_type": "markdown",
      "metadata": {
        "id": "6CvTf0ANVO9U"
      },
      "source": [
        "## **Question 2.2a:** How does the Bisection algorithm partition our graph? (3 points)"
      ]
    },
    {
      "cell_type": "code",
      "execution_count": 62,
      "metadata": {
        "colab": {
          "base_uri": "https://localhost:8080/"
        },
        "id": "HkV0zlhgVJ7u",
        "outputId": "ca49b9c4-a060-4b24-eb56-e553f5c3153a"
      },
      "outputs": [
        {
          "output_type": "stream",
          "name": "stdout",
          "text": [
            "Index fields: val_mask ignored.\n",
            "Index fields: train_mask ignored.\n",
            "Index fields: test_mask ignored.\n",
            "Partition the graph in to 2 communities\n",
            "Each community has 1354 nodes in average\n",
            "Each community has 2397 edges in average\n"
          ]
        }
      ],
      "source": [
        "if 'IS_GRADESCOPE_ENV' not in os.environ:\n",
        "\n",
        "  set_seed()\n",
        "\n",
        "  graphs_train, graphs_val, graphs_test = \\\n",
        "      GraphDataset.pyg_to_graphs(pyg_dataset, verbose=True, fixed_split=True)\n",
        "\n",
        "  graph_train = graphs_train[0]\n",
        "  graph_val = graphs_val[0]\n",
        "  graph_test = graphs_test[0]\n",
        "  graphs = preprocess(graph_train.G, graph_train.node_label_index, method=\"bisection\")\n",
        "  print(\"Partition the graph in to {} communities\".format(len(graphs)))\n",
        "  avg_num_nodes = 0\n",
        "  avg_num_edges = 0\n",
        "  for graph in graphs:\n",
        "      avg_num_nodes += graph.num_nodes\n",
        "      avg_num_edges += graph.num_edges\n",
        "  avg_num_nodes = int(avg_num_nodes / len(graphs))\n",
        "  avg_num_edges = int(avg_num_edges / len(graphs))\n",
        "  print(\"Each community has {} nodes in average\".format(avg_num_nodes))\n",
        "  print(\"Each community has {} edges in average\".format(avg_num_edges))"
      ]
    },
    {
      "cell_type": "markdown",
      "metadata": {
        "id": "IqMCvP8wVVms"
      },
      "source": [
        "## **Question 2.2b:** Using the Bisection algorithm to partition the graph, what is the maximum test accuracy obtained by your vanilla Cluster-GCN? (6 points)\n"
      ]
    },
    {
      "cell_type": "code",
      "execution_count": 63,
      "metadata": {
        "colab": {
          "base_uri": "https://localhost:8080/"
        },
        "id": "k1wgFg1bVRGY",
        "outputId": "298d9cc6-6504-4d68-c9a3-97d3a85f8c70"
      },
      "outputs": [
        {
          "output_type": "stream",
          "name": "stdout",
          "text": [
            "Epoch: 01, Loss: 2.0529, Train: 27.86%, Valid: 8.00% Test: 11.40%\n",
            "Epoch: 02, Loss: 0.9727, Train: 39.29%, Valid: 11.60% Test: 14.40%\n",
            "Epoch: 03, Loss: 1.9658, Train: 60.71%, Valid: 24.20% Test: 28.10%\n",
            "Epoch: 04, Loss: 0.3075, Train: 81.43%, Valid: 39.60% Test: 42.80%\n",
            "Epoch: 05, Loss: 0.2130, Train: 92.86%, Valid: 52.80% Test: 51.80%\n",
            "Epoch: 06, Loss: 0.1439, Train: 96.43%, Valid: 56.60% Test: 58.00%\n",
            "Epoch: 07, Loss: 0.5617, Train: 97.86%, Valid: 63.00% Test: 63.00%\n",
            "Epoch: 08, Loss: 0.0469, Train: 99.29%, Valid: 65.40% Test: 65.40%\n",
            "Epoch: 09, Loss: 0.0303, Train: 99.29%, Valid: 66.20% Test: 67.10%\n",
            "Epoch: 10, Loss: 0.2082, Train: 100.00%, Valid: 68.20% Test: 68.80%\n",
            "Epoch: 11, Loss: 0.1262, Train: 100.00%, Valid: 69.20% Test: 69.60%\n",
            "Epoch: 12, Loss: 0.0142, Train: 100.00%, Valid: 70.40% Test: 70.20%\n",
            "Epoch: 13, Loss: 0.0139, Train: 100.00%, Valid: 70.80% Test: 70.50%\n",
            "Epoch: 14, Loss: 0.0037, Train: 100.00%, Valid: 70.80% Test: 70.90%\n",
            "Epoch: 15, Loss: 0.0561, Train: 100.00%, Valid: 70.40% Test: 71.60%\n",
            "Epoch: 16, Loss: 0.0288, Train: 100.00%, Valid: 71.20% Test: 72.10%\n",
            "Epoch: 17, Loss: 0.0029, Train: 100.00%, Valid: 71.40% Test: 71.70%\n",
            "Epoch: 18, Loss: 0.0114, Train: 100.00%, Valid: 71.40% Test: 72.10%\n",
            "Epoch: 19, Loss: 0.0056, Train: 100.00%, Valid: 71.00% Test: 72.30%\n",
            "Epoch: 20, Loss: 0.0184, Train: 100.00%, Valid: 70.80% Test: 72.60%\n",
            "Epoch: 21, Loss: 0.0061, Train: 100.00%, Valid: 70.80% Test: 72.20%\n",
            "Epoch: 22, Loss: 0.0107, Train: 100.00%, Valid: 70.80% Test: 72.90%\n",
            "Epoch: 23, Loss: 0.0021, Train: 100.00%, Valid: 71.00% Test: 73.10%\n",
            "Epoch: 24, Loss: 0.0014, Train: 100.00%, Valid: 71.00% Test: 73.10%\n",
            "Epoch: 25, Loss: 0.0011, Train: 100.00%, Valid: 71.00% Test: 73.10%\n",
            "Epoch: 26, Loss: 0.0022, Train: 100.00%, Valid: 71.40% Test: 73.10%\n",
            "Epoch: 27, Loss: 0.0035, Train: 100.00%, Valid: 71.00% Test: 73.10%\n",
            "Epoch: 28, Loss: 0.0029, Train: 100.00%, Valid: 71.00% Test: 73.30%\n",
            "Epoch: 29, Loss: 0.0005, Train: 100.00%, Valid: 71.00% Test: 73.40%\n",
            "Epoch: 30, Loss: 0.0136, Train: 100.00%, Valid: 71.40% Test: 73.60%\n",
            "Epoch: 31, Loss: 0.0007, Train: 100.00%, Valid: 71.60% Test: 73.80%\n",
            "Epoch: 32, Loss: 0.0017, Train: 100.00%, Valid: 71.80% Test: 73.80%\n",
            "Epoch: 33, Loss: 0.0012, Train: 100.00%, Valid: 72.40% Test: 74.10%\n",
            "Epoch: 34, Loss: 0.0004, Train: 100.00%, Valid: 72.80% Test: 74.00%\n",
            "Epoch: 35, Loss: 0.0007, Train: 100.00%, Valid: 72.60% Test: 74.10%\n",
            "Epoch: 36, Loss: 0.0011, Train: 100.00%, Valid: 72.60% Test: 74.10%\n",
            "Epoch: 37, Loss: 0.0016, Train: 100.00%, Valid: 72.80% Test: 74.20%\n",
            "Epoch: 38, Loss: 0.0026, Train: 100.00%, Valid: 72.60% Test: 74.40%\n",
            "Epoch: 39, Loss: 0.0001, Train: 100.00%, Valid: 73.00% Test: 74.30%\n",
            "Epoch: 40, Loss: 0.0007, Train: 100.00%, Valid: 72.60% Test: 74.40%\n",
            "Epoch: 41, Loss: 0.0002, Train: 100.00%, Valid: 72.40% Test: 74.20%\n",
            "Epoch: 42, Loss: 0.0015, Train: 100.00%, Valid: 72.60% Test: 74.40%\n",
            "Epoch: 43, Loss: 0.0006, Train: 100.00%, Valid: 72.80% Test: 74.30%\n",
            "Epoch: 44, Loss: 0.0005, Train: 100.00%, Valid: 72.80% Test: 74.20%\n",
            "Epoch: 45, Loss: 0.0004, Train: 100.00%, Valid: 73.00% Test: 74.30%\n",
            "Epoch: 46, Loss: 0.0017, Train: 100.00%, Valid: 72.80% Test: 74.20%\n",
            "Epoch: 47, Loss: 0.0035, Train: 100.00%, Valid: 73.00% Test: 74.40%\n",
            "Epoch: 48, Loss: 0.0001, Train: 100.00%, Valid: 73.00% Test: 74.60%\n",
            "Epoch: 49, Loss: 0.0001, Train: 100.00%, Valid: 72.80% Test: 74.40%\n",
            "Epoch: 50, Loss: 0.0004, Train: 100.00%, Valid: 73.00% Test: 74.60%\n",
            "Epoch: 51, Loss: 0.0002, Train: 100.00%, Valid: 72.60% Test: 74.40%\n",
            "Epoch: 52, Loss: 0.0007, Train: 100.00%, Valid: 72.60% Test: 74.40%\n",
            "Epoch: 53, Loss: 0.0004, Train: 100.00%, Valid: 72.40% Test: 74.50%\n",
            "Epoch: 54, Loss: 0.0002, Train: 100.00%, Valid: 72.40% Test: 74.40%\n",
            "Epoch: 55, Loss: 0.0000, Train: 100.00%, Valid: 72.60% Test: 74.40%\n",
            "Epoch: 56, Loss: 0.0002, Train: 100.00%, Valid: 72.40% Test: 74.40%\n",
            "Epoch: 57, Loss: 0.0002, Train: 100.00%, Valid: 72.60% Test: 74.40%\n",
            "Epoch: 58, Loss: 0.0000, Train: 100.00%, Valid: 72.60% Test: 74.00%\n",
            "Epoch: 59, Loss: 0.0007, Train: 100.00%, Valid: 72.60% Test: 74.40%\n",
            "Epoch: 60, Loss: 0.0002, Train: 100.00%, Valid: 72.40% Test: 74.30%\n",
            "Epoch: 61, Loss: 0.0002, Train: 100.00%, Valid: 72.60% Test: 74.30%\n",
            "Epoch: 62, Loss: 0.0013, Train: 100.00%, Valid: 72.60% Test: 74.30%\n",
            "Epoch: 63, Loss: 0.0004, Train: 100.00%, Valid: 72.40% Test: 74.20%\n",
            "Epoch: 64, Loss: 0.0033, Train: 100.00%, Valid: 72.20% Test: 74.30%\n",
            "Epoch: 65, Loss: 0.0057, Train: 100.00%, Valid: 72.40% Test: 74.20%\n",
            "Epoch: 66, Loss: 0.0024, Train: 100.00%, Valid: 72.20% Test: 74.30%\n",
            "Epoch: 67, Loss: 0.0012, Train: 100.00%, Valid: 72.20% Test: 74.00%\n",
            "Epoch: 68, Loss: 0.0002, Train: 100.00%, Valid: 72.60% Test: 74.00%\n",
            "Epoch: 69, Loss: 0.0001, Train: 100.00%, Valid: 72.40% Test: 73.80%\n",
            "Epoch: 70, Loss: 0.0002, Train: 100.00%, Valid: 72.40% Test: 73.80%\n",
            "Epoch: 71, Loss: 0.0001, Train: 100.00%, Valid: 72.00% Test: 73.80%\n",
            "Epoch: 72, Loss: 0.0002, Train: 100.00%, Valid: 72.00% Test: 73.90%\n",
            "Epoch: 73, Loss: 0.0001, Train: 100.00%, Valid: 72.00% Test: 74.00%\n",
            "Epoch: 74, Loss: 0.0002, Train: 100.00%, Valid: 72.20% Test: 73.70%\n",
            "Epoch: 75, Loss: 0.0002, Train: 100.00%, Valid: 72.20% Test: 73.80%\n",
            "Epoch: 76, Loss: 0.0001, Train: 100.00%, Valid: 72.20% Test: 74.10%\n",
            "Epoch: 77, Loss: 0.0000, Train: 100.00%, Valid: 72.20% Test: 73.70%\n",
            "Epoch: 78, Loss: 0.0034, Train: 100.00%, Valid: 72.20% Test: 73.50%\n",
            "Epoch: 79, Loss: 0.0002, Train: 100.00%, Valid: 72.00% Test: 73.60%\n",
            "Epoch: 80, Loss: 0.0001, Train: 100.00%, Valid: 71.80% Test: 73.60%\n",
            "Epoch: 81, Loss: 0.0006, Train: 100.00%, Valid: 72.20% Test: 73.40%\n",
            "Epoch: 82, Loss: 0.0001, Train: 100.00%, Valid: 72.20% Test: 73.30%\n",
            "Epoch: 83, Loss: 0.0001, Train: 100.00%, Valid: 72.00% Test: 73.30%\n",
            "Epoch: 84, Loss: 0.0000, Train: 100.00%, Valid: 72.00% Test: 73.20%\n",
            "Epoch: 85, Loss: 0.0011, Train: 100.00%, Valid: 72.20% Test: 73.20%\n",
            "Epoch: 86, Loss: 0.0000, Train: 100.00%, Valid: 72.00% Test: 73.30%\n",
            "Epoch: 87, Loss: 0.0003, Train: 100.00%, Valid: 72.20% Test: 73.30%\n",
            "Epoch: 88, Loss: 0.0002, Train: 100.00%, Valid: 71.60% Test: 73.20%\n",
            "Epoch: 89, Loss: 0.0012, Train: 100.00%, Valid: 71.60% Test: 73.00%\n",
            "Epoch: 90, Loss: 0.0002, Train: 100.00%, Valid: 71.40% Test: 73.10%\n",
            "Epoch: 91, Loss: 0.0011, Train: 100.00%, Valid: 71.60% Test: 73.20%\n",
            "Epoch: 92, Loss: 0.0004, Train: 100.00%, Valid: 71.60% Test: 73.30%\n",
            "Epoch: 93, Loss: 0.0002, Train: 100.00%, Valid: 71.40% Test: 73.20%\n",
            "Epoch: 94, Loss: 0.0069, Train: 100.00%, Valid: 71.40% Test: 73.40%\n",
            "Epoch: 95, Loss: 0.0002, Train: 100.00%, Valid: 71.40% Test: 73.40%\n",
            "Epoch: 96, Loss: 0.0000, Train: 100.00%, Valid: 71.60% Test: 73.30%\n",
            "Epoch: 97, Loss: 0.0003, Train: 100.00%, Valid: 71.40% Test: 73.40%\n",
            "Epoch: 98, Loss: 0.0016, Train: 100.00%, Valid: 71.20% Test: 73.20%\n",
            "Epoch: 99, Loss: 0.0000, Train: 100.00%, Valid: 71.40% Test: 73.10%\n",
            "Epoch: 100, Loss: 0.0002, Train: 100.00%, Valid: 71.40% Test: 73.30%\n",
            "Epoch: 101, Loss: 0.0002, Train: 100.00%, Valid: 71.60% Test: 73.40%\n",
            "Epoch: 102, Loss: 0.0001, Train: 100.00%, Valid: 71.40% Test: 73.70%\n",
            "Epoch: 103, Loss: 0.0001, Train: 100.00%, Valid: 71.40% Test: 74.00%\n",
            "Epoch: 104, Loss: 0.0000, Train: 100.00%, Valid: 71.40% Test: 73.70%\n",
            "Epoch: 105, Loss: 0.0001, Train: 100.00%, Valid: 71.40% Test: 73.60%\n",
            "Epoch: 106, Loss: 0.0104, Train: 100.00%, Valid: 71.00% Test: 73.80%\n",
            "Epoch: 107, Loss: 0.0004, Train: 100.00%, Valid: 71.20% Test: 73.80%\n",
            "Epoch: 108, Loss: 0.0000, Train: 100.00%, Valid: 71.00% Test: 73.80%\n",
            "Epoch: 109, Loss: 0.0005, Train: 100.00%, Valid: 71.20% Test: 73.80%\n",
            "Epoch: 110, Loss: 0.0001, Train: 100.00%, Valid: 70.80% Test: 73.70%\n",
            "Epoch: 111, Loss: 0.0005, Train: 100.00%, Valid: 71.20% Test: 73.80%\n",
            "Epoch: 112, Loss: 0.0001, Train: 100.00%, Valid: 71.40% Test: 73.70%\n",
            "Epoch: 113, Loss: 0.0002, Train: 100.00%, Valid: 72.00% Test: 73.50%\n",
            "Epoch: 114, Loss: 0.0002, Train: 100.00%, Valid: 71.80% Test: 73.60%\n",
            "Epoch: 115, Loss: 0.0000, Train: 100.00%, Valid: 71.80% Test: 73.60%\n",
            "Epoch: 116, Loss: 0.0001, Train: 100.00%, Valid: 71.80% Test: 73.60%\n",
            "Epoch: 117, Loss: 0.0004, Train: 100.00%, Valid: 72.20% Test: 73.70%\n",
            "Epoch: 118, Loss: 0.0000, Train: 100.00%, Valid: 71.80% Test: 73.70%\n",
            "Epoch: 119, Loss: 0.0004, Train: 100.00%, Valid: 72.40% Test: 73.70%\n",
            "Epoch: 120, Loss: 0.0040, Train: 100.00%, Valid: 72.20% Test: 73.50%\n",
            "Epoch: 121, Loss: 0.0000, Train: 100.00%, Valid: 71.60% Test: 73.60%\n",
            "Epoch: 122, Loss: 0.0001, Train: 100.00%, Valid: 72.20% Test: 73.60%\n",
            "Epoch: 123, Loss: 0.0002, Train: 100.00%, Valid: 72.20% Test: 73.70%\n",
            "Epoch: 124, Loss: 0.0002, Train: 100.00%, Valid: 72.20% Test: 73.60%\n",
            "Epoch: 125, Loss: 0.0001, Train: 100.00%, Valid: 72.00% Test: 73.60%\n",
            "Epoch: 126, Loss: 0.0003, Train: 100.00%, Valid: 72.00% Test: 73.60%\n",
            "Epoch: 127, Loss: 0.0000, Train: 100.00%, Valid: 71.60% Test: 73.70%\n",
            "Epoch: 128, Loss: 0.0000, Train: 100.00%, Valid: 71.20% Test: 73.60%\n",
            "Epoch: 129, Loss: 0.0000, Train: 100.00%, Valid: 71.20% Test: 73.70%\n",
            "Epoch: 130, Loss: 0.0004, Train: 100.00%, Valid: 71.20% Test: 73.60%\n",
            "Epoch: 131, Loss: 0.0001, Train: 100.00%, Valid: 71.20% Test: 73.60%\n",
            "Epoch: 132, Loss: 0.0002, Train: 100.00%, Valid: 71.40% Test: 73.60%\n",
            "Epoch: 133, Loss: 0.0002, Train: 100.00%, Valid: 71.20% Test: 73.60%\n",
            "Epoch: 134, Loss: 0.0001, Train: 100.00%, Valid: 71.60% Test: 73.70%\n",
            "Epoch: 135, Loss: 0.0002, Train: 100.00%, Valid: 71.40% Test: 73.60%\n",
            "Epoch: 136, Loss: 0.0005, Train: 100.00%, Valid: 71.80% Test: 73.60%\n",
            "Epoch: 137, Loss: 0.0001, Train: 100.00%, Valid: 71.80% Test: 73.60%\n",
            "Epoch: 138, Loss: 0.0000, Train: 100.00%, Valid: 71.20% Test: 73.60%\n",
            "Epoch: 139, Loss: 0.0004, Train: 100.00%, Valid: 71.80% Test: 73.70%\n",
            "Epoch: 140, Loss: 0.0001, Train: 100.00%, Valid: 71.80% Test: 73.60%\n",
            "Epoch: 141, Loss: 0.0001, Train: 100.00%, Valid: 71.40% Test: 73.70%\n",
            "Epoch: 142, Loss: 0.0001, Train: 100.00%, Valid: 72.20% Test: 73.60%\n",
            "Epoch: 143, Loss: 0.0004, Train: 100.00%, Valid: 71.60% Test: 73.80%\n",
            "Epoch: 144, Loss: 0.0000, Train: 100.00%, Valid: 71.40% Test: 73.70%\n",
            "Epoch: 145, Loss: 0.0000, Train: 100.00%, Valid: 71.20% Test: 73.70%\n",
            "Epoch: 146, Loss: 0.0001, Train: 100.00%, Valid: 71.40% Test: 73.70%\n",
            "Epoch: 147, Loss: 0.0000, Train: 100.00%, Valid: 71.20% Test: 73.70%\n",
            "Epoch: 148, Loss: 0.0002, Train: 100.00%, Valid: 71.60% Test: 73.60%\n",
            "Epoch: 149, Loss: 0.0000, Train: 100.00%, Valid: 71.80% Test: 73.70%\n",
            "Epoch: 150, Loss: 0.0000, Train: 100.00%, Valid: 71.60% Test: 73.50%\n",
            "Saving Model Predictions for Model: cluster bisection\n",
            "Best model: Train: 100.00%, Valid: 73.00% Test: 74.30%\n"
          ]
        }
      ],
      "source": [
        "if 'IS_GRADESCOPE_ENV' not in os.environ:\n",
        "\n",
        "  set_seed()\n",
        "\n",
        "  model = GNN(graph_train.num_node_features, args['hidden_size'], graph_train.num_node_labels, args).to(args['device'])\n",
        "\n",
        "  # Disable compile as this does not seem to work yet in PyTorch 2.0.1/PyG 2.3.1\n",
        "  # try:\n",
        "  #   model = torch_geometric.compile(model)\n",
        "  #   print(f\"GNN Model compiled\")\n",
        "  # except Exception as err:\n",
        "  #   print(f\"Model compile not supported: {err}\")\n",
        "\n",
        "  optimizer = torch.optim.Adam(model.parameters(), lr=args['lr'])\n",
        "  bisection_best_model, bisection_accs = train(graphs, [graph_train, graph_val, graph_test], args, model, optimizer, mode=\"community\")\n",
        "  train_acc, val_acc, test_acc = test([graph_train, graph_val, graph_test], bisection_best_model, save_model_results=True, batch_type=\"cluster\", title=\"bisection\")\n",
        "  print('Best model:',\n",
        "        f'Train: {100 * train_acc:.2f}%, '\n",
        "        f'Valid: {100 * val_acc:.2f}% '\n",
        "        f'Test: {100 * test_acc:.2f}%')"
      ]
    },
    {
      "cell_type": "markdown",
      "metadata": {
        "id": "5PROPwoOVcJy"
      },
      "source": [
        "## **Question 2.3a:** How does Greedy preprocessing partition our graph? (3 points)"
      ]
    },
    {
      "cell_type": "code",
      "execution_count": 64,
      "metadata": {
        "colab": {
          "base_uri": "https://localhost:8080/"
        },
        "id": "h3DVamWqVT92",
        "outputId": "4580da03-6313-43db-fee4-82df2f2d8f9e"
      },
      "outputs": [
        {
          "output_type": "stream",
          "name": "stdout",
          "text": [
            "Index fields: val_mask ignored.\n",
            "Index fields: train_mask ignored.\n",
            "Index fields: test_mask ignored.\n",
            "Partition the graph in to 20 communities\n",
            "Each community has 121 nodes in average\n",
            "Each community has 222 edges in average\n"
          ]
        }
      ],
      "source": [
        "if 'IS_GRADESCOPE_ENV' not in os.environ:\n",
        "\n",
        "  set_seed()\n",
        "\n",
        "  graphs_train, graphs_val, graphs_test = \\\n",
        "      GraphDataset.pyg_to_graphs(pyg_dataset, verbose=True, fixed_split=True)\n",
        "\n",
        "  graph_train = graphs_train[0]\n",
        "  graph_val = graphs_val[0]\n",
        "  graph_test = graphs_test[0]\n",
        "  graphs = preprocess(graph_train.G, graph_train.node_label_index, method=\"greedy\")\n",
        "  print(\"Partition the graph in to {} communities\".format(len(graphs)))\n",
        "  avg_num_nodes = 0\n",
        "  avg_num_edges = 0\n",
        "  for graph in graphs:\n",
        "      avg_num_nodes += graph.num_nodes\n",
        "      avg_num_edges += graph.num_edges\n",
        "  avg_num_nodes = int(avg_num_nodes / len(graphs))\n",
        "  avg_num_edges = int(avg_num_edges / len(graphs))\n",
        "  print(\"Each community has {} nodes in average\".format(avg_num_nodes))\n",
        "  print(\"Each community has {} edges in average\".format(avg_num_edges))"
      ]
    },
    {
      "cell_type": "markdown",
      "metadata": {
        "id": "93pR_-kxVgma"
      },
      "source": [
        "## **Question 2.3b:** Using Greedy preprocessing to partition the graph, what is the maximum test accuracy obtained by your vanilla Cluster-GCN? (6 points)"
      ]
    },
    {
      "cell_type": "code",
      "execution_count": 65,
      "metadata": {
        "colab": {
          "base_uri": "https://localhost:8080/"
        },
        "id": "lQgQY-jPVd_U",
        "outputId": "60075ae4-36b9-4d49-838d-8e2569eb5559"
      },
      "outputs": [
        {
          "output_type": "stream",
          "name": "stdout",
          "text": [
            "Epoch: 01, Loss: 2.0095, Train: 19.29%, Valid: 19.20% Test: 21.80%\n",
            "Epoch: 02, Loss: 2.5608, Train: 17.86%, Valid: 27.00% Test: 28.80%\n",
            "Epoch: 03, Loss: 2.2371, Train: 23.57%, Valid: 21.00% Test: 25.60%\n",
            "Epoch: 04, Loss: 0.3521, Train: 22.14%, Valid: 15.60% Test: 17.90%\n",
            "Epoch: 05, Loss: 1.3821, Train: 22.86%, Valid: 16.00% Test: 19.60%\n",
            "Epoch: 06, Loss: 2.1014, Train: 22.14%, Valid: 23.20% Test: 26.00%\n",
            "Epoch: 07, Loss: 2.3317, Train: 22.14%, Valid: 25.60% Test: 27.80%\n",
            "Epoch: 08, Loss: 1.2040, Train: 24.29%, Valid: 29.40% Test: 30.20%\n",
            "Epoch: 09, Loss: 3.6556, Train: 24.29%, Valid: 30.00% Test: 31.30%\n",
            "Epoch: 10, Loss: 2.5275, Train: 23.57%, Valid: 30.60% Test: 31.50%\n",
            "Epoch: 11, Loss: 2.3284, Train: 24.29%, Valid: 31.00% Test: 31.40%\n",
            "Epoch: 12, Loss: 2.7586, Train: 28.57%, Valid: 31.40% Test: 31.20%\n",
            "Epoch: 13, Loss: 2.1814, Train: 36.43%, Valid: 30.40% Test: 30.70%\n",
            "Epoch: 14, Loss: 0.0951, Train: 40.00%, Valid: 29.40% Test: 30.60%\n",
            "Epoch: 15, Loss: 0.5107, Train: 45.00%, Valid: 28.20% Test: 30.40%\n",
            "Epoch: 16, Loss: 1.0868, Train: 47.14%, Valid: 25.40% Test: 28.60%\n",
            "Epoch: 17, Loss: 0.8627, Train: 50.00%, Valid: 25.20% Test: 28.00%\n",
            "Epoch: 18, Loss: 0.1379, Train: 50.00%, Valid: 24.60% Test: 27.40%\n",
            "Epoch: 19, Loss: 1.9814, Train: 50.71%, Valid: 23.80% Test: 26.70%\n",
            "Epoch: 20, Loss: 1.1666, Train: 52.14%, Valid: 23.20% Test: 25.40%\n",
            "Epoch: 21, Loss: 0.0550, Train: 52.14%, Valid: 22.80% Test: 25.30%\n",
            "Epoch: 22, Loss: 1.0411, Train: 53.57%, Valid: 23.00% Test: 24.30%\n",
            "Epoch: 23, Loss: 1.4959, Train: 54.29%, Valid: 23.00% Test: 23.30%\n",
            "Epoch: 24, Loss: 0.5718, Train: 57.14%, Valid: 21.40% Test: 22.20%\n",
            "Epoch: 25, Loss: 2.0629, Train: 59.29%, Valid: 22.60% Test: 21.60%\n",
            "Epoch: 26, Loss: 0.6075, Train: 58.57%, Valid: 21.80% Test: 20.30%\n",
            "Epoch: 27, Loss: 3.6004, Train: 60.00%, Valid: 21.80% Test: 20.10%\n",
            "Epoch: 28, Loss: 0.0178, Train: 60.71%, Valid: 23.00% Test: 21.30%\n",
            "Epoch: 29, Loss: 0.0046, Train: 60.71%, Valid: 23.40% Test: 21.10%\n",
            "Epoch: 30, Loss: 0.0418, Train: 62.14%, Valid: 22.40% Test: 21.30%\n",
            "Epoch: 31, Loss: 2.3802, Train: 63.57%, Valid: 22.80% Test: 22.40%\n",
            "Epoch: 32, Loss: 3.0202, Train: 61.43%, Valid: 22.80% Test: 22.80%\n",
            "Epoch: 33, Loss: 0.4674, Train: 62.14%, Valid: 24.00% Test: 23.20%\n",
            "Epoch: 34, Loss: 0.8272, Train: 62.86%, Valid: 23.40% Test: 23.00%\n",
            "Epoch: 35, Loss: 4.9271, Train: 62.86%, Valid: 23.80% Test: 24.20%\n",
            "Epoch: 36, Loss: 3.8685, Train: 65.00%, Valid: 23.60% Test: 23.90%\n",
            "Epoch: 37, Loss: 2.7154, Train: 66.43%, Valid: 22.60% Test: 23.40%\n",
            "Epoch: 38, Loss: 1.0707, Train: 72.14%, Valid: 24.40% Test: 24.20%\n",
            "Epoch: 39, Loss: 0.0161, Train: 75.00%, Valid: 24.00% Test: 24.80%\n",
            "Epoch: 40, Loss: 0.5703, Train: 76.43%, Valid: 23.60% Test: 25.60%\n",
            "Epoch: 41, Loss: 0.1386, Train: 77.86%, Valid: 23.60% Test: 25.20%\n",
            "Epoch: 42, Loss: 0.1709, Train: 76.43%, Valid: 23.80% Test: 25.00%\n",
            "Epoch: 43, Loss: 1.4777, Train: 74.29%, Valid: 23.80% Test: 24.30%\n",
            "Epoch: 44, Loss: 0.4652, Train: 74.29%, Valid: 23.80% Test: 23.50%\n",
            "Epoch: 45, Loss: 1.0997, Train: 75.00%, Valid: 22.40% Test: 22.00%\n",
            "Epoch: 46, Loss: 3.0380, Train: 76.43%, Valid: 22.00% Test: 21.90%\n",
            "Epoch: 47, Loss: 0.2692, Train: 75.00%, Valid: 21.40% Test: 21.00%\n",
            "Epoch: 48, Loss: 0.1940, Train: 78.57%, Valid: 21.00% Test: 20.80%\n",
            "Epoch: 49, Loss: 0.7722, Train: 75.71%, Valid: 20.60% Test: 20.20%\n",
            "Epoch: 50, Loss: 0.4287, Train: 75.00%, Valid: 20.20% Test: 19.40%\n",
            "Epoch: 51, Loss: 0.1512, Train: 75.00%, Valid: 19.60% Test: 19.50%\n",
            "Epoch: 52, Loss: 1.5759, Train: 76.43%, Valid: 19.80% Test: 20.50%\n",
            "Epoch: 53, Loss: 0.0539, Train: 78.57%, Valid: 20.20% Test: 20.70%\n",
            "Epoch: 54, Loss: 0.8778, Train: 80.71%, Valid: 21.20% Test: 21.70%\n",
            "Epoch: 55, Loss: 0.1856, Train: 82.86%, Valid: 21.60% Test: 22.00%\n",
            "Epoch: 56, Loss: 0.9112, Train: 83.57%, Valid: 20.20% Test: 22.60%\n",
            "Epoch: 57, Loss: 0.0704, Train: 85.71%, Valid: 21.80% Test: 23.40%\n",
            "Epoch: 58, Loss: 1.0891, Train: 85.71%, Valid: 21.80% Test: 23.60%\n",
            "Epoch: 59, Loss: 0.0762, Train: 88.57%, Valid: 22.60% Test: 23.60%\n",
            "Epoch: 60, Loss: 0.7806, Train: 88.57%, Valid: 23.00% Test: 23.70%\n",
            "Epoch: 61, Loss: 0.5402, Train: 89.29%, Valid: 22.60% Test: 24.10%\n",
            "Epoch: 62, Loss: 0.0276, Train: 88.57%, Valid: 22.60% Test: 23.80%\n",
            "Epoch: 63, Loss: 0.3594, Train: 87.86%, Valid: 20.60% Test: 22.80%\n",
            "Epoch: 64, Loss: 0.1882, Train: 88.57%, Valid: 21.60% Test: 23.50%\n",
            "Epoch: 65, Loss: 0.5336, Train: 87.86%, Valid: 20.80% Test: 22.80%\n",
            "Epoch: 66, Loss: 0.5698, Train: 88.57%, Valid: 20.40% Test: 23.00%\n",
            "Epoch: 67, Loss: 0.4943, Train: 87.86%, Valid: 20.40% Test: 22.50%\n",
            "Epoch: 68, Loss: 0.1822, Train: 87.14%, Valid: 20.80% Test: 22.80%\n",
            "Epoch: 69, Loss: 0.5435, Train: 87.14%, Valid: 20.00% Test: 21.00%\n",
            "Epoch: 70, Loss: 0.0144, Train: 86.43%, Valid: 19.80% Test: 22.30%\n",
            "Epoch: 71, Loss: 0.1848, Train: 87.14%, Valid: 21.20% Test: 23.30%\n",
            "Epoch: 72, Loss: 0.3813, Train: 87.14%, Valid: 20.60% Test: 22.80%\n",
            "Epoch: 73, Loss: 0.0550, Train: 86.43%, Valid: 21.20% Test: 23.10%\n",
            "Epoch: 74, Loss: 0.0942, Train: 86.43%, Valid: 21.80% Test: 23.20%\n",
            "Epoch: 75, Loss: 0.0000, Train: 85.71%, Valid: 22.00% Test: 22.50%\n",
            "Epoch: 76, Loss: 1.5465, Train: 87.14%, Valid: 22.60% Test: 23.00%\n",
            "Epoch: 77, Loss: 0.0010, Train: 87.86%, Valid: 23.40% Test: 24.10%\n",
            "Epoch: 78, Loss: 0.3932, Train: 88.57%, Valid: 24.20% Test: 24.80%\n",
            "Epoch: 79, Loss: 0.0536, Train: 88.57%, Valid: 26.20% Test: 26.20%\n",
            "Epoch: 80, Loss: 0.2431, Train: 89.29%, Valid: 25.40% Test: 27.10%\n",
            "Epoch: 81, Loss: 0.0443, Train: 87.86%, Valid: 24.80% Test: 26.60%\n",
            "Epoch: 82, Loss: 0.1283, Train: 87.86%, Valid: 26.00% Test: 26.80%\n",
            "Epoch: 83, Loss: 0.0598, Train: 89.29%, Valid: 26.20% Test: 27.10%\n",
            "Epoch: 84, Loss: 0.0008, Train: 90.00%, Valid: 27.00% Test: 28.10%\n",
            "Epoch: 85, Loss: 0.1248, Train: 89.29%, Valid: 26.20% Test: 28.10%\n",
            "Epoch: 86, Loss: 0.0001, Train: 90.00%, Valid: 26.80% Test: 27.40%\n",
            "Epoch: 87, Loss: 0.0292, Train: 89.29%, Valid: 26.40% Test: 28.00%\n",
            "Epoch: 88, Loss: 0.0669, Train: 87.86%, Valid: 27.20% Test: 27.60%\n",
            "Epoch: 89, Loss: 0.0002, Train: 88.57%, Valid: 26.60% Test: 28.80%\n",
            "Epoch: 90, Loss: 0.0456, Train: 89.29%, Valid: 25.80% Test: 28.60%\n",
            "Epoch: 91, Loss: 0.1480, Train: 88.57%, Valid: 26.80% Test: 28.80%\n",
            "Epoch: 92, Loss: 0.0504, Train: 89.29%, Valid: 27.20% Test: 28.80%\n",
            "Epoch: 93, Loss: 0.0000, Train: 88.57%, Valid: 27.40% Test: 29.40%\n",
            "Epoch: 94, Loss: 0.0114, Train: 87.86%, Valid: 26.80% Test: 29.40%\n",
            "Epoch: 95, Loss: 0.0371, Train: 87.86%, Valid: 27.20% Test: 29.60%\n",
            "Epoch: 96, Loss: 0.2234, Train: 89.29%, Valid: 27.40% Test: 30.10%\n",
            "Epoch: 97, Loss: 0.1775, Train: 89.29%, Valid: 28.00% Test: 29.80%\n",
            "Epoch: 98, Loss: 0.1924, Train: 89.29%, Valid: 29.00% Test: 29.70%\n",
            "Epoch: 99, Loss: 0.2451, Train: 89.29%, Valid: 28.80% Test: 29.30%\n",
            "Epoch: 100, Loss: 0.0608, Train: 90.00%, Valid: 28.80% Test: 29.60%\n",
            "Epoch: 101, Loss: 0.0144, Train: 89.29%, Valid: 28.20% Test: 29.00%\n",
            "Epoch: 102, Loss: 0.0122, Train: 89.29%, Valid: 28.60% Test: 28.80%\n",
            "Epoch: 103, Loss: 0.0015, Train: 90.00%, Valid: 29.00% Test: 29.70%\n",
            "Epoch: 104, Loss: 0.0570, Train: 90.00%, Valid: 29.20% Test: 29.90%\n",
            "Epoch: 105, Loss: 0.0525, Train: 90.00%, Valid: 29.80% Test: 30.00%\n",
            "Epoch: 106, Loss: 0.0077, Train: 90.00%, Valid: 29.80% Test: 31.30%\n",
            "Epoch: 107, Loss: 0.0031, Train: 90.00%, Valid: 30.60% Test: 30.90%\n",
            "Epoch: 108, Loss: 0.0000, Train: 90.00%, Valid: 29.80% Test: 30.10%\n",
            "Epoch: 109, Loss: 0.0010, Train: 90.00%, Valid: 29.40% Test: 29.80%\n",
            "Epoch: 110, Loss: 0.0000, Train: 90.00%, Valid: 29.60% Test: 29.30%\n",
            "Epoch: 111, Loss: 0.0043, Train: 90.00%, Valid: 29.20% Test: 29.00%\n",
            "Epoch: 112, Loss: 0.0019, Train: 90.00%, Valid: 30.60% Test: 30.50%\n",
            "Epoch: 113, Loss: 0.0042, Train: 90.00%, Valid: 30.60% Test: 30.00%\n",
            "Epoch: 114, Loss: 0.0004, Train: 90.00%, Valid: 29.60% Test: 29.50%\n",
            "Epoch: 115, Loss: 0.0389, Train: 90.00%, Valid: 30.40% Test: 29.80%\n",
            "Epoch: 116, Loss: 0.0752, Train: 90.00%, Valid: 30.20% Test: 28.70%\n",
            "Epoch: 117, Loss: 0.0000, Train: 90.00%, Valid: 29.20% Test: 29.10%\n",
            "Epoch: 118, Loss: 0.0014, Train: 90.00%, Valid: 29.80% Test: 28.80%\n",
            "Epoch: 119, Loss: 0.0033, Train: 90.00%, Valid: 29.20% Test: 29.00%\n",
            "Epoch: 120, Loss: 0.0464, Train: 90.00%, Valid: 29.80% Test: 30.40%\n",
            "Epoch: 121, Loss: 0.0193, Train: 90.00%, Valid: 29.80% Test: 30.00%\n",
            "Epoch: 122, Loss: 0.0004, Train: 90.00%, Valid: 30.60% Test: 31.00%\n",
            "Epoch: 123, Loss: 0.0176, Train: 90.00%, Valid: 30.20% Test: 30.60%\n",
            "Epoch: 124, Loss: 0.1004, Train: 90.00%, Valid: 29.60% Test: 30.80%\n",
            "Epoch: 125, Loss: 0.0416, Train: 90.00%, Valid: 28.60% Test: 29.90%\n",
            "Epoch: 126, Loss: 0.0687, Train: 90.00%, Valid: 26.80% Test: 28.60%\n",
            "Epoch: 127, Loss: 0.0013, Train: 90.00%, Valid: 28.20% Test: 28.50%\n",
            "Epoch: 128, Loss: 0.0004, Train: 90.71%, Valid: 27.60% Test: 29.10%\n",
            "Epoch: 129, Loss: 0.0001, Train: 90.00%, Valid: 29.00% Test: 29.30%\n",
            "Epoch: 130, Loss: 0.2494, Train: 90.00%, Valid: 28.60% Test: 29.60%\n",
            "Epoch: 131, Loss: 0.1116, Train: 90.00%, Valid: 28.40% Test: 29.60%\n",
            "Epoch: 132, Loss: 0.0012, Train: 90.00%, Valid: 28.80% Test: 29.70%\n",
            "Epoch: 133, Loss: 0.0004, Train: 90.00%, Valid: 29.00% Test: 29.50%\n",
            "Epoch: 134, Loss: 0.0000, Train: 90.00%, Valid: 29.40% Test: 29.70%\n",
            "Epoch: 135, Loss: 0.1102, Train: 90.00%, Valid: 28.20% Test: 29.10%\n",
            "Epoch: 136, Loss: 0.0328, Train: 90.00%, Valid: 29.00% Test: 29.10%\n",
            "Epoch: 137, Loss: 0.0005, Train: 90.00%, Valid: 28.20% Test: 28.40%\n",
            "Epoch: 138, Loss: 0.0056, Train: 90.00%, Valid: 28.80% Test: 28.90%\n",
            "Epoch: 139, Loss: 0.1002, Train: 90.00%, Valid: 28.80% Test: 29.10%\n",
            "Epoch: 140, Loss: 0.0035, Train: 88.57%, Valid: 27.20% Test: 28.80%\n",
            "Epoch: 141, Loss: 0.1383, Train: 88.57%, Valid: 27.60% Test: 28.40%\n",
            "Epoch: 142, Loss: 0.0001, Train: 88.57%, Valid: 26.80% Test: 28.50%\n",
            "Epoch: 143, Loss: 0.0156, Train: 88.57%, Valid: 26.80% Test: 28.70%\n",
            "Epoch: 144, Loss: 0.0103, Train: 88.57%, Valid: 27.00% Test: 28.90%\n",
            "Epoch: 145, Loss: 0.1265, Train: 89.29%, Valid: 26.20% Test: 28.40%\n",
            "Epoch: 146, Loss: 0.0128, Train: 89.29%, Valid: 26.80% Test: 28.20%\n",
            "Epoch: 147, Loss: 0.0001, Train: 88.57%, Valid: 27.60% Test: 27.80%\n",
            "Epoch: 148, Loss: 0.0000, Train: 89.29%, Valid: 27.00% Test: 28.70%\n",
            "Epoch: 149, Loss: 0.0036, Train: 89.29%, Valid: 27.60% Test: 28.70%\n",
            "Epoch: 150, Loss: 0.0152, Train: 88.57%, Valid: 26.60% Test: 27.70%\n",
            "Saving Model Predictions for Model: cluster greedy\n",
            "Best model: Train: 28.57%, Valid: 31.40% Test: 31.20%\n"
          ]
        }
      ],
      "source": [
        "if 'IS_GRADESCOPE_ENV' not in os.environ:\n",
        "\n",
        "  set_seed()\n",
        "\n",
        "  model = GNN(graph_train.num_node_features, args['hidden_size'], graph_train.num_node_labels, args).to(args['device'])\n",
        "\n",
        "  # Disable compile as this does not seem to work yet in PyTorch 2.0.1/PyG 2.3.1\n",
        "  # try:\n",
        "  #   model = torch_geometric.compile(model)\n",
        "  #   print(f\"GNN Model compiled\")\n",
        "  # except Exception as err:\n",
        "  #   print(f\"Model compile not supported: {err}\")\n",
        "\n",
        "  optimizer = torch.optim.Adam(model.parameters(), lr=args['lr'])\n",
        "  greedy_best_model, greedy_accs = train(graphs, [graph_train, graph_val, graph_test], args, model, optimizer, mode=\"community\")\n",
        "  train_acc, val_acc, test_acc = test([graph_train, graph_val, graph_test], greedy_best_model, save_model_results=True, batch_type=\"cluster\", title=\"greedy\")\n",
        "  print('Best model:',\n",
        "        f'Train: {100 * train_acc:.2f}%, '\n",
        "        f'Valid: {100 * val_acc:.2f}% '\n",
        "        f'Test: {100 * test_acc:.2f}%')"
      ]
    },
    {
      "cell_type": "markdown",
      "metadata": {
        "id": "D5edKKT6Vk1C"
      },
      "source": [
        "## Full-Batch Training"
      ]
    },
    {
      "cell_type": "code",
      "execution_count": 66,
      "metadata": {
        "colab": {
          "base_uri": "https://localhost:8080/"
        },
        "id": "N5tIXxC8ViFD",
        "outputId": "5619f8ea-9d70-4c69-de4a-ece7ef042d85"
      },
      "outputs": [
        {
          "output_type": "stream",
          "name": "stdout",
          "text": [
            "Index fields: val_mask ignored.\n",
            "Index fields: train_mask ignored.\n",
            "Index fields: test_mask ignored.\n",
            "Epoch: 01, Loss: 2.0470, Train: 59.29%, Valid: 26.80% Test: 30.60%\n",
            "Epoch: 02, Loss: 1.1333, Train: 97.14%, Valid: 53.00% Test: 57.20%\n",
            "Epoch: 03, Loss: 0.6012, Train: 100.00%, Valid: 67.80% Test: 69.10%\n",
            "Epoch: 04, Loss: 0.2909, Train: 100.00%, Valid: 72.40% Test: 73.80%\n",
            "Epoch: 05, Loss: 0.1524, Train: 100.00%, Valid: 75.20% Test: 75.00%\n",
            "Epoch: 06, Loss: 0.0756, Train: 100.00%, Valid: 75.00% Test: 76.10%\n",
            "Epoch: 07, Loss: 0.0394, Train: 100.00%, Valid: 76.00% Test: 76.00%\n",
            "Epoch: 08, Loss: 0.0200, Train: 100.00%, Valid: 76.00% Test: 75.90%\n",
            "Epoch: 09, Loss: 0.0105, Train: 100.00%, Valid: 75.60% Test: 75.70%\n",
            "Epoch: 10, Loss: 0.0046, Train: 100.00%, Valid: 76.00% Test: 75.80%\n",
            "Epoch: 11, Loss: 0.0048, Train: 100.00%, Valid: 76.00% Test: 76.10%\n",
            "Epoch: 12, Loss: 0.0061, Train: 100.00%, Valid: 75.80% Test: 76.40%\n",
            "Epoch: 13, Loss: 0.0033, Train: 100.00%, Valid: 76.00% Test: 76.20%\n",
            "Epoch: 14, Loss: 0.0018, Train: 100.00%, Valid: 75.40% Test: 76.20%\n",
            "Epoch: 15, Loss: 0.0013, Train: 100.00%, Valid: 75.40% Test: 76.10%\n",
            "Epoch: 16, Loss: 0.0014, Train: 100.00%, Valid: 75.20% Test: 75.80%\n",
            "Epoch: 17, Loss: 0.0007, Train: 100.00%, Valid: 75.20% Test: 76.00%\n",
            "Epoch: 18, Loss: 0.0006, Train: 100.00%, Valid: 75.00% Test: 76.20%\n",
            "Epoch: 19, Loss: 0.0004, Train: 100.00%, Valid: 75.00% Test: 76.40%\n",
            "Epoch: 20, Loss: 0.0007, Train: 100.00%, Valid: 74.80% Test: 76.40%\n",
            "Epoch: 21, Loss: 0.0002, Train: 100.00%, Valid: 74.40% Test: 76.20%\n",
            "Epoch: 22, Loss: 0.0002, Train: 100.00%, Valid: 74.20% Test: 76.10%\n",
            "Epoch: 23, Loss: 0.0003, Train: 100.00%, Valid: 74.20% Test: 76.10%\n",
            "Epoch: 24, Loss: 0.0003, Train: 100.00%, Valid: 74.00% Test: 76.30%\n",
            "Epoch: 25, Loss: 0.0007, Train: 100.00%, Valid: 74.00% Test: 76.30%\n",
            "Epoch: 26, Loss: 0.0004, Train: 100.00%, Valid: 74.00% Test: 76.30%\n",
            "Epoch: 27, Loss: 0.0001, Train: 100.00%, Valid: 73.80% Test: 76.30%\n",
            "Epoch: 28, Loss: 0.0001, Train: 100.00%, Valid: 73.80% Test: 76.50%\n",
            "Epoch: 29, Loss: 0.0002, Train: 100.00%, Valid: 73.80% Test: 76.50%\n",
            "Epoch: 30, Loss: 0.0001, Train: 100.00%, Valid: 73.80% Test: 76.50%\n",
            "Epoch: 31, Loss: 0.0002, Train: 100.00%, Valid: 73.80% Test: 76.60%\n",
            "Epoch: 32, Loss: 0.0009, Train: 100.00%, Valid: 73.80% Test: 76.60%\n",
            "Epoch: 33, Loss: 0.0002, Train: 100.00%, Valid: 74.20% Test: 76.60%\n",
            "Epoch: 34, Loss: 0.0003, Train: 100.00%, Valid: 74.00% Test: 76.60%\n",
            "Epoch: 35, Loss: 0.0003, Train: 100.00%, Valid: 73.80% Test: 76.50%\n",
            "Epoch: 36, Loss: 0.0003, Train: 100.00%, Valid: 73.80% Test: 76.60%\n",
            "Epoch: 37, Loss: 0.0001, Train: 100.00%, Valid: 73.80% Test: 76.60%\n",
            "Epoch: 38, Loss: 0.0000, Train: 100.00%, Valid: 73.80% Test: 76.60%\n",
            "Epoch: 39, Loss: 0.0000, Train: 100.00%, Valid: 73.80% Test: 76.70%\n",
            "Epoch: 40, Loss: 0.0003, Train: 100.00%, Valid: 73.80% Test: 76.70%\n",
            "Epoch: 41, Loss: 0.0002, Train: 100.00%, Valid: 73.80% Test: 76.70%\n",
            "Epoch: 42, Loss: 0.0002, Train: 100.00%, Valid: 74.00% Test: 76.70%\n",
            "Epoch: 43, Loss: 0.0000, Train: 100.00%, Valid: 74.00% Test: 76.60%\n",
            "Epoch: 44, Loss: 0.0002, Train: 100.00%, Valid: 74.00% Test: 76.60%\n",
            "Epoch: 45, Loss: 0.0001, Train: 100.00%, Valid: 74.00% Test: 76.60%\n",
            "Epoch: 46, Loss: 0.0001, Train: 100.00%, Valid: 74.00% Test: 76.60%\n",
            "Epoch: 47, Loss: 0.0001, Train: 100.00%, Valid: 74.00% Test: 76.60%\n",
            "Epoch: 48, Loss: 0.0000, Train: 100.00%, Valid: 74.00% Test: 76.70%\n",
            "Epoch: 49, Loss: 0.0000, Train: 100.00%, Valid: 74.00% Test: 76.70%\n",
            "Epoch: 50, Loss: 0.0003, Train: 100.00%, Valid: 73.80% Test: 76.90%\n",
            "Epoch: 51, Loss: 0.0000, Train: 100.00%, Valid: 73.80% Test: 76.80%\n",
            "Epoch: 52, Loss: 0.0002, Train: 100.00%, Valid: 73.80% Test: 76.80%\n",
            "Epoch: 53, Loss: 0.0001, Train: 100.00%, Valid: 73.80% Test: 76.90%\n",
            "Epoch: 54, Loss: 0.0000, Train: 100.00%, Valid: 73.80% Test: 76.80%\n",
            "Epoch: 55, Loss: 0.0003, Train: 100.00%, Valid: 73.80% Test: 76.90%\n",
            "Epoch: 56, Loss: 0.0000, Train: 100.00%, Valid: 73.80% Test: 76.90%\n",
            "Epoch: 57, Loss: 0.0000, Train: 100.00%, Valid: 73.60% Test: 76.90%\n",
            "Epoch: 58, Loss: 0.0000, Train: 100.00%, Valid: 73.60% Test: 77.00%\n",
            "Epoch: 59, Loss: 0.0000, Train: 100.00%, Valid: 73.60% Test: 77.00%\n",
            "Epoch: 60, Loss: 0.0001, Train: 100.00%, Valid: 73.60% Test: 77.10%\n",
            "Epoch: 61, Loss: 0.0000, Train: 100.00%, Valid: 73.60% Test: 77.10%\n",
            "Epoch: 62, Loss: 0.0000, Train: 100.00%, Valid: 73.60% Test: 77.10%\n",
            "Epoch: 63, Loss: 0.0000, Train: 100.00%, Valid: 73.40% Test: 77.10%\n",
            "Epoch: 64, Loss: 0.0002, Train: 100.00%, Valid: 73.60% Test: 77.00%\n",
            "Epoch: 65, Loss: 0.0001, Train: 100.00%, Valid: 73.60% Test: 76.90%\n",
            "Epoch: 66, Loss: 0.0002, Train: 100.00%, Valid: 73.60% Test: 76.90%\n",
            "Epoch: 67, Loss: 0.0000, Train: 100.00%, Valid: 73.60% Test: 76.90%\n",
            "Epoch: 68, Loss: 0.0000, Train: 100.00%, Valid: 73.60% Test: 76.90%\n",
            "Epoch: 69, Loss: 0.0001, Train: 100.00%, Valid: 73.60% Test: 76.90%\n",
            "Epoch: 70, Loss: 0.0005, Train: 100.00%, Valid: 73.80% Test: 76.80%\n",
            "Epoch: 71, Loss: 0.0001, Train: 100.00%, Valid: 73.80% Test: 76.80%\n",
            "Epoch: 72, Loss: 0.0000, Train: 100.00%, Valid: 73.80% Test: 76.80%\n",
            "Epoch: 73, Loss: 0.0000, Train: 100.00%, Valid: 73.80% Test: 76.80%\n",
            "Epoch: 74, Loss: 0.0002, Train: 100.00%, Valid: 73.80% Test: 76.70%\n",
            "Epoch: 75, Loss: 0.0002, Train: 100.00%, Valid: 73.80% Test: 76.70%\n",
            "Epoch: 76, Loss: 0.0001, Train: 100.00%, Valid: 73.80% Test: 76.70%\n",
            "Epoch: 77, Loss: 0.0003, Train: 100.00%, Valid: 73.80% Test: 76.70%\n",
            "Epoch: 78, Loss: 0.0000, Train: 100.00%, Valid: 73.80% Test: 76.70%\n",
            "Epoch: 79, Loss: 0.0001, Train: 100.00%, Valid: 73.80% Test: 76.60%\n",
            "Epoch: 80, Loss: 0.0001, Train: 100.00%, Valid: 73.80% Test: 76.50%\n",
            "Epoch: 81, Loss: 0.0002, Train: 100.00%, Valid: 73.80% Test: 76.50%\n",
            "Epoch: 82, Loss: 0.0000, Train: 100.00%, Valid: 73.80% Test: 76.50%\n",
            "Epoch: 83, Loss: 0.0000, Train: 100.00%, Valid: 73.80% Test: 76.60%\n",
            "Epoch: 84, Loss: 0.0000, Train: 100.00%, Valid: 73.80% Test: 76.60%\n",
            "Epoch: 85, Loss: 0.0003, Train: 100.00%, Valid: 73.80% Test: 76.60%\n",
            "Epoch: 86, Loss: 0.0000, Train: 100.00%, Valid: 73.80% Test: 76.70%\n",
            "Epoch: 87, Loss: 0.0001, Train: 100.00%, Valid: 73.80% Test: 76.80%\n",
            "Epoch: 88, Loss: 0.0000, Train: 100.00%, Valid: 73.80% Test: 76.80%\n",
            "Epoch: 89, Loss: 0.0000, Train: 100.00%, Valid: 73.80% Test: 76.80%\n",
            "Epoch: 90, Loss: 0.0000, Train: 100.00%, Valid: 73.80% Test: 76.80%\n",
            "Epoch: 91, Loss: 0.0000, Train: 100.00%, Valid: 73.80% Test: 76.80%\n",
            "Epoch: 92, Loss: 0.0003, Train: 100.00%, Valid: 74.00% Test: 76.80%\n",
            "Epoch: 93, Loss: 0.0000, Train: 100.00%, Valid: 74.00% Test: 76.80%\n",
            "Epoch: 94, Loss: 0.0000, Train: 100.00%, Valid: 74.00% Test: 76.80%\n",
            "Epoch: 95, Loss: 0.0000, Train: 100.00%, Valid: 74.00% Test: 76.70%\n",
            "Epoch: 96, Loss: 0.0000, Train: 100.00%, Valid: 73.80% Test: 76.70%\n",
            "Epoch: 97, Loss: 0.0001, Train: 100.00%, Valid: 73.80% Test: 76.70%\n",
            "Epoch: 98, Loss: 0.0000, Train: 100.00%, Valid: 74.00% Test: 76.80%\n",
            "Epoch: 99, Loss: 0.0004, Train: 100.00%, Valid: 74.00% Test: 76.80%\n",
            "Epoch: 100, Loss: 0.0000, Train: 100.00%, Valid: 74.00% Test: 76.80%\n",
            "Epoch: 101, Loss: 0.0003, Train: 100.00%, Valid: 74.00% Test: 76.70%\n",
            "Epoch: 102, Loss: 0.0000, Train: 100.00%, Valid: 74.00% Test: 76.70%\n",
            "Epoch: 103, Loss: 0.0001, Train: 100.00%, Valid: 74.20% Test: 76.70%\n",
            "Epoch: 104, Loss: 0.0000, Train: 100.00%, Valid: 74.20% Test: 76.70%\n",
            "Epoch: 105, Loss: 0.0000, Train: 100.00%, Valid: 74.20% Test: 76.70%\n",
            "Epoch: 106, Loss: 0.0000, Train: 100.00%, Valid: 74.20% Test: 76.70%\n",
            "Epoch: 107, Loss: 0.0011, Train: 100.00%, Valid: 74.20% Test: 76.70%\n",
            "Epoch: 108, Loss: 0.0000, Train: 100.00%, Valid: 74.20% Test: 76.70%\n",
            "Epoch: 109, Loss: 0.0000, Train: 100.00%, Valid: 74.20% Test: 76.70%\n",
            "Epoch: 110, Loss: 0.0001, Train: 100.00%, Valid: 74.00% Test: 76.40%\n",
            "Epoch: 111, Loss: 0.0000, Train: 100.00%, Valid: 74.20% Test: 76.40%\n",
            "Epoch: 112, Loss: 0.0000, Train: 100.00%, Valid: 74.20% Test: 76.40%\n",
            "Epoch: 113, Loss: 0.0000, Train: 100.00%, Valid: 74.20% Test: 76.40%\n",
            "Epoch: 114, Loss: 0.0001, Train: 100.00%, Valid: 74.20% Test: 76.40%\n",
            "Epoch: 115, Loss: 0.0000, Train: 100.00%, Valid: 74.20% Test: 76.40%\n",
            "Epoch: 116, Loss: 0.0000, Train: 100.00%, Valid: 74.20% Test: 76.40%\n",
            "Epoch: 117, Loss: 0.0001, Train: 100.00%, Valid: 74.20% Test: 76.40%\n",
            "Epoch: 118, Loss: 0.0001, Train: 100.00%, Valid: 74.20% Test: 76.40%\n",
            "Epoch: 119, Loss: 0.0000, Train: 100.00%, Valid: 74.20% Test: 76.40%\n",
            "Epoch: 120, Loss: 0.0000, Train: 100.00%, Valid: 74.20% Test: 76.40%\n",
            "Epoch: 121, Loss: 0.0001, Train: 100.00%, Valid: 74.20% Test: 76.40%\n",
            "Epoch: 122, Loss: 0.0001, Train: 100.00%, Valid: 74.20% Test: 76.40%\n",
            "Epoch: 123, Loss: 0.0001, Train: 100.00%, Valid: 74.20% Test: 76.40%\n",
            "Epoch: 124, Loss: 0.0000, Train: 100.00%, Valid: 74.00% Test: 76.40%\n",
            "Epoch: 125, Loss: 0.0001, Train: 100.00%, Valid: 74.00% Test: 76.40%\n",
            "Epoch: 126, Loss: 0.0000, Train: 100.00%, Valid: 74.00% Test: 76.40%\n",
            "Epoch: 127, Loss: 0.0001, Train: 100.00%, Valid: 74.00% Test: 76.30%\n",
            "Epoch: 128, Loss: 0.0000, Train: 100.00%, Valid: 74.00% Test: 76.30%\n",
            "Epoch: 129, Loss: 0.0000, Train: 100.00%, Valid: 74.00% Test: 76.30%\n",
            "Epoch: 130, Loss: 0.0001, Train: 100.00%, Valid: 74.00% Test: 76.30%\n",
            "Epoch: 131, Loss: 0.0000, Train: 100.00%, Valid: 74.00% Test: 76.20%\n",
            "Epoch: 132, Loss: 0.0001, Train: 100.00%, Valid: 74.00% Test: 76.20%\n",
            "Epoch: 133, Loss: 0.0003, Train: 100.00%, Valid: 74.20% Test: 76.20%\n",
            "Epoch: 134, Loss: 0.0000, Train: 100.00%, Valid: 74.20% Test: 76.30%\n",
            "Epoch: 135, Loss: 0.0000, Train: 100.00%, Valid: 74.20% Test: 76.30%\n",
            "Epoch: 136, Loss: 0.0030, Train: 100.00%, Valid: 73.80% Test: 76.40%\n",
            "Epoch: 137, Loss: 0.0000, Train: 100.00%, Valid: 74.00% Test: 76.40%\n",
            "Epoch: 138, Loss: 0.0000, Train: 100.00%, Valid: 74.00% Test: 76.30%\n",
            "Epoch: 139, Loss: 0.0000, Train: 100.00%, Valid: 74.00% Test: 76.30%\n",
            "Epoch: 140, Loss: 0.0004, Train: 100.00%, Valid: 74.00% Test: 76.40%\n",
            "Epoch: 141, Loss: 0.0000, Train: 100.00%, Valid: 73.80% Test: 76.40%\n",
            "Epoch: 142, Loss: 0.0004, Train: 100.00%, Valid: 74.00% Test: 76.40%\n",
            "Epoch: 143, Loss: 0.0001, Train: 100.00%, Valid: 74.00% Test: 76.40%\n",
            "Epoch: 144, Loss: 0.0000, Train: 100.00%, Valid: 73.80% Test: 76.30%\n",
            "Epoch: 145, Loss: 0.0000, Train: 100.00%, Valid: 73.60% Test: 76.30%\n",
            "Epoch: 146, Loss: 0.0001, Train: 100.00%, Valid: 73.60% Test: 76.30%\n",
            "Epoch: 147, Loss: 0.0000, Train: 100.00%, Valid: 73.60% Test: 76.20%\n",
            "Epoch: 148, Loss: 0.0000, Train: 100.00%, Valid: 73.60% Test: 76.20%\n",
            "Epoch: 149, Loss: 0.0000, Train: 100.00%, Valid: 73.60% Test: 76.20%\n",
            "Epoch: 150, Loss: 0.0000, Train: 100.00%, Valid: 73.60% Test: 76.20%\n",
            "Best model: Train: 100.00%, Valid: 76.00% Test: 76.00%\n"
          ]
        }
      ],
      "source": [
        "if 'IS_GRADESCOPE_ENV' not in os.environ:\n",
        "\n",
        "  set_seed()\n",
        "\n",
        "  graphs_train, graphs_val, graphs_test = \\\n",
        "      GraphDataset.pyg_to_graphs(pyg_dataset, verbose=True, fixed_split=True)\n",
        "\n",
        "  graph_train = graphs_train[0]\n",
        "  graph_val = graphs_val[0]\n",
        "  graph_test = graphs_test[0]\n",
        "\n",
        "  model = GNN(graph_train.num_node_features, args['hidden_size'], graph_train.num_node_labels, args).to(args['device'])\n",
        "\n",
        "  # Disable compile as this does not seem to work yet in PyTorch 2.0.1/PyG 2.3.1\n",
        "  # try:\n",
        "  #   model = torch_geometric.compile(model)\n",
        "  #   print(f\"GNN Model compiled\")\n",
        "  # except Exception as err:\n",
        "  #   print(f\"Model compile not supported: {err}\")\n",
        "\n",
        "  optimizer = torch.optim.Adam(model.parameters(), lr=args['lr'])\n",
        "  graphs = [graph_train, graph_val, graph_test]\n",
        "  all_best_model, all_accs = train(graphs, graphs, args, model, optimizer, mode=\"all\")\n",
        "  train_acc, val_acc, test_acc = test([graph_train, graph_val, graph_test], all_best_model)\n",
        "  print('Best model:',\n",
        "        f'Train: {100 * train_acc:.2f}%, '\n",
        "        f'Valid: {100 * val_acc:.2f}% '\n",
        "        f'Test: {100 * test_acc:.2f}%')"
      ]
    },
    {
      "cell_type": "markdown",
      "metadata": {
        "id": "6RpuETv7Vpx0"
      },
      "source": [
        "## Visualization"
      ]
    },
    {
      "cell_type": "code",
      "execution_count": 67,
      "metadata": {
        "colab": {
          "base_uri": "https://localhost:8080/",
          "height": 641
        },
        "id": "PMK33kY5VmF5",
        "outputId": "958e3c3e-e3bc-4624-e128-018bf2273d80"
      },
      "outputs": [
        {
          "output_type": "display_data",
          "data": {
            "text/plain": [
              "<Figure size 900x700 with 1 Axes>"
            ],
            "image/png": "[encoded data removed]"
          },
          "metadata": {}
        }
      ],
      "source": [
        "import numpy as np\n",
        "from matplotlib import pyplot as plt\n",
        "\n",
        "if 'IS_GRADESCOPE_ENV' not in os.environ:\n",
        "  louvain_results = np.array(louvain_accs)\n",
        "  bisection_results = np.array(bisection_accs)\n",
        "  greedy_results = np.array(greedy_accs)\n",
        "  all_results = np.array(all_accs)\n",
        "\n",
        "  x = np.arange(1, 151)\n",
        "\n",
        "  plt.figure(figsize=(9, 7))\n",
        "\n",
        "  plt.plot(x, louvain_results[:, 1], label=\"Louvain Validation\")\n",
        "  plt.plot(x, louvain_results[:, 2], label=\"Louvain Test\")\n",
        "  plt.plot(x, bisection_results[:, 1], label=\"Bisection Validation\")\n",
        "  plt.plot(x, bisection_results[:, 2], label=\"Bisection Test\")\n",
        "  plt.plot(x, greedy_results[:, 1], label=\"Greedy Validation\")\n",
        "  plt.plot(x, greedy_results[:, 2], label=\"Greedy Test\")\n",
        "  plt.plot(x, all_results[:, 1], label=\"All Validation\")\n",
        "  plt.plot(x, all_results[:, 2], label=\"All Test\")\n",
        "  plt.title('Model Accuracy')\n",
        "  plt.ylabel('Accuracy')\n",
        "  plt.xlabel('Epoch')\n",
        "  plt.legend()\n",
        "  plt.show()"
      ]
    },
    {
      "cell_type": "markdown",
      "metadata": {
        "id": "kfucBiYfVYFF"
      },
      "source": [
        "# Submission\n",
        "\n",
        "You will need to submit three files on Gradescope to complete this notebook.\n",
        "\n",
        "1.   Your completed *XCS224W_Colab5.ipynb*. From the \"File\" menu select \"Download .ipynb\" to save a local copy of your completed Colab.\n",
        "2.  *CORA_Node_batch_(0.7,0.9,1).csv*\n",
        "3.  *CORA_Node_batch_(0.3,0.5,1).csv*\n",
        "4.  *CORA_Node_cluster_louvain.csv*\n",
        "5.  *CORA_Node_cluster_greedy.csv*\n",
        "6.  *CORA_Node_cluster_bisection.csv*\n",
        "\n",
        "Download the csv files by selecting the *Folder* icon on the left panel.\n",
        "\n",
        "To submit your work, zip the files downloaded in steps 1-7 above and submit to gradescope. **NOTE:** DO NOT rename any of the downloaded files."
      ]
    }
  ],
  "metadata": {
    "colab": {
      "provenance": []
    },
    "kernelspec": {
      "display_name": "Python 3",
      "name": "python3"
    },
    "language_info": {
      "codemirror_mode": {
        "name": "ipython",
        "version": 3
      },
      "file_extension": ".py",
      "mimetype": "text/x-python",
      "name": "python",
      "nbconvert_exporter": "python",
      "pygments_lexer": "ipython3",
      "version": "3.10.14"
    }
  },
  "nbformat": 4,
  "nbformat_minor": 0
}